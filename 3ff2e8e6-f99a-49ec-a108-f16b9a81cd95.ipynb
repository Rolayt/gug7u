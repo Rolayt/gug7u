{
 "cells": [
  {
   "cell_type": "markdown",
   "metadata": {},
   "source": [
    "<div style=\"background: #0000; padding: 5px; border: 3px solid blue; border-radius: 5px;\">\n",
    "<font size=\"4\", color = \"black\">\n",
    "<b>КОММЕНТАРИЙ РЕВЬЮЕРА</b>\n",
    "<br />\n",
    "Рад приветствовать тебя, Константин! <br />\n",
    "<br />    \n",
    "<br />\n",
    "Меня зовут Георгий Озбетелашвили, можно просто Гио. \n",
    "<br />\n",
    "Благодарю тебя, что прислал задание! Я перейду сразу на \"ты\" (если неудобно, то скажи мне). Ты сделал большую работу над проектом! Правильные расчеты, хорошие выводы, все логично и скурпулезно. <br /><br /> Я буду комментировать твои задания по следующим принципам: <br />\n",
    "<b>ТАКОЙ ШРИФТ</b> - всегда начало моего комментария <br />\n",
    "<font color='blue'>такой фон</font> - комментарии с интересной ссылкой и дополнительной инфой<br/>\n",
    "<font color='green'>такой фон</font> - комментарии о том, что всё сделано правильно. Могу тут же оставить полезную рекомендацию <br/>\n",
    "<font color='orange'>такой фон</font> - комментарии о том, что всё хорошо, однако есть на что обратить внимание<br/>\n",
    "<font color='red'>такой фон</font> - комментарии о том, что есть критически важный момент, которому стоит уделить особое внимание и исправить.<br/>\n",
    "Чтобы было легче различать комментарии, я буду прикладывать к каждому типу комментария свой смайлик. Они буду ниже в примерах.\n",
    "<br /><br />\n",
    "Я буду стараться передавать тебе свой опыт и направлять тебя к правильному и эффективному решению, чтобы в дальнейшем ты мог расти дальше как крутой специалист ;) Будет круто, если будешь оставлять свои комментарии (просьба не удалять мои)! Помни, что глупых вопросов не бывает! А твой дружелюбный сосед ревьюер всегда будет рядом и поможет тебе)<br>\n",
    "<br> Ну что, народ, погнали!<br>\n",
    "    </font>"
   ]
  },
  {
   "cell_type": "markdown",
   "metadata": {},
   "source": [
    "<div style=\"background: #0000; padding: 5px; border: 3px solid blue; border-radius: 5px;\">\n",
    "<font size=\"4\", color = \"black\">\n",
    "<b>КОММЕНТАРИЙ РЕВЬЮЕРА v2</b>\n",
    "<br />Здравствуй, Константин! Спасибо тебе за важные исправления! Принимаю работу 😎<br>\n",
    "    <br> Мои новые комментарии будут с припиской  v2<br> \n",
    "    </font>"
   ]
  },
  {
   "cell_type": "markdown",
   "metadata": {},
   "source": [
    "# Примеры комментариев"
   ]
  },
  {
   "cell_type": "markdown",
   "metadata": {},
   "source": [
    "<div class=\"alert alert-info\"; style=\"border-left: 7px solid blue\">\n",
    "<font size=\"4\"><b>Комментарий ревьюера 🎓</b></font>\n",
    "    <br /> \n",
    "    <font size=\"3\", color = \"black\">\n",
    "<br />\n",
    "      <br />Тут полезная ссылочка, советую посмотреть, если будет время :) Данная тема часто спрашивается на собеседованиях на джун-позиции  <br/>\n",
    "        <br /> <a href=\"https://webdevblog.ru/vvedenie-v-generatory-python/\">Введение в генераторы Python</a>\n",
    "    <br />\n",
    "    </font>\n",
    "\n",
    "</div>"
   ]
  },
  {
   "cell_type": "markdown",
   "metadata": {},
   "source": [
    "<div class=\"alert alert-success\"; style=\"border-left: 7px solid green\">\n",
    "<font size=\"4\"><b>Комментарий ревьюера 🚀</b></font>\n",
    "    <br />\n",
    "    <font size=\"3\", color = \"black\">\n",
    "    <br /> Все отлично, интересная логика решения!  \n",
    "     <br />\n",
    "    </font>\n",
    "\n",
    "</div>"
   ]
  },
  {
   "cell_type": "markdown",
   "metadata": {},
   "source": [
    "<div class=\"alert alert-warning\" ; style=\"border-left: 7px solid orange\">\n",
    "<font size=\"4\"><b>Комментарий ревьюера 👀</b></font>\n",
    "    <br />\n",
    "    <font size=\"3\", color = \"black\">\n",
    "    <br /> Если таких замечаний >= 3, то следует исправить недочеты. Если кол-во замечаний меньше 3, то зачту проект \n",
    "    <br />\n",
    "    </font>\n",
    "\n",
    "</div>"
   ]
  },
  {
   "cell_type": "markdown",
   "metadata": {},
   "source": [
    "<div class=\"alert alert-danger\"; style=\"border-left: 7px solid red\">\n",
    "<font size=\"4\"><b>Комментарий ревьюера 🦔 </b></font>\n",
    "    <br /> \n",
    "    <font size=\"3\", color = \"black\">\n",
    "<br />\n",
    "    Стоит исправить ошибки)  \n",
    "    <br />\n",
    "    </font>\n",
    "\n",
    "</div>"
   ]
  },
  {
   "cell_type": "markdown",
   "metadata": {},
   "source": [
    "# ОПИСАНИЕ ПРОЕКТА\n",
    "\"Стримчик\" - интернет магазин, который продает по всему миру компьютерные игры. Из открытых источников доступны исторические данные о продажах игр, оценки пользователей и экспертов, жанры и платформы (например, Xbox или PlayStation). Им нужно выявить определяющие успешность игры закономерности. Это позволит сделать ставку на потенциально популярный продукт и спланировать рекламные кампании.\n",
    "# ЗАДАЧА: \n",
    "1) Подготовить данные\n",
    "\n",
    "2) Провести исследовательский анализ данных\n",
    "\n",
    "3) Определить для пользователя каждого региона (NA, EU, JP):\n",
    "- Самые популярные платформы (топ-5). Опишите различия в долях продаж.\n",
    "- Самые популярные жанры (топ-5). Поясните разницу.\n",
    "- Влияет ли рейтинг ESRB на продажи в отдельном регионе?\n",
    "\n",
    "4) Проверить гипотезы:\n",
    "\n",
    "- Средние пользовательские рейтинги платформ Xbox One и PC одинаковые;\n",
    "- Средние пользовательские рейтинги жанров Action (англ. «действие», экшен-игры) и Sports (англ. «спортивные соревнования») разные.\n",
    "\n",
    "5) И составить общий вывод"
   ]
  },
  {
   "cell_type": "markdown",
   "metadata": {},
   "source": [
    "<div class=\"alert alert-success\"; style=\"border-left: 7px solid green\">\n",
    "<font size=\"4\"><b>Комментарий ревьюера 🚀</b></font>\n",
    "    <br />\n",
    "    <font size=\"3\", color = \"black\">\n",
    "    <br /> Отлично, что есть введение с описанием проекта и его задачами. Было круто добавить описание данных\n",
    "    <br />\n",
    "    </font>\n",
    "\n",
    "</div>"
   ]
  },
  {
   "cell_type": "markdown",
   "metadata": {},
   "source": [
    "<div class=\"alert alert-danger\"; style=\"border-left: 7px solid red\">\n",
    "<font size=\"4\"><b>Комментарий ревьюера 🦔 </b></font>\n",
    "    <br /> \n",
    "    <font size=\"3\", color = \"black\">\n",
    "<br />\n",
    "    Следует с помощью ячеек Markdown разделить проект на смысловые части. То есть Шаг 1. Знакомства с данными и тд\n",
    "    <br />\n",
    "    </font>\n",
    "\n",
    "</div>"
   ]
  },
  {
   "cell_type": "markdown",
   "metadata": {},
   "source": [
    "<div class=\"alert alert-success\"; style=\"border-left: 7px solid green\">\n",
    "<font size=\"4\"><b>Комментарий ревьюера 🚀 v2</b></font>\n",
    "    <br />\n",
    "    <font size=\"3\", color = \"black\">\n",
    "    <br /> Супер, спасибо за красивое оформление!\n",
    "     <br />\n",
    "    </font>\n",
    "\n",
    "</div>"
   ]
  },
  {
   "cell_type": "markdown",
   "metadata": {},
   "source": [
    "# ШАГ 1: ЗНАКОМСТВО С ДАННЫМИ"
   ]
  },
  {
   "cell_type": "code",
   "execution_count": 1,
   "metadata": {},
   "outputs": [],
   "source": [
    "import pandas as pd\n",
    "import numpy as np\n",
    "import matplotlib.pyplot as plt"
   ]
  },
  {
   "cell_type": "code",
   "execution_count": 2,
   "metadata": {},
   "outputs": [
    {
     "name": "stdout",
     "output_type": "stream",
     "text": [
      "<class 'pandas.core.frame.DataFrame'>\n",
      "RangeIndex: 16715 entries, 0 to 16714\n",
      "Data columns (total 11 columns):\n",
      "name               16713 non-null object\n",
      "platform           16715 non-null object\n",
      "year_of_release    16446 non-null float64\n",
      "genre              16713 non-null object\n",
      "na_sales           16715 non-null float64\n",
      "eu_sales           16715 non-null float64\n",
      "jp_sales           16715 non-null float64\n",
      "other_sales        16715 non-null float64\n",
      "critic_score       8137 non-null float64\n",
      "user_score         10014 non-null object\n",
      "rating             9949 non-null object\n",
      "dtypes: float64(6), object(5)\n",
      "memory usage: 1.4+ MB\n"
     ]
    }
   ],
   "source": [
    "df = pd.read_csv(\n",
    "    '/datasets/games.csv',\n",
    "    header = 0,\n",
    "    names = ['name', 'platform', 'year_of_release', 'genre', 'na_sales', 'eu_sales', 'jp_sales', 'other_sales', 'critic_score', 'user_score', 'rating']\n",
    "    )\n",
    "# Я сразу заголовки привел в нормальный вид, т.к. вычитал, что проще заранее это сделать\n",
    "df.info()"
   ]
  },
  {
   "cell_type": "code",
   "execution_count": 3,
   "metadata": {},
   "outputs": [
    {
     "data": {
      "text/html": [
       "<div>\n",
       "<style scoped>\n",
       "    .dataframe tbody tr th:only-of-type {\n",
       "        vertical-align: middle;\n",
       "    }\n",
       "\n",
       "    .dataframe tbody tr th {\n",
       "        vertical-align: top;\n",
       "    }\n",
       "\n",
       "    .dataframe thead th {\n",
       "        text-align: right;\n",
       "    }\n",
       "</style>\n",
       "<table border=\"1\" class=\"dataframe\">\n",
       "  <thead>\n",
       "    <tr style=\"text-align: right;\">\n",
       "      <th></th>\n",
       "      <th>year_of_release</th>\n",
       "      <th>na_sales</th>\n",
       "      <th>eu_sales</th>\n",
       "      <th>jp_sales</th>\n",
       "      <th>other_sales</th>\n",
       "      <th>critic_score</th>\n",
       "    </tr>\n",
       "  </thead>\n",
       "  <tbody>\n",
       "    <tr>\n",
       "      <td>count</td>\n",
       "      <td>16446.000000</td>\n",
       "      <td>16715.000000</td>\n",
       "      <td>16715.000000</td>\n",
       "      <td>16715.000000</td>\n",
       "      <td>16715.000000</td>\n",
       "      <td>8137.000000</td>\n",
       "    </tr>\n",
       "    <tr>\n",
       "      <td>mean</td>\n",
       "      <td>2006.484616</td>\n",
       "      <td>0.263377</td>\n",
       "      <td>0.145060</td>\n",
       "      <td>0.077617</td>\n",
       "      <td>0.047342</td>\n",
       "      <td>68.967679</td>\n",
       "    </tr>\n",
       "    <tr>\n",
       "      <td>std</td>\n",
       "      <td>5.877050</td>\n",
       "      <td>0.813604</td>\n",
       "      <td>0.503339</td>\n",
       "      <td>0.308853</td>\n",
       "      <td>0.186731</td>\n",
       "      <td>13.938165</td>\n",
       "    </tr>\n",
       "    <tr>\n",
       "      <td>min</td>\n",
       "      <td>1980.000000</td>\n",
       "      <td>0.000000</td>\n",
       "      <td>0.000000</td>\n",
       "      <td>0.000000</td>\n",
       "      <td>0.000000</td>\n",
       "      <td>13.000000</td>\n",
       "    </tr>\n",
       "    <tr>\n",
       "      <td>25%</td>\n",
       "      <td>2003.000000</td>\n",
       "      <td>0.000000</td>\n",
       "      <td>0.000000</td>\n",
       "      <td>0.000000</td>\n",
       "      <td>0.000000</td>\n",
       "      <td>60.000000</td>\n",
       "    </tr>\n",
       "    <tr>\n",
       "      <td>50%</td>\n",
       "      <td>2007.000000</td>\n",
       "      <td>0.080000</td>\n",
       "      <td>0.020000</td>\n",
       "      <td>0.000000</td>\n",
       "      <td>0.010000</td>\n",
       "      <td>71.000000</td>\n",
       "    </tr>\n",
       "    <tr>\n",
       "      <td>75%</td>\n",
       "      <td>2010.000000</td>\n",
       "      <td>0.240000</td>\n",
       "      <td>0.110000</td>\n",
       "      <td>0.040000</td>\n",
       "      <td>0.030000</td>\n",
       "      <td>79.000000</td>\n",
       "    </tr>\n",
       "    <tr>\n",
       "      <td>max</td>\n",
       "      <td>2016.000000</td>\n",
       "      <td>41.360000</td>\n",
       "      <td>28.960000</td>\n",
       "      <td>10.220000</td>\n",
       "      <td>10.570000</td>\n",
       "      <td>98.000000</td>\n",
       "    </tr>\n",
       "  </tbody>\n",
       "</table>\n",
       "</div>"
      ],
      "text/plain": [
       "       year_of_release      na_sales      eu_sales      jp_sales  \\\n",
       "count     16446.000000  16715.000000  16715.000000  16715.000000   \n",
       "mean       2006.484616      0.263377      0.145060      0.077617   \n",
       "std           5.877050      0.813604      0.503339      0.308853   \n",
       "min        1980.000000      0.000000      0.000000      0.000000   \n",
       "25%        2003.000000      0.000000      0.000000      0.000000   \n",
       "50%        2007.000000      0.080000      0.020000      0.000000   \n",
       "75%        2010.000000      0.240000      0.110000      0.040000   \n",
       "max        2016.000000     41.360000     28.960000     10.220000   \n",
       "\n",
       "        other_sales  critic_score  \n",
       "count  16715.000000   8137.000000  \n",
       "mean       0.047342     68.967679  \n",
       "std        0.186731     13.938165  \n",
       "min        0.000000     13.000000  \n",
       "25%        0.000000     60.000000  \n",
       "50%        0.010000     71.000000  \n",
       "75%        0.030000     79.000000  \n",
       "max       10.570000     98.000000  "
      ]
     },
     "execution_count": 3,
     "metadata": {},
     "output_type": "execute_result"
    }
   ],
   "source": [
    "df.describe()"
   ]
  },
  {
   "cell_type": "code",
   "execution_count": 4,
   "metadata": {},
   "outputs": [
    {
     "data": {
      "text/html": [
       "<div>\n",
       "<style scoped>\n",
       "    .dataframe tbody tr th:only-of-type {\n",
       "        vertical-align: middle;\n",
       "    }\n",
       "\n",
       "    .dataframe tbody tr th {\n",
       "        vertical-align: top;\n",
       "    }\n",
       "\n",
       "    .dataframe thead th {\n",
       "        text-align: right;\n",
       "    }\n",
       "</style>\n",
       "<table border=\"1\" class=\"dataframe\">\n",
       "  <thead>\n",
       "    <tr style=\"text-align: right;\">\n",
       "      <th></th>\n",
       "      <th>name</th>\n",
       "      <th>platform</th>\n",
       "      <th>year_of_release</th>\n",
       "      <th>genre</th>\n",
       "      <th>na_sales</th>\n",
       "      <th>eu_sales</th>\n",
       "      <th>jp_sales</th>\n",
       "      <th>other_sales</th>\n",
       "      <th>critic_score</th>\n",
       "      <th>user_score</th>\n",
       "      <th>rating</th>\n",
       "    </tr>\n",
       "  </thead>\n",
       "  <tbody>\n",
       "    <tr>\n",
       "      <td>0</td>\n",
       "      <td>Wii Sports</td>\n",
       "      <td>Wii</td>\n",
       "      <td>2006.0</td>\n",
       "      <td>Sports</td>\n",
       "      <td>41.36</td>\n",
       "      <td>28.96</td>\n",
       "      <td>3.77</td>\n",
       "      <td>8.45</td>\n",
       "      <td>76.0</td>\n",
       "      <td>8</td>\n",
       "      <td>E</td>\n",
       "    </tr>\n",
       "    <tr>\n",
       "      <td>1</td>\n",
       "      <td>Super Mario Bros.</td>\n",
       "      <td>NES</td>\n",
       "      <td>1985.0</td>\n",
       "      <td>Platform</td>\n",
       "      <td>29.08</td>\n",
       "      <td>3.58</td>\n",
       "      <td>6.81</td>\n",
       "      <td>0.77</td>\n",
       "      <td>NaN</td>\n",
       "      <td>NaN</td>\n",
       "      <td>NaN</td>\n",
       "    </tr>\n",
       "    <tr>\n",
       "      <td>2</td>\n",
       "      <td>Mario Kart Wii</td>\n",
       "      <td>Wii</td>\n",
       "      <td>2008.0</td>\n",
       "      <td>Racing</td>\n",
       "      <td>15.68</td>\n",
       "      <td>12.76</td>\n",
       "      <td>3.79</td>\n",
       "      <td>3.29</td>\n",
       "      <td>82.0</td>\n",
       "      <td>8.3</td>\n",
       "      <td>E</td>\n",
       "    </tr>\n",
       "    <tr>\n",
       "      <td>3</td>\n",
       "      <td>Wii Sports Resort</td>\n",
       "      <td>Wii</td>\n",
       "      <td>2009.0</td>\n",
       "      <td>Sports</td>\n",
       "      <td>15.61</td>\n",
       "      <td>10.93</td>\n",
       "      <td>3.28</td>\n",
       "      <td>2.95</td>\n",
       "      <td>80.0</td>\n",
       "      <td>8</td>\n",
       "      <td>E</td>\n",
       "    </tr>\n",
       "    <tr>\n",
       "      <td>4</td>\n",
       "      <td>Pokemon Red/Pokemon Blue</td>\n",
       "      <td>GB</td>\n",
       "      <td>1996.0</td>\n",
       "      <td>Role-Playing</td>\n",
       "      <td>11.27</td>\n",
       "      <td>8.89</td>\n",
       "      <td>10.22</td>\n",
       "      <td>1.00</td>\n",
       "      <td>NaN</td>\n",
       "      <td>NaN</td>\n",
       "      <td>NaN</td>\n",
       "    </tr>\n",
       "  </tbody>\n",
       "</table>\n",
       "</div>"
      ],
      "text/plain": [
       "                       name platform  year_of_release         genre  na_sales  \\\n",
       "0                Wii Sports      Wii           2006.0        Sports     41.36   \n",
       "1         Super Mario Bros.      NES           1985.0      Platform     29.08   \n",
       "2            Mario Kart Wii      Wii           2008.0        Racing     15.68   \n",
       "3         Wii Sports Resort      Wii           2009.0        Sports     15.61   \n",
       "4  Pokemon Red/Pokemon Blue       GB           1996.0  Role-Playing     11.27   \n",
       "\n",
       "   eu_sales  jp_sales  other_sales  critic_score user_score rating  \n",
       "0     28.96      3.77         8.45          76.0          8      E  \n",
       "1      3.58      6.81         0.77           NaN        NaN    NaN  \n",
       "2     12.76      3.79         3.29          82.0        8.3      E  \n",
       "3     10.93      3.28         2.95          80.0          8      E  \n",
       "4      8.89     10.22         1.00           NaN        NaN    NaN  "
      ]
     },
     "execution_count": 4,
     "metadata": {},
     "output_type": "execute_result"
    }
   ],
   "source": [
    "df.head()"
   ]
  },
  {
   "cell_type": "markdown",
   "metadata": {},
   "source": [
    "Что нужно поправить с типами данных:\n",
    "- year_of_release к году\n",
    "- Оценки игр к числам с плавающей точкой"
   ]
  },
  {
   "cell_type": "markdown",
   "metadata": {},
   "source": [
    "<div class=\"alert alert-success\"; style=\"border-left: 7px solid green\">\n",
    "<font size=\"4\"><b>Комментарий ревьюера 🚀</b></font>\n",
    "    <br />\n",
    "    <font size=\"3\", color = \"black\">\n",
    "    <br /> Хорошее знакомства с данными\n",
    "    <br />\n",
    "    </font>\n",
    "\n",
    "</div>"
   ]
  },
  {
   "cell_type": "markdown",
   "metadata": {},
   "source": [
    "# ШАГ 2: ПОДГОТОВКА ДАННЫХ"
   ]
  },
  {
   "cell_type": "markdown",
   "metadata": {},
   "source": [
    "Для того, чтобы изменить тип данных, я сначала заполню пропуски в столбце 'year_of_release' на 2100(Чтобы мы их не теряли), в столбце с оценками на '-1'(Встречаются оценки '0' поэтому лучше заменить на -1)"
   ]
  },
  {
   "cell_type": "code",
   "execution_count": 5,
   "metadata": {},
   "outputs": [],
   "source": [
    "df['year_of_release'] = df['year_of_release'].fillna(2100)# пропуски в столбце с годом\n",
    "df['year_of_release'] = df['year_of_release'].astype('int')"
   ]
  },
  {
   "cell_type": "code",
   "execution_count": 6,
   "metadata": {},
   "outputs": [],
   "source": [
    "df['critic_score'].unique()#ничего необычного. Пропуски заменяем на -1 и меням тип данных\n",
    "df['critic_score'] = df['critic_score'].fillna(-1)\n",
    "df['critic_score'] = df['critic_score'].astype('float')"
   ]
  },
  {
   "cell_type": "markdown",
   "metadata": {},
   "source": [
    "<div class=\"alert alert-success\"; style=\"border-left: 7px solid green\">\n",
    "<font size=\"4\"><b>Комментарий ревьюера 🚀</b></font>\n",
    "    <br />\n",
    "    <font size=\"3\", color = \"black\">\n",
    "    <br /> Молодец, круто поставил загрушки. Но в случае с годом можно просто удалить несколько строк, они не повлияют на результаты исследования\n",
    "    <br />\n",
    "    </font>\n",
    "\n",
    "</div>"
   ]
  },
  {
   "cell_type": "code",
   "execution_count": 7,
   "metadata": {},
   "outputs": [
    {
     "data": {
      "text/plain": [
       "array(['8', nan, '8.3', '8.5', '6.6', '8.4', '8.6', '7.7', '6.3', '7.4',\n",
       "       '8.2', '9', '7.9', '8.1', '8.7', '7.1', '3.4', '5.3', '4.8', '3.2',\n",
       "       '8.9', '6.4', '7.8', '7.5', '2.6', '7.2', '9.2', '7', '7.3', '4.3',\n",
       "       '7.6', '5.7', '5', '9.1', '6.5', 'tbd', '8.8', '6.9', '9.4', '6.8',\n",
       "       '6.1', '6.7', '5.4', '4', '4.9', '4.5', '9.3', '6.2', '4.2', '6',\n",
       "       '3.7', '4.1', '5.8', '5.6', '5.5', '4.4', '4.6', '5.9', '3.9',\n",
       "       '3.1', '2.9', '5.2', '3.3', '4.7', '5.1', '3.5', '2.5', '1.9', '3',\n",
       "       '2.7', '2.2', '2', '9.5', '2.1', '3.6', '2.8', '1.8', '3.8', '0',\n",
       "       '1.6', '9.6', '2.4', '1.7', '1.1', '0.3', '1.5', '0.7', '1.2',\n",
       "       '2.3', '0.5', '1.3', '0.2', '0.6', '1.4', '0.9', '1', '9.7'],\n",
       "      dtype=object)"
      ]
     },
     "execution_count": 7,
     "metadata": {},
     "output_type": "execute_result"
    }
   ],
   "source": [
    "df['user_score'].unique()"
   ]
  },
  {
   "cell_type": "markdown",
   "metadata": {},
   "source": [
    "В столбце с оценкой пользователей встречается вид оценки - 'tbd', что в переводе означает - БУДЕТ ОПРЕДЕЛЕНО. Значит это можно прировнять к пропускам, так как по факту оценки еще нет. "
   ]
  },
  {
   "cell_type": "code",
   "execution_count": 8,
   "metadata": {},
   "outputs": [],
   "source": [
    "df.loc[df['user_score'] == 'tbd', 'user_score'] = np.nan\n",
    "df['user_score'] = df['user_score'].fillna(-1)\n",
    "df['user_score'] = df['user_score'].astype('float')"
   ]
  },
  {
   "cell_type": "markdown",
   "metadata": {},
   "source": [
    "<div class=\"alert alert-success\"; style=\"border-left: 7px solid green\">\n",
    "<font size=\"4\"><b>Комментарий ревьюера 🚀</b></font>\n",
    "    <br />\n",
    "    <font size=\"3\", color = \"black\">\n",
    "    <br /> Супер! Верно разрулил ситуацию\n",
    "    <br />\n",
    "    </font>\n",
    "\n",
    "</div>"
   ]
  },
  {
   "cell_type": "markdown",
   "metadata": {},
   "source": [
    "В столбце с рейтингом тоже есть пропуски, заменю их на значения 'without_rating' "
   ]
  },
  {
   "cell_type": "code",
   "execution_count": 9,
   "metadata": {},
   "outputs": [],
   "source": [
    "df['rating'].unique()#ничего необычного, спокойно заменяем\n",
    "df['rating'] = df['rating'].fillna('without_rating')"
   ]
  },
  {
   "cell_type": "markdown",
   "metadata": {},
   "source": [
    "<div class=\"alert alert-success\"; style=\"border-left: 7px solid green\">\n",
    "<font size=\"4\"><b>Комментарий ревьюера 🚀</b></font>\n",
    "    <br />\n",
    "    <font size=\"3\", color = \"black\">\n",
    "    <br /> Тут тоже верная заглушка\n",
    "    <br />\n",
    "    </font>\n",
    "\n",
    "</div>"
   ]
  },
  {
   "cell_type": "code",
   "execution_count": 10,
   "metadata": {},
   "outputs": [
    {
     "data": {
      "text/html": [
       "<div>\n",
       "<style scoped>\n",
       "    .dataframe tbody tr th:only-of-type {\n",
       "        vertical-align: middle;\n",
       "    }\n",
       "\n",
       "    .dataframe tbody tr th {\n",
       "        vertical-align: top;\n",
       "    }\n",
       "\n",
       "    .dataframe thead th {\n",
       "        text-align: right;\n",
       "    }\n",
       "</style>\n",
       "<table border=\"1\" class=\"dataframe\">\n",
       "  <thead>\n",
       "    <tr style=\"text-align: right;\">\n",
       "      <th></th>\n",
       "      <th>name</th>\n",
       "      <th>platform</th>\n",
       "      <th>year_of_release</th>\n",
       "      <th>genre</th>\n",
       "      <th>na_sales</th>\n",
       "      <th>eu_sales</th>\n",
       "      <th>jp_sales</th>\n",
       "      <th>other_sales</th>\n",
       "      <th>critic_score</th>\n",
       "      <th>user_score</th>\n",
       "      <th>rating</th>\n",
       "    </tr>\n",
       "  </thead>\n",
       "  <tbody>\n",
       "    <tr>\n",
       "      <td>0</td>\n",
       "      <td>Wii Sports</td>\n",
       "      <td>Wii</td>\n",
       "      <td>2006</td>\n",
       "      <td>Sports</td>\n",
       "      <td>41.36</td>\n",
       "      <td>28.96</td>\n",
       "      <td>3.77</td>\n",
       "      <td>8.45</td>\n",
       "      <td>76.0</td>\n",
       "      <td>8.0</td>\n",
       "      <td>E</td>\n",
       "    </tr>\n",
       "    <tr>\n",
       "      <td>1</td>\n",
       "      <td>Super Mario Bros.</td>\n",
       "      <td>NES</td>\n",
       "      <td>1985</td>\n",
       "      <td>Platform</td>\n",
       "      <td>29.08</td>\n",
       "      <td>3.58</td>\n",
       "      <td>6.81</td>\n",
       "      <td>0.77</td>\n",
       "      <td>-1.0</td>\n",
       "      <td>-1.0</td>\n",
       "      <td>without_rating</td>\n",
       "    </tr>\n",
       "    <tr>\n",
       "      <td>2</td>\n",
       "      <td>Mario Kart Wii</td>\n",
       "      <td>Wii</td>\n",
       "      <td>2008</td>\n",
       "      <td>Racing</td>\n",
       "      <td>15.68</td>\n",
       "      <td>12.76</td>\n",
       "      <td>3.79</td>\n",
       "      <td>3.29</td>\n",
       "      <td>82.0</td>\n",
       "      <td>8.3</td>\n",
       "      <td>E</td>\n",
       "    </tr>\n",
       "    <tr>\n",
       "      <td>3</td>\n",
       "      <td>Wii Sports Resort</td>\n",
       "      <td>Wii</td>\n",
       "      <td>2009</td>\n",
       "      <td>Sports</td>\n",
       "      <td>15.61</td>\n",
       "      <td>10.93</td>\n",
       "      <td>3.28</td>\n",
       "      <td>2.95</td>\n",
       "      <td>80.0</td>\n",
       "      <td>8.0</td>\n",
       "      <td>E</td>\n",
       "    </tr>\n",
       "    <tr>\n",
       "      <td>4</td>\n",
       "      <td>Pokemon Red/Pokemon Blue</td>\n",
       "      <td>GB</td>\n",
       "      <td>1996</td>\n",
       "      <td>Role-Playing</td>\n",
       "      <td>11.27</td>\n",
       "      <td>8.89</td>\n",
       "      <td>10.22</td>\n",
       "      <td>1.00</td>\n",
       "      <td>-1.0</td>\n",
       "      <td>-1.0</td>\n",
       "      <td>without_rating</td>\n",
       "    </tr>\n",
       "  </tbody>\n",
       "</table>\n",
       "</div>"
      ],
      "text/plain": [
       "                       name platform  year_of_release         genre  na_sales  \\\n",
       "0                Wii Sports      Wii             2006        Sports     41.36   \n",
       "1         Super Mario Bros.      NES             1985      Platform     29.08   \n",
       "2            Mario Kart Wii      Wii             2008        Racing     15.68   \n",
       "3         Wii Sports Resort      Wii             2009        Sports     15.61   \n",
       "4  Pokemon Red/Pokemon Blue       GB             1996  Role-Playing     11.27   \n",
       "\n",
       "   eu_sales  jp_sales  other_sales  critic_score  user_score          rating  \n",
       "0     28.96      3.77         8.45          76.0         8.0               E  \n",
       "1      3.58      6.81         0.77          -1.0        -1.0  without_rating  \n",
       "2     12.76      3.79         3.29          82.0         8.3               E  \n",
       "3     10.93      3.28         2.95          80.0         8.0               E  \n",
       "4      8.89     10.22         1.00          -1.0        -1.0  without_rating  "
      ]
     },
     "execution_count": 10,
     "metadata": {},
     "output_type": "execute_result"
    }
   ],
   "source": [
    "df.head()"
   ]
  },
  {
   "cell_type": "markdown",
   "metadata": {},
   "source": [
    "Теперь добавим в таблицу столбец суммарной продажей. Назову total_sales"
   ]
  },
  {
   "cell_type": "code",
   "execution_count": 11,
   "metadata": {},
   "outputs": [
    {
     "data": {
      "text/html": [
       "<div>\n",
       "<style scoped>\n",
       "    .dataframe tbody tr th:only-of-type {\n",
       "        vertical-align: middle;\n",
       "    }\n",
       "\n",
       "    .dataframe tbody tr th {\n",
       "        vertical-align: top;\n",
       "    }\n",
       "\n",
       "    .dataframe thead th {\n",
       "        text-align: right;\n",
       "    }\n",
       "</style>\n",
       "<table border=\"1\" class=\"dataframe\">\n",
       "  <thead>\n",
       "    <tr style=\"text-align: right;\">\n",
       "      <th></th>\n",
       "      <th>name</th>\n",
       "      <th>platform</th>\n",
       "      <th>year_of_release</th>\n",
       "      <th>genre</th>\n",
       "      <th>na_sales</th>\n",
       "      <th>eu_sales</th>\n",
       "      <th>jp_sales</th>\n",
       "      <th>other_sales</th>\n",
       "      <th>critic_score</th>\n",
       "      <th>user_score</th>\n",
       "      <th>rating</th>\n",
       "      <th>total_sales</th>\n",
       "    </tr>\n",
       "  </thead>\n",
       "  <tbody>\n",
       "    <tr>\n",
       "      <td>0</td>\n",
       "      <td>Wii Sports</td>\n",
       "      <td>Wii</td>\n",
       "      <td>2006</td>\n",
       "      <td>Sports</td>\n",
       "      <td>41.36</td>\n",
       "      <td>28.96</td>\n",
       "      <td>3.77</td>\n",
       "      <td>8.45</td>\n",
       "      <td>76.0</td>\n",
       "      <td>8.0</td>\n",
       "      <td>E</td>\n",
       "      <td>82.54</td>\n",
       "    </tr>\n",
       "    <tr>\n",
       "      <td>1</td>\n",
       "      <td>Super Mario Bros.</td>\n",
       "      <td>NES</td>\n",
       "      <td>1985</td>\n",
       "      <td>Platform</td>\n",
       "      <td>29.08</td>\n",
       "      <td>3.58</td>\n",
       "      <td>6.81</td>\n",
       "      <td>0.77</td>\n",
       "      <td>-1.0</td>\n",
       "      <td>-1.0</td>\n",
       "      <td>without_rating</td>\n",
       "      <td>40.24</td>\n",
       "    </tr>\n",
       "    <tr>\n",
       "      <td>2</td>\n",
       "      <td>Mario Kart Wii</td>\n",
       "      <td>Wii</td>\n",
       "      <td>2008</td>\n",
       "      <td>Racing</td>\n",
       "      <td>15.68</td>\n",
       "      <td>12.76</td>\n",
       "      <td>3.79</td>\n",
       "      <td>3.29</td>\n",
       "      <td>82.0</td>\n",
       "      <td>8.3</td>\n",
       "      <td>E</td>\n",
       "      <td>35.52</td>\n",
       "    </tr>\n",
       "    <tr>\n",
       "      <td>3</td>\n",
       "      <td>Wii Sports Resort</td>\n",
       "      <td>Wii</td>\n",
       "      <td>2009</td>\n",
       "      <td>Sports</td>\n",
       "      <td>15.61</td>\n",
       "      <td>10.93</td>\n",
       "      <td>3.28</td>\n",
       "      <td>2.95</td>\n",
       "      <td>80.0</td>\n",
       "      <td>8.0</td>\n",
       "      <td>E</td>\n",
       "      <td>32.77</td>\n",
       "    </tr>\n",
       "    <tr>\n",
       "      <td>4</td>\n",
       "      <td>Pokemon Red/Pokemon Blue</td>\n",
       "      <td>GB</td>\n",
       "      <td>1996</td>\n",
       "      <td>Role-Playing</td>\n",
       "      <td>11.27</td>\n",
       "      <td>8.89</td>\n",
       "      <td>10.22</td>\n",
       "      <td>1.00</td>\n",
       "      <td>-1.0</td>\n",
       "      <td>-1.0</td>\n",
       "      <td>without_rating</td>\n",
       "      <td>31.38</td>\n",
       "    </tr>\n",
       "  </tbody>\n",
       "</table>\n",
       "</div>"
      ],
      "text/plain": [
       "                       name platform  year_of_release         genre  na_sales  \\\n",
       "0                Wii Sports      Wii             2006        Sports     41.36   \n",
       "1         Super Mario Bros.      NES             1985      Platform     29.08   \n",
       "2            Mario Kart Wii      Wii             2008        Racing     15.68   \n",
       "3         Wii Sports Resort      Wii             2009        Sports     15.61   \n",
       "4  Pokemon Red/Pokemon Blue       GB             1996  Role-Playing     11.27   \n",
       "\n",
       "   eu_sales  jp_sales  other_sales  critic_score  user_score          rating  \\\n",
       "0     28.96      3.77         8.45          76.0         8.0               E   \n",
       "1      3.58      6.81         0.77          -1.0        -1.0  without_rating   \n",
       "2     12.76      3.79         3.29          82.0         8.3               E   \n",
       "3     10.93      3.28         2.95          80.0         8.0               E   \n",
       "4      8.89     10.22         1.00          -1.0        -1.0  without_rating   \n",
       "\n",
       "   total_sales  \n",
       "0        82.54  \n",
       "1        40.24  \n",
       "2        35.52  \n",
       "3        32.77  \n",
       "4        31.38  "
      ]
     },
     "execution_count": 11,
     "metadata": {},
     "output_type": "execute_result"
    }
   ],
   "source": [
    "df['total_sales'] = df['na_sales'] + df['eu_sales'] + df['jp_sales'] + df['other_sales']\n",
    "df.head()"
   ]
  },
  {
   "cell_type": "markdown",
   "metadata": {},
   "source": [
    "<div class=\"alert alert-success\"; style=\"border-left: 7px solid green\">\n",
    "<font size=\"4\"><b>Комментарий ревьюера 🚀</b></font>\n",
    "    <br />\n",
    "    <font size=\"3\", color = \"black\">\n",
    "    <br /> Верный подсчет!\n",
    "    <br />\n",
    "    </font>\n",
    "\n",
    "</div>"
   ]
  },
  {
   "cell_type": "markdown",
   "metadata": {},
   "source": [
    "# ШАГ 3 Исследовательский анализ\n",
    "- Посмотрю сколько игр выпускалось в разные годы и в какой год наблюдается рост популярности игрушек"
   ]
  },
  {
   "cell_type": "code",
   "execution_count": 12,
   "metadata": {},
   "outputs": [
    {
     "data": {
      "text/plain": [
       "2008    1427\n",
       "2009    1426\n",
       "2010    1255\n",
       "2007    1197\n",
       "2011    1136\n",
       "2006    1006\n",
       "2005     939\n",
       "2002     829\n",
       "2003     775\n",
       "2004     762\n",
       "2012     653\n",
       "2015     606\n",
       "2014     581\n",
       "2013     544\n",
       "2016     502\n",
       "2001     482\n",
       "1998     379\n",
       "2000     350\n",
       "1999     338\n",
       "1997     289\n",
       "2100     269\n",
       "1996     263\n",
       "1995     219\n",
       "1994     121\n",
       "1993      62\n",
       "1981      46\n",
       "1992      43\n",
       "1991      41\n",
       "1982      36\n",
       "1986      21\n",
       "1989      17\n",
       "1983      17\n",
       "1990      16\n",
       "1987      16\n",
       "1988      15\n",
       "1985      14\n",
       "1984      14\n",
       "1980       9\n",
       "Name: year_of_release, dtype: int64"
      ]
     },
     "execution_count": 12,
     "metadata": {},
     "output_type": "execute_result"
    }
   ],
   "source": [
    "df['year_of_release'].value_counts()"
   ]
  },
  {
   "cell_type": "code",
   "execution_count": 13,
   "metadata": {},
   "outputs": [
    {
     "data": {
      "image/png": "[encoded data removed]",
      "text/plain": [
       "<Figure size 432x288 with 1 Axes>"
      ]
     },
     "metadata": {
      "needs_background": "light"
     },
     "output_type": "display_data"
    }
   ],
   "source": [
    "df[df['year_of_release'] != 2100]['year_of_release'].plot(kind = 'hist', bins = 40)\n",
    "plt.title('Распределение по году выпуска')\n",
    "plt.legend()\n",
    "plt.show()"
   ]
  },
  {
   "cell_type": "markdown",
   "metadata": {},
   "source": [
    "<div class=\"alert alert-success\"; style=\"border-left: 7px solid green\">\n",
    "<font size=\"4\"><b>Комментарий ревьюера 🚀</b></font>\n",
    "    <br />\n",
    "    <font size=\"3\", color = \"black\">\n",
    "    <br /> Молодец! Не забыл про заглушку, верно построил распределение\n",
    "    <br />\n",
    "    </font>\n",
    "\n",
    "</div>"
   ]
  },
  {
   "cell_type": "markdown",
   "metadata": {},
   "source": [
    "По подсчетам и графику можно сделать вывод, что индустрия игр начала набирать обороты в 1995 году. В 2011 году виден спад. "
   ]
  },
  {
   "cell_type": "markdown",
   "metadata": {},
   "source": [
    "- Посмотрим распределение по платформам"
   ]
  },
  {
   "cell_type": "code",
   "execution_count": 14,
   "metadata": {},
   "outputs": [],
   "source": [
    "table_platform = pd.pivot_table(df,\n",
    "              index = 'platform',\n",
    "              values = 'total_sales',\n",
    "              aggfunc = np.sum)\n"
   ]
  },
  {
   "cell_type": "code",
   "execution_count": 15,
   "metadata": {},
   "outputs": [
    {
     "data": {
      "text/html": [
       "<div>\n",
       "<style scoped>\n",
       "    .dataframe tbody tr th:only-of-type {\n",
       "        vertical-align: middle;\n",
       "    }\n",
       "\n",
       "    .dataframe tbody tr th {\n",
       "        vertical-align: top;\n",
       "    }\n",
       "\n",
       "    .dataframe thead th {\n",
       "        text-align: right;\n",
       "    }\n",
       "</style>\n",
       "<table border=\"1\" class=\"dataframe\">\n",
       "  <thead>\n",
       "    <tr style=\"text-align: right;\">\n",
       "      <th></th>\n",
       "      <th>total_sales</th>\n",
       "    </tr>\n",
       "    <tr>\n",
       "      <th>platform</th>\n",
       "      <th></th>\n",
       "    </tr>\n",
       "  </thead>\n",
       "  <tbody>\n",
       "    <tr>\n",
       "      <td>PCFX</td>\n",
       "      <td>0.03</td>\n",
       "    </tr>\n",
       "    <tr>\n",
       "      <td>GG</td>\n",
       "      <td>0.04</td>\n",
       "    </tr>\n",
       "    <tr>\n",
       "      <td>3DO</td>\n",
       "      <td>0.10</td>\n",
       "    </tr>\n",
       "    <tr>\n",
       "      <td>TG16</td>\n",
       "      <td>0.16</td>\n",
       "    </tr>\n",
       "    <tr>\n",
       "      <td>WS</td>\n",
       "      <td>1.42</td>\n",
       "    </tr>\n",
       "    <tr>\n",
       "      <td>NG</td>\n",
       "      <td>1.44</td>\n",
       "    </tr>\n",
       "    <tr>\n",
       "      <td>SCD</td>\n",
       "      <td>1.86</td>\n",
       "    </tr>\n",
       "    <tr>\n",
       "      <td>DC</td>\n",
       "      <td>15.95</td>\n",
       "    </tr>\n",
       "    <tr>\n",
       "      <td>GEN</td>\n",
       "      <td>30.77</td>\n",
       "    </tr>\n",
       "    <tr>\n",
       "      <td>SAT</td>\n",
       "      <td>33.59</td>\n",
       "    </tr>\n",
       "    <tr>\n",
       "      <td>PSV</td>\n",
       "      <td>54.07</td>\n",
       "    </tr>\n",
       "    <tr>\n",
       "      <td>WiiU</td>\n",
       "      <td>82.19</td>\n",
       "    </tr>\n",
       "    <tr>\n",
       "      <td>2600</td>\n",
       "      <td>96.98</td>\n",
       "    </tr>\n",
       "    <tr>\n",
       "      <td>XOne</td>\n",
       "      <td>159.32</td>\n",
       "    </tr>\n",
       "    <tr>\n",
       "      <td>GC</td>\n",
       "      <td>198.93</td>\n",
       "    </tr>\n",
       "    <tr>\n",
       "      <td>SNES</td>\n",
       "      <td>200.04</td>\n",
       "    </tr>\n",
       "    <tr>\n",
       "      <td>N64</td>\n",
       "      <td>218.68</td>\n",
       "    </tr>\n",
       "    <tr>\n",
       "      <td>NES</td>\n",
       "      <td>251.05</td>\n",
       "    </tr>\n",
       "    <tr>\n",
       "      <td>GB</td>\n",
       "      <td>255.46</td>\n",
       "    </tr>\n",
       "    <tr>\n",
       "      <td>XB</td>\n",
       "      <td>257.74</td>\n",
       "    </tr>\n",
       "    <tr>\n",
       "      <td>3DS</td>\n",
       "      <td>259.00</td>\n",
       "    </tr>\n",
       "    <tr>\n",
       "      <td>PC</td>\n",
       "      <td>259.52</td>\n",
       "    </tr>\n",
       "    <tr>\n",
       "      <td>PSP</td>\n",
       "      <td>294.05</td>\n",
       "    </tr>\n",
       "    <tr>\n",
       "      <td>PS4</td>\n",
       "      <td>314.14</td>\n",
       "    </tr>\n",
       "    <tr>\n",
       "      <td>GBA</td>\n",
       "      <td>317.85</td>\n",
       "    </tr>\n",
       "    <tr>\n",
       "      <td>PS</td>\n",
       "      <td>730.86</td>\n",
       "    </tr>\n",
       "    <tr>\n",
       "      <td>DS</td>\n",
       "      <td>806.12</td>\n",
       "    </tr>\n",
       "    <tr>\n",
       "      <td>Wii</td>\n",
       "      <td>907.51</td>\n",
       "    </tr>\n",
       "    <tr>\n",
       "      <td>PS3</td>\n",
       "      <td>939.65</td>\n",
       "    </tr>\n",
       "    <tr>\n",
       "      <td>X360</td>\n",
       "      <td>971.42</td>\n",
       "    </tr>\n",
       "    <tr>\n",
       "      <td>PS2</td>\n",
       "      <td>1255.77</td>\n",
       "    </tr>\n",
       "  </tbody>\n",
       "</table>\n",
       "</div>"
      ],
      "text/plain": [
       "          total_sales\n",
       "platform             \n",
       "PCFX             0.03\n",
       "GG               0.04\n",
       "3DO              0.10\n",
       "TG16             0.16\n",
       "WS               1.42\n",
       "NG               1.44\n",
       "SCD              1.86\n",
       "DC              15.95\n",
       "GEN             30.77\n",
       "SAT             33.59\n",
       "PSV             54.07\n",
       "WiiU            82.19\n",
       "2600            96.98\n",
       "XOne           159.32\n",
       "GC             198.93\n",
       "SNES           200.04\n",
       "N64            218.68\n",
       "NES            251.05\n",
       "GB             255.46\n",
       "XB             257.74\n",
       "3DS            259.00\n",
       "PC             259.52\n",
       "PSP            294.05\n",
       "PS4            314.14\n",
       "GBA            317.85\n",
       "PS             730.86\n",
       "DS             806.12\n",
       "Wii            907.51\n",
       "PS3            939.65\n",
       "X360           971.42\n",
       "PS2           1255.77"
      ]
     },
     "execution_count": 15,
     "metadata": {},
     "output_type": "execute_result"
    }
   ],
   "source": [
    "table_platform_sorted = table_platform.sort_values(by = 'total_sales')\n",
    "table_platform_sorted"
   ]
  },
  {
   "cell_type": "code",
   "execution_count": 16,
   "metadata": {},
   "outputs": [
    {
     "data": {
      "image/png": "[encoded data removed]",
      "text/plain": [
       "<Figure size 864x360 with 1 Axes>"
      ]
     },
     "metadata": {
      "needs_background": "light"
     },
     "output_type": "display_data"
    },
    {
     "data": {
      "image/png": "[encoded data removed]",
      "text/plain": [
       "<Figure size 864x360 with 1 Axes>"
      ]
     },
     "metadata": {
      "needs_background": "light"
     },
     "output_type": "display_data"
    },
    {
     "data": {
      "image/png": "[encoded data removed]",
      "text/plain": [
       "<Figure size 864x360 with 1 Axes>"
      ]
     },
     "metadata": {
      "needs_background": "light"
     },
     "output_type": "display_data"
    },
    {
     "data": {
      "image/png": "[encoded data removed]",
      "text/plain": [
       "<Figure size 864x360 with 1 Axes>"
      ]
     },
     "metadata": {
      "needs_background": "light"
     },
     "output_type": "display_data"
    },
    {
     "data": {
      "image/png": "[encoded data removed]",
      "text/plain": [
       "<Figure size 864x360 with 1 Axes>"
      ]
     },
     "metadata": {
      "needs_background": "light"
     },
     "output_type": "display_data"
    }
   ],
   "source": [
    "list_platform = ['PS2', 'X360', 'PS3', 'Wii', 'DS']\n",
    "for j in list_platform:\n",
    "    df[df['year_of_release'] != 2100].query('platform == @j')['year_of_release'].plot(kind='hist', label=j, grid=True, bins=10, alpha=0.4, legend=True, figsize=(12, 5))\n",
    "    plt.show()"
   ]
  },
  {
   "cell_type": "markdown",
   "metadata": {},
   "source": [
    "Итак, по платформам:\n",
    "Я выбрал топ-5 и построил графики распределения по годам. \n",
    "По появлению новых и уходу старых платформ сложно сказать. Все зависит от платформы. Например PS2 стабильно держалась с 2000 до 2011 года(то есть 11 лет). X360 с 2005 по 2016 (11лет). PS2 с 2006 по 2016(10 лет). Значит с момента появления и ухода платформы проходит примерно 10 лет."
   ]
  },
  {
   "cell_type": "markdown",
   "metadata": {},
   "source": [
    "Актуальный период примем с 2012 года. "
   ]
  },
  {
   "cell_type": "markdown",
   "metadata": {},
   "source": [
    "<div class=\"alert alert-info\" style=\"background:#ffdbf1;color:#2e00ab\">\n",
    "    Есть поправить!\n",
    "    Значит возьмем с 2012 актуальный период"
   ]
  },
  {
   "cell_type": "markdown",
   "metadata": {},
   "source": [
    "<div class=\"alert alert-success\"; style=\"border-left: 7px solid green\">\n",
    "<font size=\"4\"><b>Комментарий ревьюера 🚀</b></font>\n",
    "    <br />\n",
    "    <font size=\"3\", color = \"black\">\n",
    "    <br /> Верно найден жизненный цикл платформы\n",
    "     <br />\n",
    "    </font>\n",
    "\n",
    "</div>"
   ]
  },
  {
   "cell_type": "markdown",
   "metadata": {},
   "source": [
    "<div class=\"alert alert-danger\"; style=\"border-left: 7px solid red\">\n",
    "<font size=\"4\"><b>Комментарий ревьюера 🦔 </b></font>\n",
    "    <br />\n",
    "    <font size=\"3\", color = \"black\">\n",
    "    <br /> К сожалению, слишком большой период взял. На интересуют прогнозы на 2017-й год. Поэтому следует брать самые свежые данные. Если брать данные за 10 лет, то к 2017 будем учитывать мертвые платформы. Поэтому следует использовать промежуток в 5 лет.\n",
    "    <br />\n",
    "    </font>\n",
    "\n",
    "</div>"
   ]
  },
  {
   "cell_type": "markdown",
   "metadata": {},
   "source": [
    "<div class=\"alert alert-success\"; style=\"border-left: 7px solid green\">\n",
    "<font size=\"4\"><b>Комментарий ревьюера 🚀 v2</b></font>\n",
    "    <br />\n",
    "    <font size=\"3\", color = \"black\">\n",
    "    <br /> Отлично! Подходящий актуальный период\n",
    "     <br />\n",
    "    </font>\n",
    "\n",
    "</div>"
   ]
  },
  {
   "cell_type": "code",
   "execution_count": 17,
   "metadata": {},
   "outputs": [],
   "source": [
    "df_filtered = df.query('year_of_release >= 2012')\n",
    "df_filtered.reset_index(inplace=True, drop = True)"
   ]
  },
  {
   "cell_type": "code",
   "execution_count": 18,
   "metadata": {},
   "outputs": [
    {
     "data": {
      "text/html": [
       "<div>\n",
       "<style scoped>\n",
       "    .dataframe tbody tr th:only-of-type {\n",
       "        vertical-align: middle;\n",
       "    }\n",
       "\n",
       "    .dataframe tbody tr th {\n",
       "        vertical-align: top;\n",
       "    }\n",
       "\n",
       "    .dataframe thead th {\n",
       "        text-align: right;\n",
       "    }\n",
       "</style>\n",
       "<table border=\"1\" class=\"dataframe\">\n",
       "  <thead>\n",
       "    <tr style=\"text-align: right;\">\n",
       "      <th></th>\n",
       "      <th>name</th>\n",
       "      <th>platform</th>\n",
       "      <th>year_of_release</th>\n",
       "      <th>genre</th>\n",
       "      <th>na_sales</th>\n",
       "      <th>eu_sales</th>\n",
       "      <th>jp_sales</th>\n",
       "      <th>other_sales</th>\n",
       "      <th>critic_score</th>\n",
       "      <th>user_score</th>\n",
       "      <th>rating</th>\n",
       "      <th>total_sales</th>\n",
       "    </tr>\n",
       "  </thead>\n",
       "  <tbody>\n",
       "    <tr>\n",
       "      <td>0</td>\n",
       "      <td>Grand Theft Auto V</td>\n",
       "      <td>PS3</td>\n",
       "      <td>2013</td>\n",
       "      <td>Action</td>\n",
       "      <td>7.02</td>\n",
       "      <td>9.09</td>\n",
       "      <td>0.98</td>\n",
       "      <td>3.96</td>\n",
       "      <td>97.0</td>\n",
       "      <td>8.2</td>\n",
       "      <td>M</td>\n",
       "      <td>21.05</td>\n",
       "    </tr>\n",
       "    <tr>\n",
       "      <td>1</td>\n",
       "      <td>Grand Theft Auto V</td>\n",
       "      <td>X360</td>\n",
       "      <td>2013</td>\n",
       "      <td>Action</td>\n",
       "      <td>9.66</td>\n",
       "      <td>5.14</td>\n",
       "      <td>0.06</td>\n",
       "      <td>1.41</td>\n",
       "      <td>97.0</td>\n",
       "      <td>8.1</td>\n",
       "      <td>M</td>\n",
       "      <td>16.27</td>\n",
       "    </tr>\n",
       "    <tr>\n",
       "      <td>2</td>\n",
       "      <td>Call of Duty: Black Ops 3</td>\n",
       "      <td>PS4</td>\n",
       "      <td>2015</td>\n",
       "      <td>Shooter</td>\n",
       "      <td>6.03</td>\n",
       "      <td>5.86</td>\n",
       "      <td>0.36</td>\n",
       "      <td>2.38</td>\n",
       "      <td>-1.0</td>\n",
       "      <td>-1.0</td>\n",
       "      <td>without_rating</td>\n",
       "      <td>14.63</td>\n",
       "    </tr>\n",
       "    <tr>\n",
       "      <td>3</td>\n",
       "      <td>Pokemon X/Pokemon Y</td>\n",
       "      <td>3DS</td>\n",
       "      <td>2013</td>\n",
       "      <td>Role-Playing</td>\n",
       "      <td>5.28</td>\n",
       "      <td>4.19</td>\n",
       "      <td>4.35</td>\n",
       "      <td>0.78</td>\n",
       "      <td>-1.0</td>\n",
       "      <td>-1.0</td>\n",
       "      <td>without_rating</td>\n",
       "      <td>14.60</td>\n",
       "    </tr>\n",
       "    <tr>\n",
       "      <td>4</td>\n",
       "      <td>Call of Duty: Black Ops II</td>\n",
       "      <td>PS3</td>\n",
       "      <td>2012</td>\n",
       "      <td>Shooter</td>\n",
       "      <td>4.99</td>\n",
       "      <td>5.73</td>\n",
       "      <td>0.65</td>\n",
       "      <td>2.42</td>\n",
       "      <td>83.0</td>\n",
       "      <td>5.3</td>\n",
       "      <td>M</td>\n",
       "      <td>13.79</td>\n",
       "    </tr>\n",
       "    <tr>\n",
       "      <td>5</td>\n",
       "      <td>Call of Duty: Black Ops II</td>\n",
       "      <td>X360</td>\n",
       "      <td>2012</td>\n",
       "      <td>Shooter</td>\n",
       "      <td>8.25</td>\n",
       "      <td>4.24</td>\n",
       "      <td>0.07</td>\n",
       "      <td>1.12</td>\n",
       "      <td>83.0</td>\n",
       "      <td>4.8</td>\n",
       "      <td>M</td>\n",
       "      <td>13.68</td>\n",
       "    </tr>\n",
       "    <tr>\n",
       "      <td>6</td>\n",
       "      <td>Grand Theft Auto V</td>\n",
       "      <td>PS4</td>\n",
       "      <td>2014</td>\n",
       "      <td>Action</td>\n",
       "      <td>3.96</td>\n",
       "      <td>6.31</td>\n",
       "      <td>0.38</td>\n",
       "      <td>1.97</td>\n",
       "      <td>97.0</td>\n",
       "      <td>8.3</td>\n",
       "      <td>M</td>\n",
       "      <td>12.62</td>\n",
       "    </tr>\n",
       "    <tr>\n",
       "      <td>7</td>\n",
       "      <td>Pokemon Omega Ruby/Pokemon Alpha Sapphire</td>\n",
       "      <td>3DS</td>\n",
       "      <td>2014</td>\n",
       "      <td>Role-Playing</td>\n",
       "      <td>4.35</td>\n",
       "      <td>3.49</td>\n",
       "      <td>3.10</td>\n",
       "      <td>0.74</td>\n",
       "      <td>-1.0</td>\n",
       "      <td>-1.0</td>\n",
       "      <td>without_rating</td>\n",
       "      <td>11.68</td>\n",
       "    </tr>\n",
       "    <tr>\n",
       "      <td>8</td>\n",
       "      <td>Call of Duty: Ghosts</td>\n",
       "      <td>X360</td>\n",
       "      <td>2013</td>\n",
       "      <td>Shooter</td>\n",
       "      <td>6.73</td>\n",
       "      <td>2.56</td>\n",
       "      <td>0.04</td>\n",
       "      <td>0.91</td>\n",
       "      <td>73.0</td>\n",
       "      <td>2.6</td>\n",
       "      <td>M</td>\n",
       "      <td>10.24</td>\n",
       "    </tr>\n",
       "    <tr>\n",
       "      <td>9</td>\n",
       "      <td>New Super Mario Bros. 2</td>\n",
       "      <td>3DS</td>\n",
       "      <td>2012</td>\n",
       "      <td>Platform</td>\n",
       "      <td>3.66</td>\n",
       "      <td>3.14</td>\n",
       "      <td>2.47</td>\n",
       "      <td>0.63</td>\n",
       "      <td>78.0</td>\n",
       "      <td>7.2</td>\n",
       "      <td>E</td>\n",
       "      <td>9.90</td>\n",
       "    </tr>\n",
       "    <tr>\n",
       "      <td>10</td>\n",
       "      <td>Halo 4</td>\n",
       "      <td>X360</td>\n",
       "      <td>2012</td>\n",
       "      <td>Shooter</td>\n",
       "      <td>6.65</td>\n",
       "      <td>2.28</td>\n",
       "      <td>0.04</td>\n",
       "      <td>0.74</td>\n",
       "      <td>87.0</td>\n",
       "      <td>7.0</td>\n",
       "      <td>M</td>\n",
       "      <td>9.71</td>\n",
       "    </tr>\n",
       "    <tr>\n",
       "      <td>11</td>\n",
       "      <td>Call of Duty: Ghosts</td>\n",
       "      <td>PS3</td>\n",
       "      <td>2013</td>\n",
       "      <td>Shooter</td>\n",
       "      <td>4.10</td>\n",
       "      <td>3.63</td>\n",
       "      <td>0.38</td>\n",
       "      <td>1.25</td>\n",
       "      <td>71.0</td>\n",
       "      <td>2.6</td>\n",
       "      <td>M</td>\n",
       "      <td>9.36</td>\n",
       "    </tr>\n",
       "    <tr>\n",
       "      <td>12</td>\n",
       "      <td>Minecraft</td>\n",
       "      <td>X360</td>\n",
       "      <td>2013</td>\n",
       "      <td>Misc</td>\n",
       "      <td>5.70</td>\n",
       "      <td>2.65</td>\n",
       "      <td>0.02</td>\n",
       "      <td>0.81</td>\n",
       "      <td>-1.0</td>\n",
       "      <td>-1.0</td>\n",
       "      <td>without_rating</td>\n",
       "      <td>9.18</td>\n",
       "    </tr>\n",
       "    <tr>\n",
       "      <td>13</td>\n",
       "      <td>Animal Crossing: New Leaf</td>\n",
       "      <td>3DS</td>\n",
       "      <td>2012</td>\n",
       "      <td>Simulation</td>\n",
       "      <td>2.03</td>\n",
       "      <td>2.36</td>\n",
       "      <td>4.39</td>\n",
       "      <td>0.39</td>\n",
       "      <td>88.0</td>\n",
       "      <td>8.7</td>\n",
       "      <td>E</td>\n",
       "      <td>9.17</td>\n",
       "    </tr>\n",
       "    <tr>\n",
       "      <td>14</td>\n",
       "      <td>FIFA 16</td>\n",
       "      <td>PS4</td>\n",
       "      <td>2015</td>\n",
       "      <td>Sports</td>\n",
       "      <td>1.12</td>\n",
       "      <td>6.12</td>\n",
       "      <td>0.06</td>\n",
       "      <td>1.28</td>\n",
       "      <td>82.0</td>\n",
       "      <td>4.3</td>\n",
       "      <td>E</td>\n",
       "      <td>8.58</td>\n",
       "    </tr>\n",
       "    <tr>\n",
       "      <td>15</td>\n",
       "      <td>FIFA Soccer 13</td>\n",
       "      <td>PS3</td>\n",
       "      <td>2012</td>\n",
       "      <td>Action</td>\n",
       "      <td>1.06</td>\n",
       "      <td>5.01</td>\n",
       "      <td>0.13</td>\n",
       "      <td>1.97</td>\n",
       "      <td>88.0</td>\n",
       "      <td>6.6</td>\n",
       "      <td>E</td>\n",
       "      <td>8.17</td>\n",
       "    </tr>\n",
       "    <tr>\n",
       "      <td>16</td>\n",
       "      <td>Pokemon Black 2/Pokemon White 2</td>\n",
       "      <td>DS</td>\n",
       "      <td>2012</td>\n",
       "      <td>Role-Playing</td>\n",
       "      <td>2.79</td>\n",
       "      <td>1.72</td>\n",
       "      <td>3.14</td>\n",
       "      <td>0.41</td>\n",
       "      <td>-1.0</td>\n",
       "      <td>-1.0</td>\n",
       "      <td>without_rating</td>\n",
       "      <td>8.06</td>\n",
       "    </tr>\n",
       "    <tr>\n",
       "      <td>17</td>\n",
       "      <td>Star Wars Battlefront (2015)</td>\n",
       "      <td>PS4</td>\n",
       "      <td>2015</td>\n",
       "      <td>Shooter</td>\n",
       "      <td>2.99</td>\n",
       "      <td>3.49</td>\n",
       "      <td>0.22</td>\n",
       "      <td>1.28</td>\n",
       "      <td>-1.0</td>\n",
       "      <td>-1.0</td>\n",
       "      <td>without_rating</td>\n",
       "      <td>7.98</td>\n",
       "    </tr>\n",
       "    <tr>\n",
       "      <td>18</td>\n",
       "      <td>Call of Duty: Advanced Warfare</td>\n",
       "      <td>PS4</td>\n",
       "      <td>2014</td>\n",
       "      <td>Shooter</td>\n",
       "      <td>2.81</td>\n",
       "      <td>3.48</td>\n",
       "      <td>0.14</td>\n",
       "      <td>1.23</td>\n",
       "      <td>83.0</td>\n",
       "      <td>5.7</td>\n",
       "      <td>M</td>\n",
       "      <td>7.66</td>\n",
       "    </tr>\n",
       "    <tr>\n",
       "      <td>19</td>\n",
       "      <td>FIFA 17</td>\n",
       "      <td>PS4</td>\n",
       "      <td>2016</td>\n",
       "      <td>Sports</td>\n",
       "      <td>0.66</td>\n",
       "      <td>5.75</td>\n",
       "      <td>0.08</td>\n",
       "      <td>1.11</td>\n",
       "      <td>85.0</td>\n",
       "      <td>5.0</td>\n",
       "      <td>E</td>\n",
       "      <td>7.60</td>\n",
       "    </tr>\n",
       "  </tbody>\n",
       "</table>\n",
       "</div>"
      ],
      "text/plain": [
       "                                         name platform  year_of_release  \\\n",
       "0                          Grand Theft Auto V      PS3             2013   \n",
       "1                          Grand Theft Auto V     X360             2013   \n",
       "2                   Call of Duty: Black Ops 3      PS4             2015   \n",
       "3                         Pokemon X/Pokemon Y      3DS             2013   \n",
       "4                  Call of Duty: Black Ops II      PS3             2012   \n",
       "5                  Call of Duty: Black Ops II     X360             2012   \n",
       "6                          Grand Theft Auto V      PS4             2014   \n",
       "7   Pokemon Omega Ruby/Pokemon Alpha Sapphire      3DS             2014   \n",
       "8                        Call of Duty: Ghosts     X360             2013   \n",
       "9                     New Super Mario Bros. 2      3DS             2012   \n",
       "10                                     Halo 4     X360             2012   \n",
       "11                       Call of Duty: Ghosts      PS3             2013   \n",
       "12                                  Minecraft     X360             2013   \n",
       "13                  Animal Crossing: New Leaf      3DS             2012   \n",
       "14                                    FIFA 16      PS4             2015   \n",
       "15                             FIFA Soccer 13      PS3             2012   \n",
       "16            Pokemon Black 2/Pokemon White 2       DS             2012   \n",
       "17               Star Wars Battlefront (2015)      PS4             2015   \n",
       "18             Call of Duty: Advanced Warfare      PS4             2014   \n",
       "19                                    FIFA 17      PS4             2016   \n",
       "\n",
       "           genre  na_sales  eu_sales  jp_sales  other_sales  critic_score  \\\n",
       "0         Action      7.02      9.09      0.98         3.96          97.0   \n",
       "1         Action      9.66      5.14      0.06         1.41          97.0   \n",
       "2        Shooter      6.03      5.86      0.36         2.38          -1.0   \n",
       "3   Role-Playing      5.28      4.19      4.35         0.78          -1.0   \n",
       "4        Shooter      4.99      5.73      0.65         2.42          83.0   \n",
       "5        Shooter      8.25      4.24      0.07         1.12          83.0   \n",
       "6         Action      3.96      6.31      0.38         1.97          97.0   \n",
       "7   Role-Playing      4.35      3.49      3.10         0.74          -1.0   \n",
       "8        Shooter      6.73      2.56      0.04         0.91          73.0   \n",
       "9       Platform      3.66      3.14      2.47         0.63          78.0   \n",
       "10       Shooter      6.65      2.28      0.04         0.74          87.0   \n",
       "11       Shooter      4.10      3.63      0.38         1.25          71.0   \n",
       "12          Misc      5.70      2.65      0.02         0.81          -1.0   \n",
       "13    Simulation      2.03      2.36      4.39         0.39          88.0   \n",
       "14        Sports      1.12      6.12      0.06         1.28          82.0   \n",
       "15        Action      1.06      5.01      0.13         1.97          88.0   \n",
       "16  Role-Playing      2.79      1.72      3.14         0.41          -1.0   \n",
       "17       Shooter      2.99      3.49      0.22         1.28          -1.0   \n",
       "18       Shooter      2.81      3.48      0.14         1.23          83.0   \n",
       "19        Sports      0.66      5.75      0.08         1.11          85.0   \n",
       "\n",
       "    user_score          rating  total_sales  \n",
       "0          8.2               M        21.05  \n",
       "1          8.1               M        16.27  \n",
       "2         -1.0  without_rating        14.63  \n",
       "3         -1.0  without_rating        14.60  \n",
       "4          5.3               M        13.79  \n",
       "5          4.8               M        13.68  \n",
       "6          8.3               M        12.62  \n",
       "7         -1.0  without_rating        11.68  \n",
       "8          2.6               M        10.24  \n",
       "9          7.2               E         9.90  \n",
       "10         7.0               M         9.71  \n",
       "11         2.6               M         9.36  \n",
       "12        -1.0  without_rating         9.18  \n",
       "13         8.7               E         9.17  \n",
       "14         4.3               E         8.58  \n",
       "15         6.6               E         8.17  \n",
       "16        -1.0  without_rating         8.06  \n",
       "17        -1.0  without_rating         7.98  \n",
       "18         5.7               M         7.66  \n",
       "19         5.0               E         7.60  "
      ]
     },
     "execution_count": 18,
     "metadata": {},
     "output_type": "execute_result"
    }
   ],
   "source": [
    "df_filtered.head(20)"
   ]
  },
  {
   "cell_type": "code",
   "execution_count": 19,
   "metadata": {},
   "outputs": [
    {
     "data": {
      "text/plain": [
       "array(['PS3', 'X360', 'PS4', '3DS', 'DS', 'XOne', 'WiiU', 'Wii', 'PC',\n",
       "       'PSV', 'PSP'], dtype=object)"
      ]
     },
     "execution_count": 19,
     "metadata": {},
     "output_type": "execute_result"
    }
   ],
   "source": [
    "df_filtered[df_filtered['year_of_release'] != 2100]['platform'].unique()"
   ]
  },
  {
   "cell_type": "code",
   "execution_count": 20,
   "metadata": {},
   "outputs": [
    {
     "data": {
      "image/png": "[encoded data removed]",
      "text/plain": [
       "<Figure size 1008x576 with 1 Axes>"
      ]
     },
     "metadata": {
      "needs_background": "light"
     },
     "output_type": "display_data"
    }
   ],
   "source": [
    "(\n",
    "    df_filtered[df_filtered['year_of_release'] != 2100]\n",
    "    .pivot_table(index='year_of_release', columns='platform', values='total_sales', aggfunc='sum')\n",
    "    .plot(style='o-', grid=True, figsize=(14,8), title='Продажи с 2005 по 2016 год включительно')\n",
    ")\n",
    "plt.xlabel('Год')\n",
    "plt.ylabel('Продажи, млн.копий')\n",
    "plt.show()"
   ]
  },
  {
   "cell_type": "markdown",
   "metadata": {},
   "source": [
    "Судя по графику нет потенциально прибыльных платформ(хахаха). Все платформы либо уже ушли в 0, либо стремятся туда. На данный момент лидирует PS4 и XOne. "
   ]
  },
  {
   "cell_type": "markdown",
   "metadata": {},
   "source": [
    "<div class=\"alert alert-success\"; style=\"border-left: 7px solid green\">\n",
    "<font size=\"4\"><b>Комментарий ревьюера 🚀</b></font>\n",
    "    <br />\n",
    "    <font size=\"3\", color = \"black\">\n",
    "    <br /> Молодец, верно найдены платформы. Согласен, потенциал почти все израсзодовали\n",
    "     <br />\n",
    "    </font>\n",
    "\n",
    "</div>"
   ]
  },
  {
   "cell_type": "markdown",
   "metadata": {},
   "source": [
    "<div class=\"alert alert-danger\"; style=\"border-left: 7px solid red\">\n",
    "<font size=\"4\"><b>Комментарий ревьюера 🦔 </b></font>\n",
    "    <br /> \n",
    "    <font size=\"3\", color = \"black\">\n",
    "<br />\n",
    "    Тут стоит выбрать топ-5 платформ хотя бы, чтобы проводить дальнейшее исследование. \"3 DS\" тоже выглядит совсем неплохо. Чтобы точно выбрать актуальный топ, следует уменшить актуальный временной промежут (до 2014-го) и посчитать за этот период суммарные доходы для определения самых прибыльных. То есть можно построить столбчатую диаграмму, сравнивая суммарные доходы с 2014 до 2016-го (не в динамике, а просто суммы).\n",
    "    <br />\n",
    "    </font>\n",
    "\n",
    "</div>"
   ]
  },
  {
   "cell_type": "markdown",
   "metadata": {},
   "source": [
    "<div class=\"alert alert-info\" style=\"background:#ffdbf1;color:#2e00ab\">\n",
    "<h3>Комментарий студента!!!!! </h3>\n",
    "    Сейчас попробую поправить"
   ]
  },
  {
   "cell_type": "code",
   "execution_count": 21,
   "metadata": {},
   "outputs": [
    {
     "data": {
      "text/html": [
       "<div>\n",
       "<style scoped>\n",
       "    .dataframe tbody tr th:only-of-type {\n",
       "        vertical-align: middle;\n",
       "    }\n",
       "\n",
       "    .dataframe tbody tr th {\n",
       "        vertical-align: top;\n",
       "    }\n",
       "\n",
       "    .dataframe thead th {\n",
       "        text-align: right;\n",
       "    }\n",
       "</style>\n",
       "<table border=\"1\" class=\"dataframe\">\n",
       "  <thead>\n",
       "    <tr style=\"text-align: right;\">\n",
       "      <th></th>\n",
       "      <th>total_sales</th>\n",
       "    </tr>\n",
       "    <tr>\n",
       "      <th>platform</th>\n",
       "      <th></th>\n",
       "    </tr>\n",
       "  </thead>\n",
       "  <tbody>\n",
       "    <tr>\n",
       "      <td>N64</td>\n",
       "      <td>0.67</td>\n",
       "    </tr>\n",
       "    <tr>\n",
       "      <td>GB</td>\n",
       "      <td>1.03</td>\n",
       "    </tr>\n",
       "    <tr>\n",
       "      <td>GC</td>\n",
       "      <td>2.20</td>\n",
       "    </tr>\n",
       "    <tr>\n",
       "      <td>PS</td>\n",
       "      <td>3.28</td>\n",
       "    </tr>\n",
       "    <tr>\n",
       "      <td>DS</td>\n",
       "      <td>3.34</td>\n",
       "    </tr>\n",
       "    <tr>\n",
       "      <td>PSP</td>\n",
       "      <td>4.88</td>\n",
       "    </tr>\n",
       "    <tr>\n",
       "      <td>GBA</td>\n",
       "      <td>4.97</td>\n",
       "    </tr>\n",
       "    <tr>\n",
       "      <td>XB</td>\n",
       "      <td>6.17</td>\n",
       "    </tr>\n",
       "    <tr>\n",
       "      <td>2600</td>\n",
       "      <td>10.50</td>\n",
       "    </tr>\n",
       "    <tr>\n",
       "      <td>Wii</td>\n",
       "      <td>21.40</td>\n",
       "    </tr>\n",
       "    <tr>\n",
       "      <td>PS2</td>\n",
       "      <td>22.21</td>\n",
       "    </tr>\n",
       "    <tr>\n",
       "      <td>PSV</td>\n",
       "      <td>22.66</td>\n",
       "    </tr>\n",
       "    <tr>\n",
       "      <td>PC</td>\n",
       "      <td>30.81</td>\n",
       "    </tr>\n",
       "    <tr>\n",
       "      <td>WiiU</td>\n",
       "      <td>42.98</td>\n",
       "    </tr>\n",
       "    <tr>\n",
       "      <td>X360</td>\n",
       "      <td>58.40</td>\n",
       "    </tr>\n",
       "    <tr>\n",
       "      <td>PS3</td>\n",
       "      <td>76.49</td>\n",
       "    </tr>\n",
       "    <tr>\n",
       "      <td>3DS</td>\n",
       "      <td>87.87</td>\n",
       "    </tr>\n",
       "    <tr>\n",
       "      <td>XOne</td>\n",
       "      <td>140.36</td>\n",
       "    </tr>\n",
       "    <tr>\n",
       "      <td>PS4</td>\n",
       "      <td>288.15</td>\n",
       "    </tr>\n",
       "  </tbody>\n",
       "</table>\n",
       "</div>"
      ],
      "text/plain": [
       "          total_sales\n",
       "platform             \n",
       "N64              0.67\n",
       "GB               1.03\n",
       "GC               2.20\n",
       "PS               3.28\n",
       "DS               3.34\n",
       "PSP              4.88\n",
       "GBA              4.97\n",
       "XB               6.17\n",
       "2600            10.50\n",
       "Wii             21.40\n",
       "PS2             22.21\n",
       "PSV             22.66\n",
       "PC              30.81\n",
       "WiiU            42.98\n",
       "X360            58.40\n",
       "PS3             76.49\n",
       "3DS             87.87\n",
       "XOne           140.36\n",
       "PS4            288.15"
      ]
     },
     "execution_count": 21,
     "metadata": {},
     "output_type": "execute_result"
    }
   ],
   "source": [
    "df_filtered_2014 = df.query('year_of_release >= 2014')\n",
    "df_filtered_2014.reset_index(inplace=True, drop = True)\n",
    "dohod = pd.pivot_table(df_filtered_2014,\n",
    "                      index = 'platform',\n",
    "                      values = 'total_sales',\n",
    "                      aggfunc = np.sum)\n",
    "dohod = dohod.sort_values(by = 'total_sales')\n",
    "dohod"
   ]
  },
  {
   "cell_type": "code",
   "execution_count": 22,
   "metadata": {},
   "outputs": [
    {
     "data": {
      "text/plain": [
       "<matplotlib.axes._subplots.AxesSubplot at 0x7f3b52dce310>"
      ]
     },
     "execution_count": 22,
     "metadata": {},
     "output_type": "execute_result"
    },
    {
     "data": {
      "image/png": "[encoded data removed]",
      "text/plain": [
       "<Figure size 432x288 with 1 Axes>"
      ]
     },
     "metadata": {
      "needs_background": "light"
     },
     "output_type": "display_data"
    }
   ],
   "source": [
    "# комментарий ревьюера\n",
    "dohod.plot(kind = 'bar')"
   ]
  },
  {
   "cell_type": "code",
   "execution_count": 23,
   "metadata": {},
   "outputs": [],
   "source": [
    "top5_platform = df_filtered.query('platform == [\"PS4\", \"XOne\", \"3DS\", \"PS3\", \"X360\"]')\n",
    "top5_platform.reset_index(inplace=True, drop = True)"
   ]
  },
  {
   "cell_type": "markdown",
   "metadata": {},
   "source": [
    "<div class=\"alert alert-info\" style=\"background:#ffdbf1;color:#2e00ab\">\n",
    "<h3>Комментарий студента!!!!! </h3>\n",
    "    Тут мы видим топ 5 по продажам с 2014 года - это PS4, XOne, 3DS, PS3, X360. Диаграмму не строил, т.к. не вижу смысла. По цифрам же проще смотреть\n",
    "    "
   ]
  },
  {
   "cell_type": "markdown",
   "metadata": {},
   "source": [
    "<div class=\"alert alert-success\"; style=\"border-left: 7px solid green\">\n",
    "<font size=\"4\"><b>Комментарий ревьюера 🚀 v2</b></font>\n",
    "    <br />\n",
    "    <font size=\"3\", color = \"black\">\n",
    "    <br /> Принято! Привел короткое оформление графика чуть выше, чтобы не возникали проблемы с построением. А так, все верно!\n",
    "     <br />\n",
    "    </font>\n",
    "\n",
    "</div>"
   ]
  },
  {
   "cell_type": "markdown",
   "metadata": {},
   "source": [
    "- Строим ящик с усами по прадажам"
   ]
  },
  {
   "cell_type": "code",
   "execution_count": 24,
   "metadata": {},
   "outputs": [
    {
     "name": "stderr",
     "output_type": "stream",
     "text": [
      "/opt/conda/lib/python3.7/site-packages/numpy/core/_asarray.py:83: VisibleDeprecationWarning: Creating an ndarray from ragged nested sequences (which is a list-or-tuple of lists-or-tuples-or ndarrays with different lengths or shapes) is deprecated. If you meant to do this, you must specify 'dtype=object' when creating the ndarray\n",
      "  return array(a, dtype, copy=False, order=order)\n"
     ]
    },
    {
     "data": {
      "image/png": "[encoded data removed]",
      "text/plain": [
       "<Figure size 576x576 with 1 Axes>"
      ]
     },
     "metadata": {
      "needs_background": "light"
     },
     "output_type": "display_data"
    }
   ],
   "source": [
    "colors = ['#78C850', '#F08030', '#6890F0','#F8D030', '#F85888']\n",
    "plot = top5_platform.boxplot('total_sales', by = 'platform', figsize=(8, 8)).set_ylim(0, 2.5)"
   ]
  },
  {
   "cell_type": "markdown",
   "metadata": {},
   "source": [
    "<div class=\"alert alert-danger\"; style=\"border-left: 7px solid red\">\n",
    "<font size=\"4\"><b>Комментарий ревьюера 🦔 </b></font>\n",
    "    <br /> \n",
    "    <font size=\"3\", color = \"black\">\n",
    "<br />\n",
    "    \"Глобальный\" имелось в виду по всем топовым платформам сделать разбивку. То есть надо отразить усы по каждой из перспективных платформ. Это можно реализовать, если вписать такие значения в параметры графика: by = 'platform'. Для более красивого вывода графика можешь посмотреть библиотеку seaborn и ее график boxplot()\n",
    "    <br />\n",
    "    </font>\n",
    "\n",
    "</div>"
   ]
  },
  {
   "cell_type": "markdown",
   "metadata": {},
   "source": [
    "<div class=\"alert alert-info\" style=\"background:#ffdbf1;color:#2e00ab\">\n",
    "<h3>Комментарий студента!!!!! </h3>\n",
    "    Поправил boxplot. Но с визуализацией какая то беда. Я пытался поменять цвет и перевернуть чтобы проще смотреть было. А он не знает эти аргументы, которые я нагуглил. странно. "
   ]
  },
  {
   "cell_type": "markdown",
   "metadata": {},
   "source": [
    "<div class=\"alert alert-success\"; style=\"border-left: 7px solid green\">\n",
    "<font size=\"4\"><b>Комментарий ревьюера 🚀 v2</b></font>\n",
    "    <br />\n",
    "    <font size=\"3\", color = \"black\">\n",
    "    <br /> Получилась хорошая визуализация, которая дает полезную информацию. Неудача может быть связана с тем, что встроенные в pandas методы по визуализации сильно ограничены. Поэтому советовал библиотеку seaborn, там более широкие возможности по визуализации\n",
    "     <br />\n",
    "    </font>\n",
    "\n",
    "</div>"
   ]
  },
  {
   "cell_type": "markdown",
   "metadata": {},
   "source": [
    "Выбросы начинаются с 0,95. "
   ]
  },
  {
   "cell_type": "markdown",
   "metadata": {},
   "source": [
    "- выберу плэйстэйшн 4 как одну из самых популярных платформ. Посмотрим как влияют на продажи отзывы."
   ]
  },
  {
   "cell_type": "code",
   "execution_count": 25,
   "metadata": {},
   "outputs": [],
   "source": [
    "df_diagramma = df_filtered.query('platform == \"PS4\" and critic_score >= 0')"
   ]
  },
  {
   "cell_type": "code",
   "execution_count": 26,
   "metadata": {},
   "outputs": [
    {
     "data": {
      "text/plain": [
       "<matplotlib.axes._subplots.AxesSubplot at 0x7f3b52c3b590>"
      ]
     },
     "execution_count": 26,
     "metadata": {},
     "output_type": "execute_result"
    },
    {
     "data": {
      "image/png": "[encoded data removed]",
      "text/plain": [
       "<Figure size 432x288 with 1 Axes>"
      ]
     },
     "metadata": {
      "needs_background": "light"
     },
     "output_type": "display_data"
    }
   ],
   "source": [
    "df_diagramma.plot(x='critic_score', y='total_sales', kind='scatter', title='Диаграмма рассеяния по отзывам критиков')"
   ]
  },
  {
   "cell_type": "code",
   "execution_count": 27,
   "metadata": {},
   "outputs": [
    {
     "data": {
      "text/plain": [
       "0.406567902061781"
      ]
     },
     "execution_count": 27,
     "metadata": {},
     "output_type": "execute_result"
    }
   ],
   "source": [
    "df_diagramma['total_sales'].corr(df_diagramma['critic_score'])"
   ]
  },
  {
   "cell_type": "markdown",
   "metadata": {},
   "source": [
    "Корреляция 0.41 говорит о наличии слабой связи.  "
   ]
  },
  {
   "cell_type": "code",
   "execution_count": 28,
   "metadata": {},
   "outputs": [],
   "source": [
    "df_diagramma = df_filtered.query('platform == \"PS4\" and user_score >= 0')"
   ]
  },
  {
   "cell_type": "code",
   "execution_count": 29,
   "metadata": {},
   "outputs": [
    {
     "data": {
      "text/plain": [
       "<matplotlib.axes._subplots.AxesSubplot at 0x7f3b52c05a90>"
      ]
     },
     "execution_count": 29,
     "metadata": {},
     "output_type": "execute_result"
    },
    {
     "data": {
      "image/png": "[encoded data removed]",
      "text/plain": [
       "<Figure size 432x288 with 1 Axes>"
      ]
     },
     "metadata": {
      "needs_background": "light"
     },
     "output_type": "display_data"
    }
   ],
   "source": [
    "df_diagramma.plot(x='user_score', y='total_sales', kind='scatter', title='Диаграмма рассеяния по отзывам пользователей')"
   ]
  },
  {
   "cell_type": "code",
   "execution_count": 30,
   "metadata": {},
   "outputs": [
    {
     "data": {
      "text/plain": [
       "-0.031957110204556424"
      ]
     },
     "execution_count": 30,
     "metadata": {},
     "output_type": "execute_result"
    }
   ],
   "source": [
    "df_diagramma['total_sales'].corr(df_diagramma['user_score'])"
   ]
  },
  {
   "cell_type": "markdown",
   "metadata": {},
   "source": [
    "Корреляция -0.3 означает очень слабую обратную связь. "
   ]
  },
  {
   "cell_type": "markdown",
   "metadata": {},
   "source": [
    "<div class=\"alert alert-success\"; style=\"border-left: 7px solid green\">\n",
    "<font size=\"4\"><b>Комментарий ревьюера 🚀</b></font>\n",
    "    <br />\n",
    "    <font size=\"3\", color = \"black\">\n",
    "    <br /> Корреляция не -0.3, а -0.03. Верно строишь диаграммы и считаешь корреляцию. Интересно, как поменяются результаты после смены актуального периода\n",
    "     <br />\n",
    "    </font>\n",
    "\n",
    "</div>"
   ]
  },
  {
   "cell_type": "markdown",
   "metadata": {},
   "source": [
    "- Рассмотрим X360"
   ]
  },
  {
   "cell_type": "markdown",
   "metadata": {},
   "source": [
    "<div class=\"alert alert-success\"; style=\"border-left: 7px solid green\">\n",
    "<font size=\"4\"><b>Комментарий ревьюера 🚀</b></font>\n",
    "    <br />\n",
    "    <font size=\"3\", color = \"black\">\n",
    "    <br /> Тоже неплохой выбор, точно входит в топ-5\n",
    "     <br />\n",
    "    </font>\n",
    "\n",
    "</div>"
   ]
  },
  {
   "cell_type": "code",
   "execution_count": 31,
   "metadata": {},
   "outputs": [
    {
     "data": {
      "text/plain": [
       "<matplotlib.axes._subplots.AxesSubplot at 0x7f3b51103b90>"
      ]
     },
     "execution_count": 31,
     "metadata": {},
     "output_type": "execute_result"
    },
    {
     "data": {
      "image/png": "[encoded data removed]",
      "text/plain": [
       "<Figure size 432x288 with 1 Axes>"
      ]
     },
     "metadata": {
      "needs_background": "light"
     },
     "output_type": "display_data"
    }
   ],
   "source": [
    "df_diagramma1 = df_filtered.query('platform == \"X360\" and critic_score >= 0')\n",
    "df_diagramma1.plot(x='critic_score', y='total_sales', kind='scatter', title='Диаграмма рассеяния по отзывам критиков')"
   ]
  },
  {
   "cell_type": "code",
   "execution_count": 32,
   "metadata": {},
   "outputs": [
    {
     "data": {
      "text/plain": [
       "0.36811788816144275"
      ]
     },
     "execution_count": 32,
     "metadata": {},
     "output_type": "execute_result"
    }
   ],
   "source": [
    "df_diagramma1['total_sales'].corr(df_diagramma1['critic_score'])"
   ]
  },
  {
   "cell_type": "markdown",
   "metadata": {},
   "source": [
    "Корреляция 0.39 означает слабую связь."
   ]
  },
  {
   "cell_type": "code",
   "execution_count": 33,
   "metadata": {},
   "outputs": [
    {
     "data": {
      "text/plain": [
       "<matplotlib.axes._subplots.AxesSubplot at 0x7f3b510d1c50>"
      ]
     },
     "execution_count": 33,
     "metadata": {},
     "output_type": "execute_result"
    },
    {
     "data": {
      "image/png": "[encoded data removed]",
      "text/plain": [
       "<Figure size 432x288 with 1 Axes>"
      ]
     },
     "metadata": {
      "needs_background": "light"
     },
     "output_type": "display_data"
    }
   ],
   "source": [
    "df_diagramma1 = df_filtered.query('platform == \"X360\" and user_score >= 0')\n",
    "df_diagramma1.plot(x='user_score', y='total_sales', kind='scatter', title='Диаграмма рассеяния по отзывам пользователей')"
   ]
  },
  {
   "cell_type": "code",
   "execution_count": 34,
   "metadata": {},
   "outputs": [
    {
     "data": {
      "text/plain": [
       "0.005916643352759989"
      ]
     },
     "execution_count": 34,
     "metadata": {},
     "output_type": "execute_result"
    }
   ],
   "source": [
    "df_diagramma1['total_sales'].corr(df_diagramma1['user_score'])"
   ]
  },
  {
   "cell_type": "markdown",
   "metadata": {},
   "source": [
    "Корреляция 0.11 означает очень очень ооочень слабую связь."
   ]
  },
  {
   "cell_type": "markdown",
   "metadata": {},
   "source": [
    "- Рассмотрим еще одну платформу - XOne"
   ]
  },
  {
   "cell_type": "markdown",
   "metadata": {},
   "source": [
    "<div class=\"alert alert-success\"; style=\"border-left: 7px solid green\">\n",
    "<font size=\"4\"><b>Комментарий ревьюера 🚀</b></font>\n",
    "    <br />\n",
    "    <font size=\"3\", color = \"black\">\n",
    "    <br /> Хороший выбор\n",
    "     <br />\n",
    "    </font>\n",
    "\n",
    "</div>"
   ]
  },
  {
   "cell_type": "code",
   "execution_count": 35,
   "metadata": {},
   "outputs": [
    {
     "data": {
      "text/plain": [
       "<matplotlib.axes._subplots.AxesSubplot at 0x7f3b5bb580d0>"
      ]
     },
     "execution_count": 35,
     "metadata": {},
     "output_type": "execute_result"
    },
    {
     "data": {
      "image/png": "[encoded data removed]",
      "text/plain": [
       "<Figure size 432x288 with 1 Axes>"
      ]
     },
     "metadata": {
      "needs_background": "light"
     },
     "output_type": "display_data"
    }
   ],
   "source": [
    "df_diagramma2 = df_filtered.query('platform == \"XOne\" and critic_score >= 0')\n",
    "df_diagramma2.plot(x='critic_score', y='total_sales', kind='scatter', title='Диаграмма рассеяния по отзывам критиков')"
   ]
  },
  {
   "cell_type": "code",
   "execution_count": 36,
   "metadata": {},
   "outputs": [
    {
     "data": {
      "text/plain": [
       "0.41699832800840175"
      ]
     },
     "execution_count": 36,
     "metadata": {},
     "output_type": "execute_result"
    }
   ],
   "source": [
    "df_diagramma2['total_sales'].corr(df_diagramma2['critic_score'])"
   ]
  },
  {
   "cell_type": "markdown",
   "metadata": {},
   "source": [
    "<div class=\"alert alert-danger\"; style=\"border-left: 7px solid red\">\n",
    "<font size=\"4\"><b>Комментарий ревьюера 🦔 </b></font>\n",
    "    <br /> \n",
    "    <font size=\"3\", color = \"black\">\n",
    "<br />\n",
    "    Ошибся с диаграммой 1. Поэтому ответ nan\n",
    "    <br />\n",
    "    </font>\n",
    "\n",
    "</div>"
   ]
  },
  {
   "cell_type": "code",
   "execution_count": 37,
   "metadata": {},
   "outputs": [
    {
     "data": {
      "text/plain": [
       "<matplotlib.axes._subplots.AxesSubplot at 0x7f3b50ff0950>"
      ]
     },
     "execution_count": 37,
     "metadata": {},
     "output_type": "execute_result"
    },
    {
     "data": {
      "image/png": "[encoded data removed]",
      "text/plain": [
       "<Figure size 432x288 with 1 Axes>"
      ]
     },
     "metadata": {
      "needs_background": "light"
     },
     "output_type": "display_data"
    }
   ],
   "source": [
    "df_diagramma2 = df_filtered.query('platform == \"XOne\" and user_score >= 0')\n",
    "df_diagramma2.plot(x='user_score', y='total_sales', kind='scatter', title='Диаграмма рассеяния по отзывам пользователей')"
   ]
  },
  {
   "cell_type": "code",
   "execution_count": 38,
   "metadata": {},
   "outputs": [
    {
     "data": {
      "text/plain": [
       "-0.06892505328279412"
      ]
     },
     "execution_count": 38,
     "metadata": {},
     "output_type": "execute_result"
    }
   ],
   "source": [
    "df_diagramma2['total_sales'].corr(df_diagramma2['user_score'])"
   ]
  },
  {
   "cell_type": "markdown",
   "metadata": {},
   "source": [
    "<div class=\"alert alert-danger\"; style=\"border-left: 7px solid red\">\n",
    "<font size=\"4\"><b>Комментарий ревьюера 🦔 </b></font>\n",
    "    <br /> \n",
    "    <font size=\"3\", color = \"black\">\n",
    "<br />\n",
    "    Та же ситуация\n",
    "    <br />\n",
    "    </font>\n",
    "\n",
    "</div>"
   ]
  },
  {
   "cell_type": "markdown",
   "metadata": {},
   "source": [
    "<div class=\"alert alert-info\" style=\"background:#ffdbf1;color:#2e00ab\">\n",
    "<h3>Комментарий студента!!!!! </h3>\n",
    "    Даааа, зря я выбрал это название. ЗАпутался только в этих диаграммах. Просто в голову боллше ничего не пришло:)"
   ]
  },
  {
   "cell_type": "markdown",
   "metadata": {},
   "source": [
    "<div class=\"alert alert-success\"; style=\"border-left: 7px solid green\">\n",
    "<font size=\"4\"><b>Комментарий ревьюера 🚀 v2</b></font>\n",
    "    <br />\n",
    "    <font size=\"3\", color = \"black\">\n",
    "    <br /> Отлично, теперь все верно. Для названия можно было бы использовать названия платформ\n",
    "     <br />\n",
    "    </font>\n",
    "\n",
    "</div>"
   ]
  },
  {
   "cell_type": "markdown",
   "metadata": {},
   "source": [
    "Также слабые связи"
   ]
  },
  {
   "cell_type": "markdown",
   "metadata": {},
   "source": [
    "- Посмотрим на жанры"
   ]
  },
  {
   "cell_type": "code",
   "execution_count": 39,
   "metadata": {},
   "outputs": [
    {
     "data": {
      "text/plain": [
       "16713"
      ]
     },
     "execution_count": 39,
     "metadata": {},
     "output_type": "execute_result"
    }
   ],
   "source": [
    "df['genre'].count()"
   ]
  },
  {
   "cell_type": "code",
   "execution_count": 40,
   "metadata": {},
   "outputs": [
    {
     "data": {
      "text/html": [
       "<div>\n",
       "<style scoped>\n",
       "    .dataframe tbody tr th:only-of-type {\n",
       "        vertical-align: middle;\n",
       "    }\n",
       "\n",
       "    .dataframe tbody tr th {\n",
       "        vertical-align: top;\n",
       "    }\n",
       "\n",
       "    .dataframe thead th {\n",
       "        text-align: right;\n",
       "    }\n",
       "</style>\n",
       "<table border=\"1\" class=\"dataframe\">\n",
       "  <thead>\n",
       "    <tr style=\"text-align: right;\">\n",
       "      <th></th>\n",
       "      <th>total_sales</th>\n",
       "    </tr>\n",
       "    <tr>\n",
       "      <th>genre</th>\n",
       "      <th></th>\n",
       "    </tr>\n",
       "  </thead>\n",
       "  <tbody>\n",
       "    <tr>\n",
       "      <td>Puzzle</td>\n",
       "      <td>580</td>\n",
       "    </tr>\n",
       "    <tr>\n",
       "      <td>Strategy</td>\n",
       "      <td>683</td>\n",
       "    </tr>\n",
       "    <tr>\n",
       "      <td>Fighting</td>\n",
       "      <td>849</td>\n",
       "    </tr>\n",
       "    <tr>\n",
       "      <td>Simulation</td>\n",
       "      <td>873</td>\n",
       "    </tr>\n",
       "    <tr>\n",
       "      <td>Platform</td>\n",
       "      <td>888</td>\n",
       "    </tr>\n",
       "    <tr>\n",
       "      <td>Racing</td>\n",
       "      <td>1249</td>\n",
       "    </tr>\n",
       "    <tr>\n",
       "      <td>Adventure</td>\n",
       "      <td>1303</td>\n",
       "    </tr>\n",
       "    <tr>\n",
       "      <td>Shooter</td>\n",
       "      <td>1323</td>\n",
       "    </tr>\n",
       "    <tr>\n",
       "      <td>Role-Playing</td>\n",
       "      <td>1498</td>\n",
       "    </tr>\n",
       "    <tr>\n",
       "      <td>Misc</td>\n",
       "      <td>1750</td>\n",
       "    </tr>\n",
       "    <tr>\n",
       "      <td>Sports</td>\n",
       "      <td>2348</td>\n",
       "    </tr>\n",
       "    <tr>\n",
       "      <td>Action</td>\n",
       "      <td>3369</td>\n",
       "    </tr>\n",
       "  </tbody>\n",
       "</table>\n",
       "</div>"
      ],
      "text/plain": [
       "              total_sales\n",
       "genre                    \n",
       "Puzzle                580\n",
       "Strategy              683\n",
       "Fighting              849\n",
       "Simulation            873\n",
       "Platform              888\n",
       "Racing               1249\n",
       "Adventure            1303\n",
       "Shooter              1323\n",
       "Role-Playing         1498\n",
       "Misc                 1750\n",
       "Sports               2348\n",
       "Action               3369"
      ]
     },
     "execution_count": 40,
     "metadata": {},
     "output_type": "execute_result"
    }
   ],
   "source": [
    "table_genre = pd.pivot_table(df,\n",
    "              index = 'genre',\n",
    "              values = 'total_sales',\n",
    "              aggfunc = 'count')\n",
    "table_genre_sorted = table_genre.sort_values(by = 'total_sales')\n",
    "table_genre_sorted"
   ]
  },
  {
   "cell_type": "markdown",
   "metadata": {},
   "source": [
    "Больше всего продаж конечно же у экшн игр. И получается наш топ 5: ЭКШН, СПОРТ, MISC(аркады), Ролевые и шутеры. ЭКШН игры очень сильно отрываются от второго место, аж на 1000 выпущенных игр. "
   ]
  },
  {
   "cell_type": "markdown",
   "metadata": {},
   "source": [
    "<div class=\"alert alert-info\" style=\"background:#ffdbf1;color:#2e00ab\">\n",
    "<h3>Комментарий студента!!!!! </h3>\n",
    "    Так. С этим я долго искал как сделать сводную таблицу с count. Но особо ничего не нашел. Но зато придумал такую фишку с len. Теперь мы видим количество игр разных жанров. И получается, что лидируют ЭКШН, СПОРТ, MISC(аркады), Ролевые и шутеры."
   ]
  },
  {
   "cell_type": "markdown",
   "metadata": {},
   "source": [
    "<div class=\"alert alert-success\"; style=\"border-left: 7px solid green\">\n",
    "<font size=\"4\"><b>Комментарий ревьюера 🚀 v2</b></font>\n",
    "    <br />\n",
    "    <font size=\"3\", color = \"black\">\n",
    "    <br /> Все было очень легко. Надо было просто вставить слово \"count\" в параметр aggfunc. Сделал за тебя. Прошу запомни, что так можно делать. Даже можно использовать нескольо функций. Их следует перечислять в виде списка, например: aggfunc = ['count','mean','var'].\n",
    "     <br />\n",
    "    </font>\n",
    "\n",
    "</div>"
   ]
  },
  {
   "cell_type": "markdown",
   "metadata": {},
   "source": [
    "<div class=\"alert alert-danger\"; style=\"border-left: 7px solid red\">\n",
    "<font size=\"4\"><b>Комментарий ревьюера 🦔 </b></font>\n",
    "    <br /> \n",
    "    <font size=\"3\", color = \"black\">\n",
    "<br />\n",
    "    К сожалению, ты нашел сумму продаж, а не количество игр. Чтобы посчитать количество, следует написать \"count\"\n",
    "    <br />\n",
    "    </font>\n",
    "\n",
    "</div>"
   ]
  },
  {
   "cell_type": "markdown",
   "metadata": {},
   "source": [
    "# Шаг 4: Составим портрет пользователя каждого региона"
   ]
  },
  {
   "cell_type": "markdown",
   "metadata": {},
   "source": [
    "- Начнем с топ-5 платформ"
   ]
  },
  {
   "cell_type": "code",
   "execution_count": 41,
   "metadata": {},
   "outputs": [
    {
     "data": {
      "text/html": [
       "<div>\n",
       "<style scoped>\n",
       "    .dataframe tbody tr th:only-of-type {\n",
       "        vertical-align: middle;\n",
       "    }\n",
       "\n",
       "    .dataframe tbody tr th {\n",
       "        vertical-align: top;\n",
       "    }\n",
       "\n",
       "    .dataframe thead th {\n",
       "        text-align: right;\n",
       "    }\n",
       "</style>\n",
       "<table border=\"1\" class=\"dataframe\">\n",
       "  <thead>\n",
       "    <tr style=\"text-align: right;\">\n",
       "      <th></th>\n",
       "      <th>eu_sales</th>\n",
       "    </tr>\n",
       "    <tr>\n",
       "      <th>platform</th>\n",
       "      <th></th>\n",
       "    </tr>\n",
       "  </thead>\n",
       "  <tbody>\n",
       "    <tr>\n",
       "      <td>PS2</td>\n",
       "      <td>339.29</td>\n",
       "    </tr>\n",
       "    <tr>\n",
       "      <td>PS3</td>\n",
       "      <td>330.29</td>\n",
       "    </tr>\n",
       "    <tr>\n",
       "      <td>X360</td>\n",
       "      <td>270.76</td>\n",
       "    </tr>\n",
       "    <tr>\n",
       "      <td>Wii</td>\n",
       "      <td>262.21</td>\n",
       "    </tr>\n",
       "    <tr>\n",
       "      <td>PS</td>\n",
       "      <td>213.61</td>\n",
       "    </tr>\n",
       "  </tbody>\n",
       "</table>\n",
       "</div>"
      ],
      "text/plain": [
       "          eu_sales\n",
       "platform          \n",
       "PS2         339.29\n",
       "PS3         330.29\n",
       "X360        270.76\n",
       "Wii         262.21\n",
       "PS          213.61"
      ]
     },
     "execution_count": 41,
     "metadata": {},
     "output_type": "execute_result"
    }
   ],
   "source": [
    "df.groupby(by='platform').agg({'eu_sales':'sum'}).sort_values(by='eu_sales', ascending=False).head(5)\n",
    "# топ 5 платформ в европе"
   ]
  },
  {
   "cell_type": "code",
   "execution_count": 42,
   "metadata": {},
   "outputs": [
    {
     "data": {
      "text/html": [
       "<div>\n",
       "<style scoped>\n",
       "    .dataframe tbody tr th:only-of-type {\n",
       "        vertical-align: middle;\n",
       "    }\n",
       "\n",
       "    .dataframe tbody tr th {\n",
       "        vertical-align: top;\n",
       "    }\n",
       "\n",
       "    .dataframe thead th {\n",
       "        text-align: right;\n",
       "    }\n",
       "</style>\n",
       "<table border=\"1\" class=\"dataframe\">\n",
       "  <thead>\n",
       "    <tr style=\"text-align: right;\">\n",
       "      <th></th>\n",
       "      <th>na_sales</th>\n",
       "    </tr>\n",
       "    <tr>\n",
       "      <th>platform</th>\n",
       "      <th></th>\n",
       "    </tr>\n",
       "  </thead>\n",
       "  <tbody>\n",
       "    <tr>\n",
       "      <td>X360</td>\n",
       "      <td>602.47</td>\n",
       "    </tr>\n",
       "    <tr>\n",
       "      <td>PS2</td>\n",
       "      <td>583.84</td>\n",
       "    </tr>\n",
       "    <tr>\n",
       "      <td>Wii</td>\n",
       "      <td>496.90</td>\n",
       "    </tr>\n",
       "    <tr>\n",
       "      <td>PS3</td>\n",
       "      <td>393.49</td>\n",
       "    </tr>\n",
       "    <tr>\n",
       "      <td>DS</td>\n",
       "      <td>382.40</td>\n",
       "    </tr>\n",
       "  </tbody>\n",
       "</table>\n",
       "</div>"
      ],
      "text/plain": [
       "          na_sales\n",
       "platform          \n",
       "X360        602.47\n",
       "PS2         583.84\n",
       "Wii         496.90\n",
       "PS3         393.49\n",
       "DS          382.40"
      ]
     },
     "execution_count": 42,
     "metadata": {},
     "output_type": "execute_result"
    }
   ],
   "source": [
    "df.groupby(by='platform').agg({'na_sales':'sum'}).sort_values(by='na_sales', ascending=False).head(5)\n",
    "# топ 5 платформ в северной америке"
   ]
  },
  {
   "cell_type": "code",
   "execution_count": 43,
   "metadata": {},
   "outputs": [
    {
     "data": {
      "text/html": [
       "<div>\n",
       "<style scoped>\n",
       "    .dataframe tbody tr th:only-of-type {\n",
       "        vertical-align: middle;\n",
       "    }\n",
       "\n",
       "    .dataframe tbody tr th {\n",
       "        vertical-align: top;\n",
       "    }\n",
       "\n",
       "    .dataframe thead th {\n",
       "        text-align: right;\n",
       "    }\n",
       "</style>\n",
       "<table border=\"1\" class=\"dataframe\">\n",
       "  <thead>\n",
       "    <tr style=\"text-align: right;\">\n",
       "      <th></th>\n",
       "      <th>jp_sales</th>\n",
       "    </tr>\n",
       "    <tr>\n",
       "      <th>platform</th>\n",
       "      <th></th>\n",
       "    </tr>\n",
       "  </thead>\n",
       "  <tbody>\n",
       "    <tr>\n",
       "      <td>DS</td>\n",
       "      <td>175.57</td>\n",
       "    </tr>\n",
       "    <tr>\n",
       "      <td>PS</td>\n",
       "      <td>139.82</td>\n",
       "    </tr>\n",
       "    <tr>\n",
       "      <td>PS2</td>\n",
       "      <td>139.20</td>\n",
       "    </tr>\n",
       "    <tr>\n",
       "      <td>SNES</td>\n",
       "      <td>116.55</td>\n",
       "    </tr>\n",
       "    <tr>\n",
       "      <td>3DS</td>\n",
       "      <td>100.67</td>\n",
       "    </tr>\n",
       "  </tbody>\n",
       "</table>\n",
       "</div>"
      ],
      "text/plain": [
       "          jp_sales\n",
       "platform          \n",
       "DS          175.57\n",
       "PS          139.82\n",
       "PS2         139.20\n",
       "SNES        116.55\n",
       "3DS         100.67"
      ]
     },
     "execution_count": 43,
     "metadata": {},
     "output_type": "execute_result"
    }
   ],
   "source": [
    "df.groupby(by='platform').agg({'jp_sales':'sum'}).sort_values(by='jp_sales', ascending=False).head(5)\n",
    "# топ 5 платформ в японии"
   ]
  },
  {
   "cell_type": "code",
   "execution_count": 44,
   "metadata": {},
   "outputs": [
    {
     "data": {
      "text/html": [
       "<div>\n",
       "<style scoped>\n",
       "    .dataframe tbody tr th:only-of-type {\n",
       "        vertical-align: middle;\n",
       "    }\n",
       "\n",
       "    .dataframe tbody tr th {\n",
       "        vertical-align: top;\n",
       "    }\n",
       "\n",
       "    .dataframe thead th {\n",
       "        text-align: right;\n",
       "    }\n",
       "</style>\n",
       "<table border=\"1\" class=\"dataframe\">\n",
       "  <thead>\n",
       "    <tr style=\"text-align: right;\">\n",
       "      <th></th>\n",
       "      <th>other_sales</th>\n",
       "    </tr>\n",
       "    <tr>\n",
       "      <th>platform</th>\n",
       "      <th></th>\n",
       "    </tr>\n",
       "  </thead>\n",
       "  <tbody>\n",
       "    <tr>\n",
       "      <td>PS2</td>\n",
       "      <td>193.44</td>\n",
       "    </tr>\n",
       "    <tr>\n",
       "      <td>PS3</td>\n",
       "      <td>135.68</td>\n",
       "    </tr>\n",
       "    <tr>\n",
       "      <td>X360</td>\n",
       "      <td>85.76</td>\n",
       "    </tr>\n",
       "    <tr>\n",
       "      <td>Wii</td>\n",
       "      <td>79.07</td>\n",
       "    </tr>\n",
       "    <tr>\n",
       "      <td>DS</td>\n",
       "      <td>59.26</td>\n",
       "    </tr>\n",
       "  </tbody>\n",
       "</table>\n",
       "</div>"
      ],
      "text/plain": [
       "          other_sales\n",
       "platform             \n",
       "PS2            193.44\n",
       "PS3            135.68\n",
       "X360            85.76\n",
       "Wii             79.07\n",
       "DS              59.26"
      ]
     },
     "execution_count": 44,
     "metadata": {},
     "output_type": "execute_result"
    }
   ],
   "source": [
    "df.groupby(by='platform').agg({'other_sales':'sum'}).sort_values(by='other_sales', ascending=False).head(5)\n",
    "# топ 5 платформ других продаж"
   ]
  },
  {
   "cell_type": "code",
   "execution_count": 45,
   "metadata": {},
   "outputs": [
    {
     "data": {
      "text/html": [
       "<div>\n",
       "<style scoped>\n",
       "    .dataframe tbody tr th:only-of-type {\n",
       "        vertical-align: middle;\n",
       "    }\n",
       "\n",
       "    .dataframe tbody tr th {\n",
       "        vertical-align: top;\n",
       "    }\n",
       "\n",
       "    .dataframe thead th {\n",
       "        text-align: right;\n",
       "    }\n",
       "</style>\n",
       "<table border=\"1\" class=\"dataframe\">\n",
       "  <thead>\n",
       "    <tr style=\"text-align: right;\">\n",
       "      <th></th>\n",
       "      <th>total_sales</th>\n",
       "    </tr>\n",
       "    <tr>\n",
       "      <th>platform</th>\n",
       "      <th></th>\n",
       "    </tr>\n",
       "  </thead>\n",
       "  <tbody>\n",
       "    <tr>\n",
       "      <td>PS2</td>\n",
       "      <td>1255.77</td>\n",
       "    </tr>\n",
       "    <tr>\n",
       "      <td>X360</td>\n",
       "      <td>971.42</td>\n",
       "    </tr>\n",
       "    <tr>\n",
       "      <td>PS3</td>\n",
       "      <td>939.65</td>\n",
       "    </tr>\n",
       "    <tr>\n",
       "      <td>Wii</td>\n",
       "      <td>907.51</td>\n",
       "    </tr>\n",
       "    <tr>\n",
       "      <td>DS</td>\n",
       "      <td>806.12</td>\n",
       "    </tr>\n",
       "    <tr>\n",
       "      <td>PS</td>\n",
       "      <td>730.86</td>\n",
       "    </tr>\n",
       "    <tr>\n",
       "      <td>GBA</td>\n",
       "      <td>317.85</td>\n",
       "    </tr>\n",
       "    <tr>\n",
       "      <td>PS4</td>\n",
       "      <td>314.14</td>\n",
       "    </tr>\n",
       "    <tr>\n",
       "      <td>PSP</td>\n",
       "      <td>294.05</td>\n",
       "    </tr>\n",
       "    <tr>\n",
       "      <td>PC</td>\n",
       "      <td>259.52</td>\n",
       "    </tr>\n",
       "    <tr>\n",
       "      <td>3DS</td>\n",
       "      <td>259.00</td>\n",
       "    </tr>\n",
       "    <tr>\n",
       "      <td>XB</td>\n",
       "      <td>257.74</td>\n",
       "    </tr>\n",
       "    <tr>\n",
       "      <td>GB</td>\n",
       "      <td>255.46</td>\n",
       "    </tr>\n",
       "    <tr>\n",
       "      <td>NES</td>\n",
       "      <td>251.05</td>\n",
       "    </tr>\n",
       "    <tr>\n",
       "      <td>N64</td>\n",
       "      <td>218.68</td>\n",
       "    </tr>\n",
       "    <tr>\n",
       "      <td>SNES</td>\n",
       "      <td>200.04</td>\n",
       "    </tr>\n",
       "    <tr>\n",
       "      <td>GC</td>\n",
       "      <td>198.93</td>\n",
       "    </tr>\n",
       "    <tr>\n",
       "      <td>XOne</td>\n",
       "      <td>159.32</td>\n",
       "    </tr>\n",
       "    <tr>\n",
       "      <td>2600</td>\n",
       "      <td>96.98</td>\n",
       "    </tr>\n",
       "    <tr>\n",
       "      <td>WiiU</td>\n",
       "      <td>82.19</td>\n",
       "    </tr>\n",
       "  </tbody>\n",
       "</table>\n",
       "</div>"
      ],
      "text/plain": [
       "          total_sales\n",
       "platform             \n",
       "PS2           1255.77\n",
       "X360           971.42\n",
       "PS3            939.65\n",
       "Wii            907.51\n",
       "DS             806.12\n",
       "PS             730.86\n",
       "GBA            317.85\n",
       "PS4            314.14\n",
       "PSP            294.05\n",
       "PC             259.52\n",
       "3DS            259.00\n",
       "XB             257.74\n",
       "GB             255.46\n",
       "NES            251.05\n",
       "N64            218.68\n",
       "SNES           200.04\n",
       "GC             198.93\n",
       "XOne           159.32\n",
       "2600            96.98\n",
       "WiiU            82.19"
      ]
     },
     "execution_count": 45,
     "metadata": {},
     "output_type": "execute_result"
    }
   ],
   "source": [
    "df.groupby(by='platform').agg({'total_sales':'sum'}).sort_values(by='total_sales', ascending=False).head(20)\n",
    "# Все продажи для расчета долей"
   ]
  },
  {
   "cell_type": "markdown",
   "metadata": {},
   "source": [
    "<div class=\"alert alert-success\"; style=\"border-left: 7px solid green\">\n",
    "<font size=\"4\"><b>Комментарий ревьюера 🚀</b></font>\n",
    "    <br />\n",
    "    <font size=\"3\", color = \"black\">\n",
    "    <br />Верная реализация, но не те данные\n",
    "     <br />\n",
    "    </font>\n",
    "\n",
    "</div>"
   ]
  },
  {
   "cell_type": "code",
   "execution_count": 47,
   "metadata": {},
   "outputs": [],
   "source": [
    "platform = ['PS2', 'PS3', 'X360', 'Wii', 'PS']\n",
    "total_sales = [1255.77, 939.65, 971.42, 907.51, 730.86]\n",
    "sales_in_eu = [339.29, 330.29, 270.76, 262.21, 213.61]\n",
    "dolya_eu = []\n",
    "for i in range(len(platform)):\n",
    "    dolya_eu.append(sales_in_eu[i]/total_sales[i])"
   ]
  },
  {
   "cell_type": "code",
   "execution_count": 48,
   "metadata": {},
   "outputs": [],
   "source": [
    "dolya_eu = pd.DataFrame(dolya_eu, index = platform)"
   ]
  },
  {
   "cell_type": "code",
   "execution_count": 51,
   "metadata": {},
   "outputs": [],
   "source": [
    "platform = ['DS', 'PS', 'PS2', 'SNES', '3DS']\n",
    "total_sales = [1255.77, 939.65, 971.42, 907.51, 730.86]\n",
    "sales_in_jp = [806.12, 213.61, 270.76, 200.04, 213.61]\n",
    "dolya_jp = []\n",
    "for i in range(len(platform)):\n",
    "    dolya_jp.append(sales_in_jp[i]/total_sales[i])"
   ]
  },
  {
   "cell_type": "code",
   "execution_count": 52,
   "metadata": {},
   "outputs": [],
   "source": [
    "dolya_jp = pd.DataFrame(dolya_jp, index = platform)"
   ]
  },
  {
   "cell_type": "code",
   "execution_count": 53,
   "metadata": {},
   "outputs": [],
   "source": [
    "platform = ['X360', 'PS2', 'Wii', 'PS3', 'DS']\n",
    "total_sales = [971.77, 1255.65, 907.51, 939.65, 806.12]\n",
    "sales_in_na = [602.47, 583.84, 496.90, 393.49, 382.40]\n",
    "dolya_na = []\n",
    "for i in range(len(platform)):\n",
    "    dolya_na.append(sales_in_jp[i]/total_sales[i])"
   ]
  },
  {
   "cell_type": "code",
   "execution_count": 54,
   "metadata": {},
   "outputs": [],
   "source": [
    "dolya_na = pd.DataFrame(dolya_na, index = platform)"
   ]
  },
  {
   "cell_type": "code",
   "execution_count": 55,
   "metadata": {},
   "outputs": [],
   "source": [
    "platform = ['PS2', 'PS3', 'X360', 'Wii', 'DS']\n",
    "total_sales = [1255.65, 939.65, 971.77, 907.51, 806.12]\n",
    "sales_in_other = [193.44, 135.68, 85.76, 79.07, 59.26]\n",
    "dolya_other = []\n",
    "for i in range(len(platform)):\n",
    "    dolya_other.append(sales_in_jp[i]/total_sales[i])"
   ]
  },
  {
   "cell_type": "code",
   "execution_count": 56,
   "metadata": {},
   "outputs": [],
   "source": [
    "dolya_other = pd.DataFrame(dolya_other, index = platform)"
   ]
  },
  {
   "cell_type": "code",
   "execution_count": 57,
   "metadata": {},
   "outputs": [
    {
     "data": {
      "text/html": [
       "<div>\n",
       "<style scoped>\n",
       "    .dataframe tbody tr th:only-of-type {\n",
       "        vertical-align: middle;\n",
       "    }\n",
       "\n",
       "    .dataframe tbody tr th {\n",
       "        vertical-align: top;\n",
       "    }\n",
       "\n",
       "    .dataframe thead th {\n",
       "        text-align: right;\n",
       "    }\n",
       "</style>\n",
       "<table border=\"1\" class=\"dataframe\">\n",
       "  <thead>\n",
       "    <tr style=\"text-align: right;\">\n",
       "      <th></th>\n",
       "      <th>0</th>\n",
       "    </tr>\n",
       "  </thead>\n",
       "  <tbody>\n",
       "    <tr>\n",
       "      <td>PS2</td>\n",
       "      <td>0.270185</td>\n",
       "    </tr>\n",
       "    <tr>\n",
       "      <td>PS3</td>\n",
       "      <td>0.351503</td>\n",
       "    </tr>\n",
       "    <tr>\n",
       "      <td>X360</td>\n",
       "      <td>0.278726</td>\n",
       "    </tr>\n",
       "    <tr>\n",
       "      <td>Wii</td>\n",
       "      <td>0.288933</td>\n",
       "    </tr>\n",
       "    <tr>\n",
       "      <td>PS</td>\n",
       "      <td>0.292272</td>\n",
       "    </tr>\n",
       "  </tbody>\n",
       "</table>\n",
       "</div>"
      ],
      "text/plain": [
       "             0\n",
       "PS2   0.270185\n",
       "PS3   0.351503\n",
       "X360  0.278726\n",
       "Wii   0.288933\n",
       "PS    0.292272"
      ]
     },
     "execution_count": 57,
     "metadata": {},
     "output_type": "execute_result"
    }
   ],
   "source": [
    "dolya_eu#список с долями продаж в европе"
   ]
  },
  {
   "cell_type": "markdown",
   "metadata": {},
   "source": [
    "Вывод по европе: Обожают консольки. Лидирует PS3"
   ]
  },
  {
   "cell_type": "code",
   "execution_count": 58,
   "metadata": {},
   "outputs": [
    {
     "data": {
      "text/html": [
       "<div>\n",
       "<style scoped>\n",
       "    .dataframe tbody tr th:only-of-type {\n",
       "        vertical-align: middle;\n",
       "    }\n",
       "\n",
       "    .dataframe tbody tr th {\n",
       "        vertical-align: top;\n",
       "    }\n",
       "\n",
       "    .dataframe thead th {\n",
       "        text-align: right;\n",
       "    }\n",
       "</style>\n",
       "<table border=\"1\" class=\"dataframe\">\n",
       "  <thead>\n",
       "    <tr style=\"text-align: right;\">\n",
       "      <th></th>\n",
       "      <th>0</th>\n",
       "    </tr>\n",
       "  </thead>\n",
       "  <tbody>\n",
       "    <tr>\n",
       "      <td>DS</td>\n",
       "      <td>0.641933</td>\n",
       "    </tr>\n",
       "    <tr>\n",
       "      <td>PS</td>\n",
       "      <td>0.227329</td>\n",
       "    </tr>\n",
       "    <tr>\n",
       "      <td>PS2</td>\n",
       "      <td>0.278726</td>\n",
       "    </tr>\n",
       "    <tr>\n",
       "      <td>SNES</td>\n",
       "      <td>0.220427</td>\n",
       "    </tr>\n",
       "    <tr>\n",
       "      <td>3DS</td>\n",
       "      <td>0.292272</td>\n",
       "    </tr>\n",
       "  </tbody>\n",
       "</table>\n",
       "</div>"
      ],
      "text/plain": [
       "             0\n",
       "DS    0.641933\n",
       "PS    0.227329\n",
       "PS2   0.278726\n",
       "SNES  0.220427\n",
       "3DS   0.292272"
      ]
     },
     "execution_count": 58,
     "metadata": {},
     "output_type": "execute_result"
    }
   ],
   "source": [
    "dolya_jp#список с долями продаж в японии"
   ]
  },
  {
   "cell_type": "markdown",
   "metadata": {},
   "source": [
    "Вывод по японии: любят миниатюрные платформы для игрушел. Лидирует DS."
   ]
  },
  {
   "cell_type": "code",
   "execution_count": 59,
   "metadata": {},
   "outputs": [
    {
     "data": {
      "text/html": [
       "<div>\n",
       "<style scoped>\n",
       "    .dataframe tbody tr th:only-of-type {\n",
       "        vertical-align: middle;\n",
       "    }\n",
       "\n",
       "    .dataframe tbody tr th {\n",
       "        vertical-align: top;\n",
       "    }\n",
       "\n",
       "    .dataframe thead th {\n",
       "        text-align: right;\n",
       "    }\n",
       "</style>\n",
       "<table border=\"1\" class=\"dataframe\">\n",
       "  <thead>\n",
       "    <tr style=\"text-align: right;\">\n",
       "      <th></th>\n",
       "      <th>0</th>\n",
       "    </tr>\n",
       "  </thead>\n",
       "  <tbody>\n",
       "    <tr>\n",
       "      <td>X360</td>\n",
       "      <td>0.829538</td>\n",
       "    </tr>\n",
       "    <tr>\n",
       "      <td>PS2</td>\n",
       "      <td>0.170119</td>\n",
       "    </tr>\n",
       "    <tr>\n",
       "      <td>Wii</td>\n",
       "      <td>0.298355</td>\n",
       "    </tr>\n",
       "    <tr>\n",
       "      <td>PS3</td>\n",
       "      <td>0.212888</td>\n",
       "    </tr>\n",
       "    <tr>\n",
       "      <td>DS</td>\n",
       "      <td>0.264985</td>\n",
       "    </tr>\n",
       "  </tbody>\n",
       "</table>\n",
       "</div>"
      ],
      "text/plain": [
       "             0\n",
       "X360  0.829538\n",
       "PS2   0.170119\n",
       "Wii   0.298355\n",
       "PS3   0.212888\n",
       "DS    0.264985"
      ]
     },
     "execution_count": 59,
     "metadata": {},
     "output_type": "execute_result"
    }
   ],
   "source": [
    "dolya_na#список с долями продаж в северной америке"
   ]
  },
  {
   "cell_type": "markdown",
   "metadata": {},
   "source": [
    "Вывод по северной америке: основные покупатели игр на X360."
   ]
  },
  {
   "cell_type": "code",
   "execution_count": 60,
   "metadata": {},
   "outputs": [
    {
     "data": {
      "text/html": [
       "<div>\n",
       "<style scoped>\n",
       "    .dataframe tbody tr th:only-of-type {\n",
       "        vertical-align: middle;\n",
       "    }\n",
       "\n",
       "    .dataframe tbody tr th {\n",
       "        vertical-align: top;\n",
       "    }\n",
       "\n",
       "    .dataframe thead th {\n",
       "        text-align: right;\n",
       "    }\n",
       "</style>\n",
       "<table border=\"1\" class=\"dataframe\">\n",
       "  <thead>\n",
       "    <tr style=\"text-align: right;\">\n",
       "      <th></th>\n",
       "      <th>0</th>\n",
       "    </tr>\n",
       "  </thead>\n",
       "  <tbody>\n",
       "    <tr>\n",
       "      <td>PS2</td>\n",
       "      <td>0.641994</td>\n",
       "    </tr>\n",
       "    <tr>\n",
       "      <td>PS3</td>\n",
       "      <td>0.227329</td>\n",
       "    </tr>\n",
       "    <tr>\n",
       "      <td>X360</td>\n",
       "      <td>0.278626</td>\n",
       "    </tr>\n",
       "    <tr>\n",
       "      <td>Wii</td>\n",
       "      <td>0.220427</td>\n",
       "    </tr>\n",
       "    <tr>\n",
       "      <td>DS</td>\n",
       "      <td>0.264985</td>\n",
       "    </tr>\n",
       "  </tbody>\n",
       "</table>\n",
       "</div>"
      ],
      "text/plain": [
       "             0\n",
       "PS2   0.641994\n",
       "PS3   0.227329\n",
       "X360  0.278626\n",
       "Wii   0.220427\n",
       "DS    0.264985"
      ]
     },
     "execution_count": 60,
     "metadata": {},
     "output_type": "execute_result"
    }
   ],
   "source": [
    "dolya_other#список с долями других продаж"
   ]
  },
  {
   "cell_type": "markdown",
   "metadata": {},
   "source": [
    "Вывод по остальным продажам: Лидирует PS2."
   ]
  },
  {
   "cell_type": "markdown",
   "metadata": {},
   "source": [
    "<div class=\"alert alert-danger\"; style=\"border-left: 7px solid red\">\n",
    "<font size=\"4\"><b>Комментарий ревьюера 🦔 </b></font>\n",
    "    <br /> \n",
    "    <font size=\"3\", color = \"black\">\n",
    "<br />\n",
    "    Неверно. У нас доли не могут быть больше 1. Доля считается относительно суммарных продаж, а не количества строк платформы\n",
    "    <br /><br />\n",
    "        Нас интересуют продажи по каждому региону, а не в совокупности\n",
    "    </font>\n",
    "\n",
    "</div>"
   ]
  },
  {
   "cell_type": "markdown",
   "metadata": {},
   "source": [
    "<div class=\"alert alert-success\"; style=\"border-left: 7px solid green\">\n",
    "<font size=\"4\"><b>Комментарий ревьюера 🚀 v2</b></font>\n",
    "    <br />\n",
    "    <font size=\"3\", color = \"black\">\n",
    "    <br /> Супер, молодец!\n",
    "     <br />\n",
    "    </font>\n",
    "\n",
    "</div>"
   ]
  },
  {
   "cell_type": "markdown",
   "metadata": {},
   "source": [
    "- Топ 5 жанров"
   ]
  },
  {
   "cell_type": "code",
   "execution_count": 61,
   "metadata": {},
   "outputs": [
    {
     "data": {
      "text/plain": [
       "<matplotlib.axes._subplots.AxesSubplot at 0x7f3b52f59d90>"
      ]
     },
     "execution_count": 61,
     "metadata": {},
     "output_type": "execute_result"
    },
    {
     "data": {
      "image/png": "[encoded data removed]",
      "text/plain": [
       "<Figure size 432x288 with 1 Axes>"
      ]
     },
     "metadata": {
      "needs_background": "light"
     },
     "output_type": "display_data"
    },
    {
     "data": {
      "image/png": "[encoded data removed]",
      "text/plain": [
       "<Figure size 432x288 with 1 Axes>"
      ]
     },
     "metadata": {
      "needs_background": "light"
     },
     "output_type": "display_data"
    },
    {
     "data": {
      "image/png": "[encoded data removed]",
      "text/plain": [
       "<Figure size 432x288 with 1 Axes>"
      ]
     },
     "metadata": {
      "needs_background": "light"
     },
     "output_type": "display_data"
    },
    {
     "data": {
      "image/png": "[encoded data removed]",
      "text/plain": [
       "<Figure size 432x288 with 1 Axes>"
      ]
     },
     "metadata": {
      "needs_background": "light"
     },
     "output_type": "display_data"
    }
   ],
   "source": [
    "df.groupby(by='genre').agg({'na_sales':'sum'}).sort_values(by='na_sales', ascending=False).head().plot(kind='bar')\n",
    "df.groupby(by='genre').agg({'jp_sales':'sum'}).sort_values(by='jp_sales', ascending=False).head().plot(kind='bar')\n",
    "df.groupby(by='genre').agg({'eu_sales':'sum'}).sort_values(by='eu_sales', ascending=False).head().plot(kind='bar')\n",
    "df.groupby(by='genre').agg({'other_sales':'sum'}).sort_values(by='other_sales', ascending=False).head().plot(kind='bar')"
   ]
  },
  {
   "cell_type": "markdown",
   "metadata": {},
   "source": [
    "<div class=\"alert alert-danger\"; style=\"border-left: 7px solid red\">\n",
    "<font size=\"4\"><b>Комментарий ревьюера 🦔 </b></font>\n",
    "    <br /> \n",
    "    <font size=\"3\", color = \"black\">\n",
    "<br />Здесь тоже не то, что нужно. Нужно получить результаты по каждому региону\n",
    "    </font>\n",
    "\n",
    "</div>"
   ]
  },
  {
   "cell_type": "markdown",
   "metadata": {},
   "source": [
    "<div class=\"alert alert-success\"; style=\"border-left: 7px solid green\">\n",
    "<font size=\"4\"><b>Комментарий ревьюера 🚀v2</b></font>\n",
    "    <br /> \n",
    "    <font size=\"3\", color = \"black\">\n",
    "<br /> Все верно!\n",
    "    </font>\n",
    "\n",
    "</div>"
   ]
  },
  {
   "cell_type": "markdown",
   "metadata": {},
   "source": [
    "Вывод: экшн победил везде кроме японии. В японии лидируют ролевые игры. Misc везде занимают последнюю похицию. "
   ]
  },
  {
   "cell_type": "code",
   "execution_count": 62,
   "metadata": {},
   "outputs": [
    {
     "data": {
      "text/html": [
       "<div>\n",
       "<style scoped>\n",
       "    .dataframe tbody tr th:only-of-type {\n",
       "        vertical-align: middle;\n",
       "    }\n",
       "\n",
       "    .dataframe tbody tr th {\n",
       "        vertical-align: top;\n",
       "    }\n",
       "\n",
       "    .dataframe thead th {\n",
       "        text-align: right;\n",
       "    }\n",
       "</style>\n",
       "<table border=\"1\" class=\"dataframe\">\n",
       "  <thead>\n",
       "    <tr style=\"text-align: right;\">\n",
       "      <th></th>\n",
       "      <th>eu_sales</th>\n",
       "      <th>jp_sales</th>\n",
       "      <th>na_sales</th>\n",
       "      <th>other_sales</th>\n",
       "    </tr>\n",
       "    <tr>\n",
       "      <th>rating</th>\n",
       "      <th></th>\n",
       "      <th></th>\n",
       "      <th></th>\n",
       "      <th></th>\n",
       "    </tr>\n",
       "  </thead>\n",
       "  <tbody>\n",
       "    <tr>\n",
       "      <td>RP</td>\n",
       "      <td>0.05</td>\n",
       "      <td>0.00</td>\n",
       "      <td>0.00</td>\n",
       "      <td>0.00</td>\n",
       "    </tr>\n",
       "    <tr>\n",
       "      <td>T</td>\n",
       "      <td>58.20</td>\n",
       "      <td>26.72</td>\n",
       "      <td>78.17</td>\n",
       "      <td>20.12</td>\n",
       "    </tr>\n",
       "    <tr>\n",
       "      <td>E10+</td>\n",
       "      <td>60.54</td>\n",
       "      <td>8.19</td>\n",
       "      <td>83.52</td>\n",
       "      <td>17.86</td>\n",
       "    </tr>\n",
       "    <tr>\n",
       "      <td>without_rating</td>\n",
       "      <td>95.15</td>\n",
       "      <td>114.03</td>\n",
       "      <td>118.15</td>\n",
       "      <td>28.30</td>\n",
       "    </tr>\n",
       "    <tr>\n",
       "      <td>E</td>\n",
       "      <td>119.41</td>\n",
       "      <td>28.48</td>\n",
       "      <td>133.12</td>\n",
       "      <td>34.07</td>\n",
       "    </tr>\n",
       "    <tr>\n",
       "      <td>M</td>\n",
       "      <td>197.93</td>\n",
       "      <td>21.86</td>\n",
       "      <td>237.16</td>\n",
       "      <td>64.42</td>\n",
       "    </tr>\n",
       "  </tbody>\n",
       "</table>\n",
       "</div>"
      ],
      "text/plain": [
       "                eu_sales  jp_sales  na_sales  other_sales\n",
       "rating                                                   \n",
       "RP                  0.05      0.00      0.00         0.00\n",
       "T                  58.20     26.72     78.17        20.12\n",
       "E10+               60.54      8.19     83.52        17.86\n",
       "without_rating     95.15    114.03    118.15        28.30\n",
       "E                 119.41     28.48    133.12        34.07\n",
       "M                 197.93     21.86    237.16        64.42"
      ]
     },
     "execution_count": 62,
     "metadata": {},
     "output_type": "execute_result"
    }
   ],
   "source": [
    "df_rating = pd.pivot_table(df_filtered,\n",
    "              index = 'rating',\n",
    "              values = ('na_sales', 'jp_sales', 'eu_sales', 'other_sales'),\n",
    "              aggfunc = np.sum)\n",
    "df_rating = df_rating.sort_values(by = 'na_sales')\n",
    "df_rating"
   ]
  },
  {
   "cell_type": "markdown",
   "metadata": {},
   "source": [
    "<div class=\"alert alert-success\"; style=\"border-left: 7px solid green\">\n",
    "<font size=\"4\"><b>Комментарий ревьюера 🚀</b></font>\n",
    "    <br /> \n",
    "    <font size=\"3\", color = \"black\">\n",
    "<br />Тут похоже на правду. Следует использовать актуальный период, чтобы не выводились старые рейтинги\n",
    "    </font>\n",
    "\n",
    "</div>"
   ]
  },
  {
   "cell_type": "markdown",
   "metadata": {},
   "source": [
    "'E' означает 'everyone'. Поэтому в европе, северной америке и другим продажам игры с рейтингом 'E' лидируют по продажам. В японии лидером выступает 'without_rating', т.е. без рейтинга."
   ]
  },
  {
   "cell_type": "markdown",
   "metadata": {},
   "source": [
    "Проверю гипотезы\n",
    "- H0 Средние пользовательские рейтинги платформ Xbox One и PC одинаковые\n",
    "- H1 Средние пользовательские рейтинги платформ Xbox One и PC разные "
   ]
  },
  {
   "cell_type": "markdown",
   "metadata": {},
   "source": [
    "<div class=\"alert alert-success\"; style=\"border-left: 7px solid green\">\n",
    "<font size=\"4\"><b>Комментарий ревьюера 🚀</b></font>\n",
    "    <br /> \n",
    "    <font size=\"3\", color = \"black\">\n",
    "<br />Верная формулировка\n",
    "    </font>\n",
    "\n",
    "</div>"
   ]
  },
  {
   "cell_type": "markdown",
   "metadata": {},
   "source": [
    "Буду использовать критерий Мана-Уитни. Так как с ним не нужно проверять является ли распределение нормальным или нет. Экономим время"
   ]
  },
  {
   "cell_type": "code",
   "execution_count": 63,
   "metadata": {},
   "outputs": [],
   "source": [
    "import scipy.stats as stats"
   ]
  },
  {
   "cell_type": "code",
   "execution_count": 64,
   "metadata": {},
   "outputs": [
    {
     "name": "stdout",
     "output_type": "stream",
     "text": [
      "Не получилось отвергнуть нулевую гипотезу\n"
     ]
    }
   ],
   "source": [
    "alpha = 0.05\n",
    "Xone = df_filtered[(df_filtered['platform'] == 'XOne') & (df_filtered['user_score'] >= 0)]['user_score']\n",
    "Pc = df_filtered[(df_filtered['platform'] == 'PC') & (df_filtered['user_score'] >= 0)]['user_score']\n",
    "results = stats.mannwhitneyu(Xone, Pc, alternative='two-sided')\n",
    "\n",
    "if (results.pvalue < alpha):\n",
    "    print(\"Отвергаем нулевую гипотезу\")\n",
    "else:\n",
    "    print(\"Не получилось отвергнуть нулевую гипотезу\")"
   ]
  },
  {
   "cell_type": "markdown",
   "metadata": {},
   "source": [
    "<div class=\"alert alert-danger\"; style=\"border-left: 7px solid red\">\n",
    "<font size=\"4\"><b>Комментарий ревьюера 🦔 </b></font>\n",
    "    <br /> \n",
    "    <font size=\"3\", color = \"black\">\n",
    "<br />\n",
    "   Значение 0 - тоже оценка игры, поэтому его тоже следует учитывать\n",
    "    <br /><br />\n",
    "        Стоит использовать услвные операторы для вывода результата теста\n",
    "    </font>\n",
    "\n",
    "</div>"
   ]
  },
  {
   "cell_type": "markdown",
   "metadata": {},
   "source": [
    "<div class=\"alert alert-success\"; style=\"border-left: 7px solid green\">\n",
    "<font size=\"4\"><b>Комментарий ревьюера 🚀v2</b></font>\n",
    "    <br /> \n",
    "    <font size=\"3\", color = \"black\">\n",
    "<br />Так намного лучше, спасибо!\n",
    "    </font>\n",
    "\n",
    "</div>"
   ]
  },
  {
   "cell_type": "markdown",
   "metadata": {},
   "source": [
    "p-value = 6.32 \n",
    "Следовательно Нулевую гипотезу отвергнуть не удалось."
   ]
  },
  {
   "cell_type": "markdown",
   "metadata": {},
   "source": [
    "<div class=\"alert alert-success\"; style=\"border-left: 7px solid green\">\n",
    "<font size=\"4\"><b>Комментарий ревьюера 🚀</b></font>\n",
    "    <br /> \n",
    "    <font size=\"3\", color = \"black\">\n",
    "<br />Реализация почти верная, но данные не те\n",
    "    </font>\n",
    "\n",
    "</div>"
   ]
  },
  {
   "cell_type": "markdown",
   "metadata": {},
   "source": [
    "Проверю гипотезы\n",
    "- H0 Средние пользовательские рейтинги жанров Action (англ. «действие», экшен-игры) и Sports (англ. «спортивные соревнования») разные.\n",
    "- H1 Средние пользовательские рейтинги жанров Action (англ. «действие», экшен-игры) и Sports (англ. «спортивные соревнования») одинаковые."
   ]
  },
  {
   "cell_type": "markdown",
   "metadata": {},
   "source": [
    "<div class=\"alert alert-success\"; style=\"border-left: 7px solid green\">\n",
    "<font size=\"4\"><b>Комментарий ревьюера 🚀</b></font>\n",
    "    <br /> \n",
    "    <font size=\"3\", color = \"black\">\n",
    "<br />Тоже верная формулировка!\n",
    "    </font>\n",
    "\n",
    "</div>"
   ]
  },
  {
   "cell_type": "code",
   "execution_count": 65,
   "metadata": {},
   "outputs": [
    {
     "name": "stdout",
     "output_type": "stream",
     "text": [
      "Отвергаем нулевую гипотезу\n"
     ]
    }
   ],
   "source": [
    "action = df_filtered[(df_filtered['genre'] == 'Action') & (df_filtered['user_score'] >= 0)]['user_score']\n",
    "sports = df_filtered[(df_filtered['genre'] == 'Sports') & (df_filtered['user_score'] >= 0)]['user_score']\n",
    "results = stats.mannwhitneyu(action, sports, alternative='two-sided')\n",
    "if (results.pvalue < alpha):\n",
    "    print(\"Отвергаем нулевую гипотезу\")\n",
    "else:\n",
    "    print(\"Не получилось отвергнуть нулевую гипотезу\")"
   ]
  },
  {
   "cell_type": "markdown",
   "metadata": {},
   "source": [
    "<div class=\"alert alert-danger\"; style=\"border-left: 7px solid red\">\n",
    "<font size=\"4\"><b>Комментарий ревьюера 🦔 </b></font>\n",
    "    <br /> \n",
    "    <font size=\"3\", color = \"black\">\n",
    "<br />Тот же случай с 0. Его следует включить\n",
    "    </font>\n",
    "\n",
    "</div>"
   ]
  },
  {
   "cell_type": "markdown",
   "metadata": {},
   "source": [
    "Отвергаем нулеую гипотезу"
   ]
  },
  {
   "cell_type": "markdown",
   "metadata": {},
   "source": [
    "ОБЩИЙ ВЫВОД: актуальным периодом был выбран период с 2012 по 2016 год. С момента появления платформы и её ухода проходит в среднем 10 лет. PS3, X360 и PS2 являются самыми популярными платформами. Потенциально выгодные платформы сейчас определить нельзя, т.к. все платформы идут на спад. Связь м\\у отзывами и продажами слабая. Самые прибыльные жанры - это экшн и шутеры. По гипотезам - H0 Средние пользовательские рейтинги платформ Xbox One и PC одинаковые - отвергнуть не удалось, но -H0 Средние пользовательские рейтинги жанров Action (англ. «действие», экшен-игры) и Sports (англ. «спортивные соревнования») разные - отвергаем."
   ]
  },
  {
   "cell_type": "markdown",
   "metadata": {},
   "source": [
    "<div class=\"alert alert-danger\"; style=\"border-left: 7px solid red\">\n",
    "<font size=\"4\"><b>Комментарий ревьюера 🦔 </b></font>\n",
    "    <br /> \n",
    "    <font size=\"3\", color = \"black\">\n",
    "<br />Вывод тоже следует переделать после исправлений выше.\n",
    "    <br /><br /> Я постарался детально описать инструкции по исправлению работы. Надеюсь, получится им следовать и улучшить свой проект! Главное, не расстраивайся и не опускай руки. Ты сделал большую работу, но стоит чутка потерпеть и доделать\n",
    "    </font>\n",
    "\n",
    "</div>"
   ]
  },
  {
   "cell_type": "markdown",
   "metadata": {},
   "source": [
    "<div class=\"alert alert-success\"; style=\"border-left: 7px solid green\">\n",
    "<font size=\"4\"><b>Комментарий ревьюера 🚀v2</b></font>\n",
    "    <br /> \n",
    "    <font size=\"3\", color = \"black\">\n",
    "<br />Молодец! Все верно, спасибо за исправления, ты сделал большую работу над ошибками. Принимаю работу и желаю удачи в дальнейших проекта!\n",
    "    </font>\n",
    "\n",
    "</div>"
   ]
  },
  {
   "cell_type": "markdown",
   "metadata": {},
   "source": [
    "<div class=\"alert alert-success\"; style=\"border-left: 7px solid green\">\n",
    "<font size=\"4\"><b>Комментарий ревьюера 🚀</b></font>\n",
    "    <br /> \n",
    "    <font size=\"3\", color = \"black\">\n",
    "<br />Спасибо за проделанную работу! Если будут вопросы, то задавай их в ответных комментариях, с радостью отвечу на них!\n",
    "    </font>\n",
    "\n",
    "</div>"
   ]
  }
 ],
 "metadata": {
  "ExecuteTimeLog": [
   {
    "duration": 1032,
    "start_time": "2022-01-31T11:22:07.675Z"
   },
   {
    "duration": 50,
    "start_time": "2022-01-31T11:22:30.578Z"
   },
   {
    "duration": 20,
    "start_time": "2022-01-31T11:22:50.578Z"
   },
   {
    "duration": 5909,
    "start_time": "2022-01-31T11:23:22.938Z"
   },
   {
    "duration": 5,
    "start_time": "2022-01-31T11:23:36.818Z"
   },
   {
    "duration": 6,
    "start_time": "2022-01-31T11:24:09.218Z"
   },
   {
    "duration": 736,
    "start_time": "2022-02-01T07:47:41.711Z"
   },
   {
    "duration": 22,
    "start_time": "2022-02-01T07:47:42.450Z"
   },
   {
    "duration": 6,
    "start_time": "2022-02-01T07:47:42.681Z"
   },
   {
    "duration": 73,
    "start_time": "2022-02-01T07:56:11.922Z"
   },
   {
    "duration": 18,
    "start_time": "2022-02-01T07:56:14.330Z"
   },
   {
    "duration": 60,
    "start_time": "2022-02-01T07:56:43.055Z"
   },
   {
    "duration": 18,
    "start_time": "2022-02-01T07:56:44.262Z"
   },
   {
    "duration": 6,
    "start_time": "2022-02-01T09:32:35.042Z"
   },
   {
    "duration": 268,
    "start_time": "2022-02-01T09:36:28.622Z"
   },
   {
    "duration": 244,
    "start_time": "2022-02-01T09:39:43.943Z"
   },
   {
    "duration": 46,
    "start_time": "2022-02-01T09:40:22.402Z"
   },
   {
    "duration": 13,
    "start_time": "2022-02-01T09:40:22.962Z"
   },
   {
    "duration": 205,
    "start_time": "2022-02-01T09:40:23.422Z"
   },
   {
    "duration": 217,
    "start_time": "2022-02-01T09:40:52.642Z"
   },
   {
    "duration": 4,
    "start_time": "2022-02-01T09:45:40.890Z"
   },
   {
    "duration": 8,
    "start_time": "2022-02-01T09:46:36.402Z"
   },
   {
    "duration": 5,
    "start_time": "2022-02-01T09:46:37.823Z"
   },
   {
    "duration": 14,
    "start_time": "2022-02-01T09:46:49.481Z"
   },
   {
    "duration": 4,
    "start_time": "2022-02-01T09:47:47.823Z"
   },
   {
    "duration": 636,
    "start_time": "2022-02-01T09:47:54.522Z"
   },
   {
    "duration": 20,
    "start_time": "2022-02-01T09:47:55.160Z"
   },
   {
    "duration": 281,
    "start_time": "2022-02-01T09:47:55.182Z"
   },
   {
    "duration": -728,
    "start_time": "2022-02-01T09:47:56.193Z"
   },
   {
    "duration": 6,
    "start_time": "2022-02-01T09:48:30.767Z"
   },
   {
    "duration": 6,
    "start_time": "2022-02-01T09:48:47.498Z"
   },
   {
    "duration": 5,
    "start_time": "2022-02-01T09:48:53.627Z"
   },
   {
    "duration": 21,
    "start_time": "2022-02-01T09:49:04.120Z"
   },
   {
    "duration": 5,
    "start_time": "2022-02-01T09:50:28.319Z"
   },
   {
    "duration": 210,
    "start_time": "2022-02-01T09:50:41.178Z"
   },
   {
    "duration": 674,
    "start_time": "2022-02-01T09:50:53.563Z"
   },
   {
    "duration": 32,
    "start_time": "2022-02-01T09:50:54.240Z"
   },
   {
    "duration": 289,
    "start_time": "2022-02-01T09:50:54.274Z"
   },
   {
    "duration": 31,
    "start_time": "2022-02-01T09:51:26.394Z"
   },
   {
    "duration": 6,
    "start_time": "2022-02-01T09:53:36.962Z"
   },
   {
    "duration": 746,
    "start_time": "2022-02-01T09:53:52.600Z"
   },
   {
    "duration": 65,
    "start_time": "2022-02-01T09:53:53.349Z"
   },
   {
    "duration": 108,
    "start_time": "2022-02-01T09:53:53.416Z"
   },
   {
    "duration": 321,
    "start_time": "2022-02-01T09:53:53.527Z"
   },
   {
    "duration": 335,
    "start_time": "2022-02-02T06:13:44.689Z"
   },
   {
    "duration": 747,
    "start_time": "2022-02-02T06:13:48.181Z"
   },
   {
    "duration": 51,
    "start_time": "2022-02-02T06:13:48.931Z"
   },
   {
    "duration": 22,
    "start_time": "2022-02-02T06:13:49.321Z"
   },
   {
    "duration": 18,
    "start_time": "2022-02-02T06:15:08.289Z"
   },
   {
    "duration": 5,
    "start_time": "2022-02-02T06:18:21.481Z"
   },
   {
    "duration": 11,
    "start_time": "2022-02-02T06:19:32.333Z"
   },
   {
    "duration": 7,
    "start_time": "2022-02-02T06:20:53.813Z"
   },
   {
    "duration": 8,
    "start_time": "2022-02-02T06:21:50.561Z"
   },
   {
    "duration": 747,
    "start_time": "2022-02-02T06:21:58.058Z"
   },
   {
    "duration": 56,
    "start_time": "2022-02-02T06:21:58.809Z"
   },
   {
    "duration": 19,
    "start_time": "2022-02-02T06:21:58.869Z"
   },
   {
    "duration": 7,
    "start_time": "2022-02-02T06:21:58.892Z"
   },
   {
    "duration": 36,
    "start_time": "2022-02-02T06:21:58.902Z"
   },
   {
    "duration": 6,
    "start_time": "2022-02-02T06:23:12.577Z"
   },
   {
    "duration": 7,
    "start_time": "2022-02-02T06:23:32.325Z"
   },
   {
    "duration": 458,
    "start_time": "2022-02-02T06:32:13.785Z"
   },
   {
    "duration": 4,
    "start_time": "2022-02-02T06:32:50.941Z"
   },
   {
    "duration": 55,
    "start_time": "2022-02-02T06:32:52.133Z"
   },
   {
    "duration": 46,
    "start_time": "2022-02-02T06:32:52.496Z"
   },
   {
    "duration": 19,
    "start_time": "2022-02-02T06:32:52.832Z"
   },
   {
    "duration": 6,
    "start_time": "2022-02-02T06:32:53.545Z"
   },
   {
    "duration": 6,
    "start_time": "2022-02-02T06:32:53.845Z"
   },
   {
    "duration": 7,
    "start_time": "2022-02-02T06:32:54.204Z"
   },
   {
    "duration": 10,
    "start_time": "2022-02-02T06:32:55.726Z"
   },
   {
    "duration": 13,
    "start_time": "2022-02-02T06:33:50.245Z"
   },
   {
    "duration": 7,
    "start_time": "2022-02-02T06:36:17.185Z"
   },
   {
    "duration": 279,
    "start_time": "2022-02-02T06:37:10.145Z"
   },
   {
    "duration": 7,
    "start_time": "2022-02-02T06:37:16.906Z"
   },
   {
    "duration": 276,
    "start_time": "2022-02-02T06:37:22.686Z"
   },
   {
    "duration": 20,
    "start_time": "2022-02-02T06:37:26.874Z"
   },
   {
    "duration": 7,
    "start_time": "2022-02-02T06:37:38.126Z"
   },
   {
    "duration": 20,
    "start_time": "2022-02-02T06:37:39.277Z"
   },
   {
    "duration": 7,
    "start_time": "2022-02-02T06:37:43.357Z"
   },
   {
    "duration": 19,
    "start_time": "2022-02-02T06:37:43.777Z"
   },
   {
    "duration": 10,
    "start_time": "2022-02-02T06:43:13.046Z"
   },
   {
    "duration": 22,
    "start_time": "2022-02-02T06:43:18.646Z"
   },
   {
    "duration": 109,
    "start_time": "2022-02-02T06:53:41.806Z"
   },
   {
    "duration": 136,
    "start_time": "2022-02-02T06:53:59.225Z"
   },
   {
    "duration": 42,
    "start_time": "2022-02-02T06:55:22.902Z"
   },
   {
    "duration": 36,
    "start_time": "2022-02-02T06:55:42.077Z"
   },
   {
    "duration": 8,
    "start_time": "2022-02-02T06:57:10.917Z"
   },
   {
    "duration": 5,
    "start_time": "2022-02-02T06:59:28.614Z"
   },
   {
    "duration": 277,
    "start_time": "2022-02-02T06:59:49.657Z"
   },
   {
    "duration": 389,
    "start_time": "2022-02-02T06:59:53.204Z"
   },
   {
    "duration": 370,
    "start_time": "2022-02-02T07:00:05.477Z"
   },
   {
    "duration": 349,
    "start_time": "2022-02-02T07:01:16.974Z"
   },
   {
    "duration": 387,
    "start_time": "2022-02-02T07:01:35.866Z"
   },
   {
    "duration": 464,
    "start_time": "2022-02-02T07:01:42.619Z"
   },
   {
    "duration": 377,
    "start_time": "2022-02-02T07:01:58.725Z"
   },
   {
    "duration": 700,
    "start_time": "2022-02-02T07:02:54.905Z"
   },
   {
    "duration": 912,
    "start_time": "2022-02-02T07:03:41.420Z"
   },
   {
    "duration": 56,
    "start_time": "2022-02-02T07:03:42.335Z"
   },
   {
    "duration": 53,
    "start_time": "2022-02-02T07:03:42.394Z"
   },
   {
    "duration": 18,
    "start_time": "2022-02-02T07:03:42.450Z"
   },
   {
    "duration": 8,
    "start_time": "2022-02-02T07:03:42.470Z"
   },
   {
    "duration": 8,
    "start_time": "2022-02-02T07:03:42.480Z"
   },
   {
    "duration": 13,
    "start_time": "2022-02-02T07:03:42.490Z"
   },
   {
    "duration": 33,
    "start_time": "2022-02-02T07:03:42.505Z"
   },
   {
    "duration": 6,
    "start_time": "2022-02-02T07:03:42.542Z"
   },
   {
    "duration": 19,
    "start_time": "2022-02-02T07:03:42.551Z"
   },
   {
    "duration": 28,
    "start_time": "2022-02-02T07:03:42.572Z"
   },
   {
    "duration": 8,
    "start_time": "2022-02-02T07:03:42.632Z"
   },
   {
    "duration": 488,
    "start_time": "2022-02-02T07:03:42.642Z"
   },
   {
    "duration": 7,
    "start_time": "2022-02-02T07:27:40.878Z"
   },
   {
    "duration": 11,
    "start_time": "2022-02-02T07:27:54.049Z"
   },
   {
    "duration": 383,
    "start_time": "2022-02-02T07:41:25.062Z"
   },
   {
    "duration": 21,
    "start_time": "2022-02-02T07:41:40.878Z"
   },
   {
    "duration": 90,
    "start_time": "2022-02-02T07:42:12.797Z"
   },
   {
    "duration": 21,
    "start_time": "2022-02-02T07:43:18.766Z"
   },
   {
    "duration": 63,
    "start_time": "2022-02-02T07:46:23.325Z"
   },
   {
    "duration": 281,
    "start_time": "2022-02-02T07:48:02.578Z"
   },
   {
    "duration": 22,
    "start_time": "2022-02-02T07:48:07.785Z"
   },
   {
    "duration": 5737,
    "start_time": "2022-02-02T07:48:08.965Z"
   },
   {
    "duration": 5248,
    "start_time": "2022-02-02T07:48:38.058Z"
   },
   {
    "duration": 5262,
    "start_time": "2022-02-02T07:48:53.738Z"
   },
   {
    "duration": 592,
    "start_time": "2022-02-06T03:38:12.161Z"
   },
   {
    "duration": 44,
    "start_time": "2022-02-06T03:38:12.755Z"
   },
   {
    "duration": 31,
    "start_time": "2022-02-06T03:38:12.802Z"
   },
   {
    "duration": 12,
    "start_time": "2022-02-06T03:38:12.835Z"
   },
   {
    "duration": 12,
    "start_time": "2022-02-06T03:38:12.849Z"
   },
   {
    "duration": 14,
    "start_time": "2022-02-06T03:38:12.863Z"
   },
   {
    "duration": 10,
    "start_time": "2022-02-06T03:38:12.879Z"
   },
   {
    "duration": 10,
    "start_time": "2022-02-06T03:38:12.891Z"
   },
   {
    "duration": 5,
    "start_time": "2022-02-06T03:38:12.911Z"
   },
   {
    "duration": 18,
    "start_time": "2022-02-06T03:38:12.918Z"
   },
   {
    "duration": 15,
    "start_time": "2022-02-06T03:38:12.937Z"
   },
   {
    "duration": 6,
    "start_time": "2022-02-06T03:38:12.953Z"
   },
   {
    "duration": 300,
    "start_time": "2022-02-06T03:38:12.960Z"
   },
   {
    "duration": 16,
    "start_time": "2022-02-06T03:38:13.261Z"
   },
   {
    "duration": 29,
    "start_time": "2022-02-06T03:38:27.231Z"
   },
   {
    "duration": 9,
    "start_time": "2022-02-06T03:46:40.575Z"
   },
   {
    "duration": 7,
    "start_time": "2022-02-06T03:46:43.584Z"
   },
   {
    "duration": 279,
    "start_time": "2022-02-06T03:47:21.951Z"
   },
   {
    "duration": 9,
    "start_time": "2022-02-06T03:48:32.871Z"
   },
   {
    "duration": 10,
    "start_time": "2022-02-06T03:49:11.991Z"
   },
   {
    "duration": 9,
    "start_time": "2022-02-06T03:49:12.411Z"
   },
   {
    "duration": 8,
    "start_time": "2022-02-06T03:49:18.972Z"
   },
   {
    "duration": 3,
    "start_time": "2022-02-06T03:49:32.028Z"
   },
   {
    "duration": 8,
    "start_time": "2022-02-06T03:49:44.031Z"
   },
   {
    "duration": 77,
    "start_time": "2022-02-06T03:57:58.832Z"
   },
   {
    "duration": 75,
    "start_time": "2022-02-06T03:58:24.872Z"
   },
   {
    "duration": 112,
    "start_time": "2022-02-06T03:58:52.448Z"
   },
   {
    "duration": 345,
    "start_time": "2022-02-06T04:02:20.373Z"
   },
   {
    "duration": 412,
    "start_time": "2022-02-06T04:03:22.681Z"
   },
   {
    "duration": 437,
    "start_time": "2022-02-06T04:03:51.604Z"
   },
   {
    "duration": 358,
    "start_time": "2022-02-06T04:04:07.440Z"
   },
   {
    "duration": 366,
    "start_time": "2022-02-06T04:04:14.992Z"
   },
   {
    "duration": 374,
    "start_time": "2022-02-06T04:04:30.022Z"
   },
   {
    "duration": 620,
    "start_time": "2022-02-06T04:08:08.980Z"
   },
   {
    "duration": 950,
    "start_time": "2022-02-06T04:08:31.116Z"
   },
   {
    "duration": 1156,
    "start_time": "2022-02-06T04:09:11.894Z"
   },
   {
    "duration": 287,
    "start_time": "2022-02-06T04:29:43.553Z"
   },
   {
    "duration": 272,
    "start_time": "2022-02-06T04:29:57.907Z"
   },
   {
    "duration": 251,
    "start_time": "2022-02-06T04:34:42.525Z"
   },
   {
    "duration": 6,
    "start_time": "2022-02-06T04:34:49.985Z"
   },
   {
    "duration": 227,
    "start_time": "2022-02-06T04:34:57.045Z"
   },
   {
    "duration": 13,
    "start_time": "2022-02-06T04:35:01.574Z"
   },
   {
    "duration": 8,
    "start_time": "2022-02-06T04:35:14.841Z"
   },
   {
    "duration": 234,
    "start_time": "2022-02-06T04:35:15.881Z"
   },
   {
    "duration": 7,
    "start_time": "2022-02-06T04:35:35.008Z"
   },
   {
    "duration": 249,
    "start_time": "2022-02-06T04:35:35.829Z"
   },
   {
    "duration": 2,
    "start_time": "2022-02-06T04:35:45.293Z"
   },
   {
    "duration": 7,
    "start_time": "2022-02-06T04:36:24.673Z"
   },
   {
    "duration": 16,
    "start_time": "2022-02-06T04:36:37.653Z"
   },
   {
    "duration": 5,
    "start_time": "2022-02-06T04:38:57.157Z"
   },
   {
    "duration": 2807,
    "start_time": "2022-02-06T04:39:51.873Z"
   },
   {
    "duration": 2837,
    "start_time": "2022-02-06T04:41:36.613Z"
   },
   {
    "duration": 4,
    "start_time": "2022-02-06T04:43:49.013Z"
   },
   {
    "duration": 5,
    "start_time": "2022-02-06T04:43:49.994Z"
   },
   {
    "duration": 2838,
    "start_time": "2022-02-06T04:43:51.681Z"
   },
   {
    "duration": 7,
    "start_time": "2022-02-06T04:44:15.965Z"
   },
   {
    "duration": 18,
    "start_time": "2022-02-06T04:44:18.393Z"
   },
   {
    "duration": 6,
    "start_time": "2022-02-06T04:44:44.645Z"
   },
   {
    "duration": 17,
    "start_time": "2022-02-06T04:44:45.773Z"
   },
   {
    "duration": 4,
    "start_time": "2022-02-06T04:44:49.734Z"
   },
   {
    "duration": 2861,
    "start_time": "2022-02-06T04:44:53.314Z"
   },
   {
    "duration": 490,
    "start_time": "2022-02-06T04:48:00.654Z"
   },
   {
    "duration": 5,
    "start_time": "2022-02-06T04:48:47.116Z"
   },
   {
    "duration": 17,
    "start_time": "2022-02-06T04:48:48.373Z"
   },
   {
    "duration": 5,
    "start_time": "2022-02-06T04:48:50.633Z"
   },
   {
    "duration": 7,
    "start_time": "2022-02-06T04:49:00.282Z"
   },
   {
    "duration": 18,
    "start_time": "2022-02-06T04:49:00.905Z"
   },
   {
    "duration": 5,
    "start_time": "2022-02-06T04:49:05.061Z"
   },
   {
    "duration": 419,
    "start_time": "2022-02-06T04:49:31.893Z"
   },
   {
    "duration": 571,
    "start_time": "2022-02-06T04:50:53.470Z"
   },
   {
    "duration": 43,
    "start_time": "2022-02-06T04:50:54.043Z"
   },
   {
    "duration": 36,
    "start_time": "2022-02-06T04:50:54.088Z"
   },
   {
    "duration": 12,
    "start_time": "2022-02-06T04:50:54.125Z"
   },
   {
    "duration": 5,
    "start_time": "2022-02-06T04:50:54.139Z"
   },
   {
    "duration": 4,
    "start_time": "2022-02-06T04:50:54.145Z"
   },
   {
    "duration": 5,
    "start_time": "2022-02-06T04:50:54.150Z"
   },
   {
    "duration": 9,
    "start_time": "2022-02-06T04:50:54.157Z"
   },
   {
    "duration": 5,
    "start_time": "2022-02-06T04:50:54.168Z"
   },
   {
    "duration": 44,
    "start_time": "2022-02-06T04:50:54.175Z"
   },
   {
    "duration": 14,
    "start_time": "2022-02-06T04:50:54.221Z"
   },
   {
    "duration": 5,
    "start_time": "2022-02-06T04:50:54.236Z"
   },
   {
    "duration": 293,
    "start_time": "2022-02-06T04:50:54.243Z"
   },
   {
    "duration": 10,
    "start_time": "2022-02-06T04:50:54.538Z"
   },
   {
    "duration": 8,
    "start_time": "2022-02-06T04:50:54.549Z"
   },
   {
    "duration": 1215,
    "start_time": "2022-02-06T04:50:54.559Z"
   },
   {
    "duration": 6,
    "start_time": "2022-02-06T04:50:55.775Z"
   },
   {
    "duration": 31,
    "start_time": "2022-02-06T04:50:55.782Z"
   },
   {
    "duration": 4,
    "start_time": "2022-02-06T04:50:55.814Z"
   },
   {
    "duration": 414,
    "start_time": "2022-02-06T04:50:55.819Z"
   },
   {
    "duration": 7,
    "start_time": "2022-02-06T04:51:24.023Z"
   },
   {
    "duration": 130,
    "start_time": "2022-02-06T05:00:21.333Z"
   },
   {
    "duration": 129,
    "start_time": "2022-02-06T05:04:04.342Z"
   },
   {
    "duration": 141,
    "start_time": "2022-02-06T05:04:18.773Z"
   },
   {
    "duration": 148,
    "start_time": "2022-02-06T05:04:32.872Z"
   },
   {
    "duration": 128,
    "start_time": "2022-02-06T05:04:39.285Z"
   },
   {
    "duration": 144,
    "start_time": "2022-02-06T05:04:46.212Z"
   },
   {
    "duration": 181,
    "start_time": "2022-02-06T05:04:54.895Z"
   },
   {
    "duration": 121,
    "start_time": "2022-02-06T05:05:00.842Z"
   },
   {
    "duration": 127,
    "start_time": "2022-02-06T05:06:02.153Z"
   },
   {
    "duration": 133,
    "start_time": "2022-02-06T05:06:09.680Z"
   },
   {
    "duration": 134,
    "start_time": "2022-02-06T05:06:51.532Z"
   },
   {
    "duration": 143,
    "start_time": "2022-02-06T05:09:51.692Z"
   },
   {
    "duration": 142,
    "start_time": "2022-02-06T05:10:21.952Z"
   },
   {
    "duration": 168,
    "start_time": "2022-02-06T05:11:14.732Z"
   },
   {
    "duration": 179,
    "start_time": "2022-02-06T05:11:23.712Z"
   },
   {
    "duration": 357,
    "start_time": "2022-02-06T05:34:51.232Z"
   },
   {
    "duration": 371,
    "start_time": "2022-02-06T05:38:07.464Z"
   },
   {
    "duration": 280,
    "start_time": "2022-02-06T05:38:58.332Z"
   },
   {
    "duration": 324,
    "start_time": "2022-02-06T05:39:48.814Z"
   },
   {
    "duration": 279,
    "start_time": "2022-02-06T05:40:17.033Z"
   },
   {
    "duration": 277,
    "start_time": "2022-02-06T05:41:08.773Z"
   },
   {
    "duration": 311,
    "start_time": "2022-02-06T05:42:11.392Z"
   },
   {
    "duration": 307,
    "start_time": "2022-02-06T05:42:30.473Z"
   },
   {
    "duration": 5,
    "start_time": "2022-02-06T05:47:45.633Z"
   },
   {
    "duration": 5,
    "start_time": "2022-02-06T05:48:11.373Z"
   },
   {
    "duration": 300,
    "start_time": "2022-02-06T05:48:25.229Z"
   },
   {
    "duration": 5,
    "start_time": "2022-02-06T05:48:39.050Z"
   },
   {
    "duration": 76,
    "start_time": "2022-02-06T05:54:43.713Z"
   },
   {
    "duration": 7,
    "start_time": "2022-02-06T05:55:39.989Z"
   },
   {
    "duration": 288,
    "start_time": "2022-02-06T05:55:42.673Z"
   },
   {
    "duration": 282,
    "start_time": "2022-02-06T05:56:07.274Z"
   },
   {
    "duration": 5,
    "start_time": "2022-02-06T05:56:09.373Z"
   },
   {
    "duration": 297,
    "start_time": "2022-02-06T05:56:19.525Z"
   },
   {
    "duration": 5,
    "start_time": "2022-02-06T05:56:20.513Z"
   },
   {
    "duration": 5,
    "start_time": "2022-02-06T05:56:24.393Z"
   },
   {
    "duration": 8,
    "start_time": "2022-02-06T05:56:53.449Z"
   },
   {
    "duration": 326,
    "start_time": "2022-02-06T05:56:54.413Z"
   },
   {
    "duration": 5,
    "start_time": "2022-02-06T05:56:54.933Z"
   },
   {
    "duration": 294,
    "start_time": "2022-02-06T05:56:55.781Z"
   },
   {
    "duration": 5,
    "start_time": "2022-02-06T05:57:00.933Z"
   },
   {
    "duration": 9,
    "start_time": "2022-02-06T05:57:27.102Z"
   },
   {
    "duration": 293,
    "start_time": "2022-02-06T05:57:28.573Z"
   },
   {
    "duration": 6,
    "start_time": "2022-02-06T05:57:28.993Z"
   },
   {
    "duration": 290,
    "start_time": "2022-02-06T05:57:29.573Z"
   },
   {
    "duration": 4,
    "start_time": "2022-02-06T05:57:35.476Z"
   },
   {
    "duration": 372,
    "start_time": "2022-02-06T05:57:40.154Z"
   },
   {
    "duration": 5,
    "start_time": "2022-02-06T05:57:41.093Z"
   },
   {
    "duration": 6,
    "start_time": "2022-02-06T05:58:00.905Z"
   },
   {
    "duration": 314,
    "start_time": "2022-02-06T05:58:02.713Z"
   },
   {
    "duration": 4,
    "start_time": "2022-02-06T05:58:03.633Z"
   },
   {
    "duration": 7,
    "start_time": "2022-02-06T05:58:10.393Z"
   },
   {
    "duration": 7,
    "start_time": "2022-02-06T05:58:13.804Z"
   },
   {
    "duration": 301,
    "start_time": "2022-02-06T05:58:14.233Z"
   },
   {
    "duration": 5,
    "start_time": "2022-02-06T05:58:16.253Z"
   },
   {
    "duration": 602,
    "start_time": "2022-02-06T05:59:02.354Z"
   },
   {
    "duration": 44,
    "start_time": "2022-02-06T05:59:02.958Z"
   },
   {
    "duration": 35,
    "start_time": "2022-02-06T05:59:03.004Z"
   },
   {
    "duration": 12,
    "start_time": "2022-02-06T05:59:03.041Z"
   },
   {
    "duration": 4,
    "start_time": "2022-02-06T05:59:03.055Z"
   },
   {
    "duration": 4,
    "start_time": "2022-02-06T05:59:03.061Z"
   },
   {
    "duration": 7,
    "start_time": "2022-02-06T05:59:03.067Z"
   },
   {
    "duration": 15,
    "start_time": "2022-02-06T05:59:03.075Z"
   },
   {
    "duration": 6,
    "start_time": "2022-02-06T05:59:03.112Z"
   },
   {
    "duration": 14,
    "start_time": "2022-02-06T05:59:03.120Z"
   },
   {
    "duration": 16,
    "start_time": "2022-02-06T05:59:03.135Z"
   },
   {
    "duration": 5,
    "start_time": "2022-02-06T05:59:03.153Z"
   },
   {
    "duration": 305,
    "start_time": "2022-02-06T05:59:03.160Z"
   },
   {
    "duration": 10,
    "start_time": "2022-02-06T05:59:03.466Z"
   },
   {
    "duration": 7,
    "start_time": "2022-02-06T05:59:03.478Z"
   },
   {
    "duration": 1229,
    "start_time": "2022-02-06T05:59:03.487Z"
   },
   {
    "duration": 8,
    "start_time": "2022-02-06T05:59:04.717Z"
   },
   {
    "duration": 17,
    "start_time": "2022-02-06T05:59:04.727Z"
   },
   {
    "duration": 9,
    "start_time": "2022-02-06T05:59:04.745Z"
   },
   {
    "duration": 441,
    "start_time": "2022-02-06T05:59:04.756Z"
   },
   {
    "duration": 198,
    "start_time": "2022-02-06T05:59:05.199Z"
   },
   {
    "duration": 18,
    "start_time": "2022-02-06T05:59:05.399Z"
   },
   {
    "duration": 311,
    "start_time": "2022-02-06T05:59:05.419Z"
   },
   {
    "duration": 6,
    "start_time": "2022-02-06T05:59:05.732Z"
   },
   {
    "duration": 8,
    "start_time": "2022-02-06T05:59:05.740Z"
   },
   {
    "duration": 309,
    "start_time": "2022-02-06T05:59:05.749Z"
   },
   {
    "duration": 5,
    "start_time": "2022-02-06T05:59:06.060Z"
   },
   {
    "duration": 299,
    "start_time": "2022-02-06T06:21:09.931Z"
   },
   {
    "duration": 5,
    "start_time": "2022-02-06T06:21:26.691Z"
   },
   {
    "duration": 5,
    "start_time": "2022-02-06T06:21:40.130Z"
   },
   {
    "duration": 308,
    "start_time": "2022-02-06T06:25:25.410Z"
   },
   {
    "duration": 5,
    "start_time": "2022-02-06T06:25:51.710Z"
   },
   {
    "duration": 309,
    "start_time": "2022-02-06T06:28:29.719Z"
   },
   {
    "duration": 6,
    "start_time": "2022-02-06T06:29:15.650Z"
   },
   {
    "duration": 267,
    "start_time": "2022-02-06T06:29:27.818Z"
   },
   {
    "duration": 360,
    "start_time": "2022-02-06T06:29:30.690Z"
   },
   {
    "duration": 5,
    "start_time": "2022-02-06T06:29:31.190Z"
   },
   {
    "duration": 313,
    "start_time": "2022-02-06T06:29:48.911Z"
   },
   {
    "duration": 325,
    "start_time": "2022-02-06T06:30:03.887Z"
   },
   {
    "duration": 6,
    "start_time": "2022-02-06T06:30:04.290Z"
   },
   {
    "duration": 16,
    "start_time": "2022-02-06T06:32:42.170Z"
   },
   {
    "duration": 16,
    "start_time": "2022-02-06T06:32:54.850Z"
   },
   {
    "duration": 7,
    "start_time": "2022-02-06T06:33:46.750Z"
   },
   {
    "duration": 668,
    "start_time": "2022-02-06T06:37:49.530Z"
   },
   {
    "duration": 14,
    "start_time": "2022-02-06T06:38:10.130Z"
   },
   {
    "duration": 14,
    "start_time": "2022-02-06T06:38:50.549Z"
   },
   {
    "duration": 7,
    "start_time": "2022-02-06T06:41:27.256Z"
   },
   {
    "duration": 7,
    "start_time": "2022-02-06T06:41:31.010Z"
   },
   {
    "duration": 239,
    "start_time": "2022-02-06T06:42:49.130Z"
   },
   {
    "duration": 416,
    "start_time": "2022-02-06T06:50:31.870Z"
   },
   {
    "duration": 383,
    "start_time": "2022-02-06T06:50:42.210Z"
   },
   {
    "duration": 652,
    "start_time": "2022-02-06T06:50:54.602Z"
   },
   {
    "duration": 43,
    "start_time": "2022-02-06T06:50:55.256Z"
   },
   {
    "duration": 34,
    "start_time": "2022-02-06T06:50:55.301Z"
   },
   {
    "duration": 11,
    "start_time": "2022-02-06T06:50:55.337Z"
   },
   {
    "duration": 5,
    "start_time": "2022-02-06T06:50:55.349Z"
   },
   {
    "duration": 4,
    "start_time": "2022-02-06T06:50:55.356Z"
   },
   {
    "duration": 7,
    "start_time": "2022-02-06T06:50:55.361Z"
   },
   {
    "duration": 9,
    "start_time": "2022-02-06T06:50:55.370Z"
   },
   {
    "duration": 32,
    "start_time": "2022-02-06T06:50:55.381Z"
   },
   {
    "duration": 14,
    "start_time": "2022-02-06T06:50:55.415Z"
   },
   {
    "duration": 15,
    "start_time": "2022-02-06T06:50:55.431Z"
   },
   {
    "duration": 5,
    "start_time": "2022-02-06T06:50:55.447Z"
   },
   {
    "duration": 296,
    "start_time": "2022-02-06T06:50:55.454Z"
   },
   {
    "duration": 9,
    "start_time": "2022-02-06T06:50:55.752Z"
   },
   {
    "duration": 9,
    "start_time": "2022-02-06T06:50:55.762Z"
   },
   {
    "duration": 1236,
    "start_time": "2022-02-06T06:50:55.772Z"
   },
   {
    "duration": 7,
    "start_time": "2022-02-06T06:50:57.010Z"
   },
   {
    "duration": 18,
    "start_time": "2022-02-06T06:50:57.018Z"
   },
   {
    "duration": 8,
    "start_time": "2022-02-06T06:50:57.039Z"
   },
   {
    "duration": 446,
    "start_time": "2022-02-06T06:50:57.049Z"
   },
   {
    "duration": 192,
    "start_time": "2022-02-06T06:50:57.497Z"
   },
   {
    "duration": 6,
    "start_time": "2022-02-06T06:50:57.691Z"
   },
   {
    "duration": 336,
    "start_time": "2022-02-06T06:50:57.712Z"
   },
   {
    "duration": 4,
    "start_time": "2022-02-06T06:50:58.050Z"
   },
   {
    "duration": 7,
    "start_time": "2022-02-06T06:50:58.056Z"
   },
   {
    "duration": 294,
    "start_time": "2022-02-06T06:50:58.064Z"
   },
   {
    "duration": 4,
    "start_time": "2022-02-06T06:50:58.360Z"
   },
   {
    "duration": 288,
    "start_time": "2022-02-06T06:50:58.366Z"
   },
   {
    "duration": 5,
    "start_time": "2022-02-06T06:50:58.655Z"
   },
   {
    "duration": 284,
    "start_time": "2022-02-06T06:50:58.662Z"
   },
   {
    "duration": 5,
    "start_time": "2022-02-06T06:50:58.947Z"
   },
   {
    "duration": 286,
    "start_time": "2022-02-06T06:50:58.954Z"
   },
   {
    "duration": 4,
    "start_time": "2022-02-06T06:50:59.242Z"
   },
   {
    "duration": 374,
    "start_time": "2022-02-06T06:50:59.248Z"
   },
   {
    "duration": 4,
    "start_time": "2022-02-06T06:50:59.624Z"
   },
   {
    "duration": 15,
    "start_time": "2022-02-06T06:50:59.630Z"
   },
   {
    "duration": 888,
    "start_time": "2022-02-06T06:50:59.647Z"
   },
   {
    "duration": 365,
    "start_time": "2022-02-06T06:51:11.205Z"
   },
   {
    "duration": 362,
    "start_time": "2022-02-06T06:51:37.254Z"
   },
   {
    "duration": 6405,
    "start_time": "2022-02-06T07:06:51.526Z"
   },
   {
    "duration": 5577,
    "start_time": "2022-02-06T07:07:51.806Z"
   },
   {
    "duration": 12,
    "start_time": "2022-02-06T07:08:22.917Z"
   },
   {
    "duration": 5718,
    "start_time": "2022-02-06T07:10:02.806Z"
   },
   {
    "duration": 5723,
    "start_time": "2022-02-06T07:10:44.253Z"
   },
   {
    "duration": 612,
    "start_time": "2022-02-06T07:11:07.151Z"
   },
   {
    "duration": 43,
    "start_time": "2022-02-06T07:11:07.765Z"
   },
   {
    "duration": 31,
    "start_time": "2022-02-06T07:11:07.810Z"
   },
   {
    "duration": 11,
    "start_time": "2022-02-06T07:11:07.843Z"
   },
   {
    "duration": 5,
    "start_time": "2022-02-06T07:11:07.855Z"
   },
   {
    "duration": 4,
    "start_time": "2022-02-06T07:11:07.862Z"
   },
   {
    "duration": 5,
    "start_time": "2022-02-06T07:11:07.867Z"
   },
   {
    "duration": 9,
    "start_time": "2022-02-06T07:11:07.873Z"
   },
   {
    "duration": 5,
    "start_time": "2022-02-06T07:11:07.914Z"
   },
   {
    "duration": 16,
    "start_time": "2022-02-06T07:11:07.921Z"
   },
   {
    "duration": 15,
    "start_time": "2022-02-06T07:11:07.938Z"
   },
   {
    "duration": 6,
    "start_time": "2022-02-06T07:11:07.954Z"
   },
   {
    "duration": 301,
    "start_time": "2022-02-06T07:11:07.962Z"
   },
   {
    "duration": 10,
    "start_time": "2022-02-06T07:11:08.265Z"
   },
   {
    "duration": 9,
    "start_time": "2022-02-06T07:11:08.277Z"
   },
   {
    "duration": 1230,
    "start_time": "2022-02-06T07:11:08.288Z"
   },
   {
    "duration": 7,
    "start_time": "2022-02-06T07:11:09.519Z"
   },
   {
    "duration": 17,
    "start_time": "2022-02-06T07:11:09.527Z"
   },
   {
    "duration": 8,
    "start_time": "2022-02-06T07:11:09.545Z"
   },
   {
    "duration": 436,
    "start_time": "2022-02-06T07:11:09.555Z"
   },
   {
    "duration": 186,
    "start_time": "2022-02-06T07:11:09.993Z"
   },
   {
    "duration": 6,
    "start_time": "2022-02-06T07:11:10.181Z"
   },
   {
    "duration": 335,
    "start_time": "2022-02-06T07:11:10.188Z"
   },
   {
    "duration": 5,
    "start_time": "2022-02-06T07:11:10.525Z"
   },
   {
    "duration": 8,
    "start_time": "2022-02-06T07:11:10.532Z"
   },
   {
    "duration": 294,
    "start_time": "2022-02-06T07:11:10.541Z"
   },
   {
    "duration": 4,
    "start_time": "2022-02-06T07:11:10.838Z"
   },
   {
    "duration": 311,
    "start_time": "2022-02-06T07:11:10.844Z"
   },
   {
    "duration": 5,
    "start_time": "2022-02-06T07:11:11.157Z"
   },
   {
    "duration": 309,
    "start_time": "2022-02-06T07:11:11.163Z"
   },
   {
    "duration": 4,
    "start_time": "2022-02-06T07:11:11.474Z"
   },
   {
    "duration": 339,
    "start_time": "2022-02-06T07:11:11.479Z"
   },
   {
    "duration": 5,
    "start_time": "2022-02-06T07:11:11.820Z"
   },
   {
    "duration": 410,
    "start_time": "2022-02-06T07:11:11.826Z"
   },
   {
    "duration": 4,
    "start_time": "2022-02-06T07:11:12.237Z"
   },
   {
    "duration": 15,
    "start_time": "2022-02-06T07:11:12.243Z"
   },
   {
    "duration": 6310,
    "start_time": "2022-02-06T07:11:12.259Z"
   },
   {
    "duration": 11,
    "start_time": "2022-02-06T07:11:35.103Z"
   },
   {
    "duration": 5927,
    "start_time": "2022-02-06T07:12:10.161Z"
   },
   {
    "duration": 5918,
    "start_time": "2022-02-06T07:12:27.202Z"
   },
   {
    "duration": 12,
    "start_time": "2022-02-06T07:12:55.150Z"
   },
   {
    "duration": 8,
    "start_time": "2022-02-06T07:17:42.640Z"
   },
   {
    "duration": 81,
    "start_time": "2022-02-06T07:24:49.973Z"
   },
   {
    "duration": 70,
    "start_time": "2022-02-06T07:25:39.805Z"
   },
   {
    "duration": 72,
    "start_time": "2022-02-06T07:25:44.653Z"
   },
   {
    "duration": 245,
    "start_time": "2022-02-06T07:25:59.152Z"
   },
   {
    "duration": 101,
    "start_time": "2022-02-06T07:26:11.880Z"
   },
   {
    "duration": 231,
    "start_time": "2022-02-06T07:26:47.394Z"
   },
   {
    "duration": 215,
    "start_time": "2022-02-06T07:26:54.042Z"
   },
   {
    "duration": 291,
    "start_time": "2022-02-06T07:27:12.632Z"
   },
   {
    "duration": 4,
    "start_time": "2022-02-06T07:29:50.845Z"
   },
   {
    "duration": 3,
    "start_time": "2022-02-06T07:29:56.273Z"
   },
   {
    "duration": 238,
    "start_time": "2022-02-06T07:30:08.056Z"
   },
   {
    "duration": 213,
    "start_time": "2022-02-06T07:30:12.573Z"
   },
   {
    "duration": 4,
    "start_time": "2022-02-06T07:30:24.261Z"
   },
   {
    "duration": 3,
    "start_time": "2022-02-06T07:30:29.225Z"
   },
   {
    "duration": 3,
    "start_time": "2022-02-06T07:31:42.173Z"
   },
   {
    "duration": 6,
    "start_time": "2022-02-06T07:31:48.713Z"
   },
   {
    "duration": 664,
    "start_time": "2022-02-06T07:33:55.093Z"
   },
   {
    "duration": 44,
    "start_time": "2022-02-06T07:33:55.758Z"
   },
   {
    "duration": 36,
    "start_time": "2022-02-06T07:33:55.804Z"
   },
   {
    "duration": 12,
    "start_time": "2022-02-06T07:33:55.842Z"
   },
   {
    "duration": 5,
    "start_time": "2022-02-06T07:33:55.856Z"
   },
   {
    "duration": 4,
    "start_time": "2022-02-06T07:33:55.862Z"
   },
   {
    "duration": 5,
    "start_time": "2022-02-06T07:33:55.868Z"
   },
   {
    "duration": 39,
    "start_time": "2022-02-06T07:33:55.874Z"
   },
   {
    "duration": 5,
    "start_time": "2022-02-06T07:33:55.916Z"
   },
   {
    "duration": 14,
    "start_time": "2022-02-06T07:33:55.923Z"
   },
   {
    "duration": 15,
    "start_time": "2022-02-06T07:33:55.939Z"
   },
   {
    "duration": 6,
    "start_time": "2022-02-06T07:33:55.955Z"
   },
   {
    "duration": 327,
    "start_time": "2022-02-06T07:33:55.962Z"
   },
   {
    "duration": 21,
    "start_time": "2022-02-06T07:33:56.292Z"
   },
   {
    "duration": 8,
    "start_time": "2022-02-06T07:33:56.315Z"
   },
   {
    "duration": 1265,
    "start_time": "2022-02-06T07:33:56.325Z"
   },
   {
    "duration": 7,
    "start_time": "2022-02-06T07:33:57.591Z"
   },
   {
    "duration": 26,
    "start_time": "2022-02-06T07:33:57.599Z"
   },
   {
    "duration": 7,
    "start_time": "2022-02-06T07:33:57.627Z"
   },
   {
    "duration": 434,
    "start_time": "2022-02-06T07:33:57.636Z"
   },
   {
    "duration": 205,
    "start_time": "2022-02-06T07:33:58.072Z"
   },
   {
    "duration": 7,
    "start_time": "2022-02-06T07:33:58.279Z"
   },
   {
    "duration": 342,
    "start_time": "2022-02-06T07:33:58.288Z"
   },
   {
    "duration": 5,
    "start_time": "2022-02-06T07:33:58.631Z"
   },
   {
    "duration": 10,
    "start_time": "2022-02-06T07:33:58.637Z"
   },
   {
    "duration": 293,
    "start_time": "2022-02-06T07:33:58.648Z"
   },
   {
    "duration": 5,
    "start_time": "2022-02-06T07:33:58.945Z"
   },
   {
    "duration": 295,
    "start_time": "2022-02-06T07:33:58.952Z"
   },
   {
    "duration": 5,
    "start_time": "2022-02-06T07:33:59.249Z"
   },
   {
    "duration": 282,
    "start_time": "2022-02-06T07:33:59.256Z"
   },
   {
    "duration": 4,
    "start_time": "2022-02-06T07:33:59.540Z"
   },
   {
    "duration": 307,
    "start_time": "2022-02-06T07:33:59.546Z"
   },
   {
    "duration": 5,
    "start_time": "2022-02-06T07:33:59.855Z"
   },
   {
    "duration": 370,
    "start_time": "2022-02-06T07:33:59.861Z"
   },
   {
    "duration": 5,
    "start_time": "2022-02-06T07:34:00.233Z"
   },
   {
    "duration": 23,
    "start_time": "2022-02-06T07:34:00.239Z"
   },
   {
    "duration": 21,
    "start_time": "2022-02-06T07:34:00.263Z"
   },
   {
    "duration": 17,
    "start_time": "2022-02-06T07:34:00.286Z"
   },
   {
    "duration": 14,
    "start_time": "2022-02-06T07:34:00.305Z"
   },
   {
    "duration": 35,
    "start_time": "2022-02-06T07:34:00.321Z"
   },
   {
    "duration": 8,
    "start_time": "2022-02-06T07:34:00.358Z"
   },
   {
    "duration": 13,
    "start_time": "2022-02-06T07:38:53.895Z"
   },
   {
    "duration": 480,
    "start_time": "2022-02-06T14:41:39.497Z"
   },
   {
    "duration": 9,
    "start_time": "2022-02-06T14:41:59.376Z"
   },
   {
    "duration": 15,
    "start_time": "2022-02-06T14:42:41.580Z"
   },
   {
    "duration": 14,
    "start_time": "2022-02-06T14:42:46.648Z"
   },
   {
    "duration": 16,
    "start_time": "2022-02-06T14:43:27.857Z"
   },
   {
    "duration": 18,
    "start_time": "2022-02-06T14:43:59.296Z"
   },
   {
    "duration": 244,
    "start_time": "2022-02-06T15:06:53.344Z"
   },
   {
    "duration": 248,
    "start_time": "2022-02-06T15:07:25.976Z"
   },
   {
    "duration": 314,
    "start_time": "2022-02-06T15:11:48.836Z"
   },
   {
    "duration": 11,
    "start_time": "2022-02-06T15:11:49.896Z"
   },
   {
    "duration": 12,
    "start_time": "2022-02-06T15:16:59.937Z"
   },
   {
    "duration": 11,
    "start_time": "2022-02-06T15:17:33.276Z"
   },
   {
    "duration": 83,
    "start_time": "2022-02-06T15:17:46.177Z"
   },
   {
    "duration": 730,
    "start_time": "2022-02-12T21:22:42.714Z"
   },
   {
    "duration": 51,
    "start_time": "2022-02-12T21:22:43.446Z"
   },
   {
    "duration": 32,
    "start_time": "2022-02-12T21:22:45.882Z"
   },
   {
    "duration": 14,
    "start_time": "2022-02-12T21:22:46.111Z"
   },
   {
    "duration": 5,
    "start_time": "2022-02-12T21:23:52.115Z"
   },
   {
    "duration": 6,
    "start_time": "2022-02-12T21:23:52.493Z"
   },
   {
    "duration": 5,
    "start_time": "2022-02-12T21:23:53.348Z"
   },
   {
    "duration": 10,
    "start_time": "2022-02-12T21:23:54.256Z"
   },
   {
    "duration": 7,
    "start_time": "2022-02-12T21:23:54.939Z"
   },
   {
    "duration": 15,
    "start_time": "2022-02-12T21:23:55.346Z"
   },
   {
    "duration": 23,
    "start_time": "2022-02-12T21:23:56.378Z"
   },
   {
    "duration": 6,
    "start_time": "2022-02-12T21:23:57.228Z"
   },
   {
    "duration": 266,
    "start_time": "2022-02-12T21:45:11.531Z"
   },
   {
    "duration": 3,
    "start_time": "2022-02-12T21:45:15.110Z"
   },
   {
    "duration": 54,
    "start_time": "2022-02-12T21:45:15.115Z"
   },
   {
    "duration": 29,
    "start_time": "2022-02-12T21:45:15.172Z"
   },
   {
    "duration": 14,
    "start_time": "2022-02-12T21:45:15.203Z"
   },
   {
    "duration": 6,
    "start_time": "2022-02-12T21:45:15.219Z"
   },
   {
    "duration": 11,
    "start_time": "2022-02-12T21:45:15.227Z"
   },
   {
    "duration": 14,
    "start_time": "2022-02-12T21:45:15.240Z"
   },
   {
    "duration": 11,
    "start_time": "2022-02-12T21:45:15.256Z"
   },
   {
    "duration": 8,
    "start_time": "2022-02-12T21:45:15.270Z"
   },
   {
    "duration": 27,
    "start_time": "2022-02-12T21:45:15.280Z"
   },
   {
    "duration": 19,
    "start_time": "2022-02-12T21:45:15.308Z"
   },
   {
    "duration": 5,
    "start_time": "2022-02-12T21:45:15.329Z"
   },
   {
    "duration": 773,
    "start_time": "2022-02-12T21:45:15.336Z"
   },
   {
    "duration": 10,
    "start_time": "2022-02-12T21:45:16.111Z"
   },
   {
    "duration": 9,
    "start_time": "2022-02-12T21:45:16.123Z"
   },
   {
    "duration": 1357,
    "start_time": "2022-02-12T21:45:16.134Z"
   },
   {
    "duration": 10,
    "start_time": "2022-02-12T21:45:17.493Z"
   },
   {
    "duration": 27,
    "start_time": "2022-02-12T21:45:17.504Z"
   },
   {
    "duration": 9,
    "start_time": "2022-02-12T21:45:17.532Z"
   },
   {
    "duration": 481,
    "start_time": "2022-02-12T21:45:17.542Z"
   },
   {
    "duration": 405,
    "start_time": "2022-02-12T21:45:20.922Z"
   },
   {
    "duration": 451,
    "start_time": "2022-02-12T21:45:31.670Z"
   },
   {
    "duration": 179,
    "start_time": "2022-02-12T21:45:41.646Z"
   },
   {
    "duration": 711,
    "start_time": "2022-02-12T21:45:55.427Z"
   },
   {
    "duration": 179,
    "start_time": "2022-02-12T21:46:06.520Z"
   },
   {
    "duration": 624,
    "start_time": "2022-02-12T21:46:13.251Z"
   },
   {
    "duration": 272,
    "start_time": "2022-02-12T21:46:43.222Z"
   },
   {
    "duration": 72,
    "start_time": "2022-02-12T21:47:28.387Z"
   },
   {
    "duration": 602,
    "start_time": "2022-02-12T21:47:31.473Z"
   },
   {
    "duration": 204,
    "start_time": "2022-02-12T21:47:47.271Z"
   },
   {
    "duration": 2,
    "start_time": "2022-02-12T21:50:08.806Z"
   },
   {
    "duration": 61,
    "start_time": "2022-02-12T21:50:08.811Z"
   },
   {
    "duration": 46,
    "start_time": "2022-02-12T21:50:08.874Z"
   },
   {
    "duration": 14,
    "start_time": "2022-02-12T21:50:08.922Z"
   },
   {
    "duration": 16,
    "start_time": "2022-02-12T21:50:08.938Z"
   },
   {
    "duration": 28,
    "start_time": "2022-02-12T21:50:08.956Z"
   },
   {
    "duration": 8,
    "start_time": "2022-02-12T21:50:08.986Z"
   },
   {
    "duration": 29,
    "start_time": "2022-02-12T21:50:08.996Z"
   },
   {
    "duration": 19,
    "start_time": "2022-02-12T21:50:09.028Z"
   },
   {
    "duration": 30,
    "start_time": "2022-02-12T21:50:09.049Z"
   },
   {
    "duration": 33,
    "start_time": "2022-02-12T21:50:09.081Z"
   },
   {
    "duration": 19,
    "start_time": "2022-02-12T21:50:09.115Z"
   },
   {
    "duration": 330,
    "start_time": "2022-02-12T21:50:09.136Z"
   },
   {
    "duration": 10,
    "start_time": "2022-02-12T21:50:09.468Z"
   },
   {
    "duration": 21,
    "start_time": "2022-02-12T21:50:09.480Z"
   },
   {
    "duration": 1423,
    "start_time": "2022-02-12T21:50:09.503Z"
   },
   {
    "duration": 7,
    "start_time": "2022-02-12T21:50:10.928Z"
   },
   {
    "duration": 30,
    "start_time": "2022-02-12T21:50:10.936Z"
   },
   {
    "duration": 12,
    "start_time": "2022-02-12T21:50:10.968Z"
   },
   {
    "duration": 477,
    "start_time": "2022-02-12T21:50:10.982Z"
   },
   {
    "duration": 216,
    "start_time": "2022-02-12T21:50:11.460Z"
   },
   {
    "duration": 8,
    "start_time": "2022-02-12T21:50:11.678Z"
   },
   {
    "duration": 366,
    "start_time": "2022-02-12T21:50:11.699Z"
   },
   {
    "duration": 6,
    "start_time": "2022-02-12T21:50:12.067Z"
   },
   {
    "duration": 25,
    "start_time": "2022-02-12T21:50:12.076Z"
   },
   {
    "duration": 351,
    "start_time": "2022-02-12T21:50:12.103Z"
   },
   {
    "duration": 5,
    "start_time": "2022-02-12T21:50:12.457Z"
   },
   {
    "duration": 372,
    "start_time": "2022-02-12T21:50:12.464Z"
   },
   {
    "duration": 5,
    "start_time": "2022-02-12T21:50:12.838Z"
   },
   {
    "duration": 308,
    "start_time": "2022-02-12T21:50:12.845Z"
   },
   {
    "duration": 6,
    "start_time": "2022-02-12T21:50:13.154Z"
   },
   {
    "duration": 359,
    "start_time": "2022-02-12T21:50:13.161Z"
   },
   {
    "duration": 5,
    "start_time": "2022-02-12T21:50:13.522Z"
   },
   {
    "duration": 323,
    "start_time": "2022-02-12T21:50:13.529Z"
   },
   {
    "duration": 6,
    "start_time": "2022-02-12T21:50:13.854Z"
   },
   {
    "duration": 21,
    "start_time": "2022-02-12T21:50:13.862Z"
   },
   {
    "duration": 15,
    "start_time": "2022-02-12T21:50:13.899Z"
   },
   {
    "duration": 9,
    "start_time": "2022-02-12T21:50:13.916Z"
   },
   {
    "duration": 7,
    "start_time": "2022-02-12T21:50:13.927Z"
   },
   {
    "duration": 7,
    "start_time": "2022-02-12T21:50:13.935Z"
   },
   {
    "duration": 11,
    "start_time": "2022-02-12T21:50:13.944Z"
   },
   {
    "duration": 43,
    "start_time": "2022-02-12T21:50:13.957Z"
   },
   {
    "duration": 19,
    "start_time": "2022-02-12T21:50:14.001Z"
   },
   {
    "duration": 3,
    "start_time": "2022-02-12T21:50:14.022Z"
   },
   {
    "duration": 19,
    "start_time": "2022-02-12T21:50:14.026Z"
   },
   {
    "duration": 13,
    "start_time": "2022-02-12T21:50:14.047Z"
   },
   {
    "duration": 6,
    "start_time": "2022-02-12T21:51:36.599Z"
   },
   {
    "duration": 5,
    "start_time": "2022-02-12T21:51:49.887Z"
   },
   {
    "duration": 14,
    "start_time": "2022-02-12T21:55:05.882Z"
   },
   {
    "duration": 16,
    "start_time": "2022-02-12T21:55:11.070Z"
   },
   {
    "duration": 333,
    "start_time": "2022-02-14T09:34:22.620Z"
   },
   {
    "duration": 861,
    "start_time": "2022-02-14T09:34:29.589Z"
   },
   {
    "duration": 54,
    "start_time": "2022-02-14T09:34:30.453Z"
   },
   {
    "duration": 55,
    "start_time": "2022-02-14T09:34:30.511Z"
   },
   {
    "duration": 18,
    "start_time": "2022-02-14T09:34:30.569Z"
   },
   {
    "duration": 24,
    "start_time": "2022-02-14T09:34:30.589Z"
   },
   {
    "duration": 16,
    "start_time": "2022-02-14T09:34:30.616Z"
   },
   {
    "duration": 13,
    "start_time": "2022-02-14T09:34:30.634Z"
   },
   {
    "duration": 26,
    "start_time": "2022-02-14T09:34:30.651Z"
   },
   {
    "duration": 16,
    "start_time": "2022-02-14T09:34:30.680Z"
   },
   {
    "duration": 38,
    "start_time": "2022-02-14T09:34:30.698Z"
   },
   {
    "duration": 31,
    "start_time": "2022-02-14T09:34:30.738Z"
   },
   {
    "duration": 7,
    "start_time": "2022-02-14T09:34:30.772Z"
   },
   {
    "duration": 487,
    "start_time": "2022-02-14T09:34:30.782Z"
   },
   {
    "duration": 16,
    "start_time": "2022-02-14T09:34:31.272Z"
   },
   {
    "duration": 11,
    "start_time": "2022-02-14T09:34:31.291Z"
   },
   {
    "duration": 1983,
    "start_time": "2022-02-14T09:34:31.304Z"
   },
   {
    "duration": 9,
    "start_time": "2022-02-14T09:34:33.289Z"
   },
   {
    "duration": 44,
    "start_time": "2022-02-14T09:34:33.300Z"
   },
   {
    "duration": 9,
    "start_time": "2022-02-14T09:34:33.347Z"
   },
   {
    "duration": 659,
    "start_time": "2022-02-14T09:34:33.359Z"
   },
   {
    "duration": 314,
    "start_time": "2022-02-14T09:34:34.021Z"
   },
   {
    "duration": 9,
    "start_time": "2022-02-14T09:34:34.337Z"
   },
   {
    "duration": 418,
    "start_time": "2022-02-14T09:34:34.351Z"
   },
   {
    "duration": 6,
    "start_time": "2022-02-14T09:34:34.772Z"
   },
   {
    "duration": 18,
    "start_time": "2022-02-14T09:34:34.780Z"
   },
   {
    "duration": 450,
    "start_time": "2022-02-14T09:34:34.800Z"
   },
   {
    "duration": 7,
    "start_time": "2022-02-14T09:34:35.253Z"
   },
   {
    "duration": 426,
    "start_time": "2022-02-14T09:34:35.264Z"
   },
   {
    "duration": 7,
    "start_time": "2022-02-14T09:34:35.694Z"
   },
   {
    "duration": 435,
    "start_time": "2022-02-14T09:34:35.704Z"
   },
   {
    "duration": 8,
    "start_time": "2022-02-14T09:34:36.143Z"
   },
   {
    "duration": 434,
    "start_time": "2022-02-14T09:34:36.154Z"
   },
   {
    "duration": 8,
    "start_time": "2022-02-14T09:34:36.591Z"
   },
   {
    "duration": 443,
    "start_time": "2022-02-14T09:34:36.601Z"
   },
   {
    "duration": 7,
    "start_time": "2022-02-14T09:34:37.047Z"
   },
   {
    "duration": 23,
    "start_time": "2022-02-14T09:34:37.057Z"
   },
   {
    "duration": 17,
    "start_time": "2022-02-14T09:34:37.082Z"
   },
   {
    "duration": 12,
    "start_time": "2022-02-14T09:34:37.134Z"
   },
   {
    "duration": 5,
    "start_time": "2022-02-14T09:34:37.148Z"
   },
   {
    "duration": 12,
    "start_time": "2022-02-14T09:34:37.155Z"
   },
   {
    "duration": 18,
    "start_time": "2022-02-14T09:34:37.169Z"
   },
   {
    "duration": 95,
    "start_time": "2022-02-14T09:34:37.190Z"
   },
   {
    "duration": 25,
    "start_time": "2022-02-14T09:34:37.288Z"
   },
   {
    "duration": 423,
    "start_time": "2022-02-14T09:34:37.332Z"
   },
   {
    "duration": 14,
    "start_time": "2022-02-14T09:34:37.758Z"
   },
   {
    "duration": 16,
    "start_time": "2022-02-14T09:34:37.774Z"
   },
   {
    "duration": 104,
    "start_time": "2022-02-14T09:39:14.178Z"
   },
   {
    "duration": 386,
    "start_time": "2022-02-14T09:44:10.531Z"
   },
   {
    "duration": 17,
    "start_time": "2022-02-14T09:44:25.627Z"
   },
   {
    "duration": 579,
    "start_time": "2022-02-14T09:46:30.287Z"
   },
   {
    "duration": 19,
    "start_time": "2022-02-14T09:46:44.513Z"
   },
   {
    "duration": 364,
    "start_time": "2022-02-14T09:46:50.429Z"
   },
   {
    "duration": 6992,
    "start_time": "2022-02-14T09:48:33.819Z"
   },
   {
    "duration": 6721,
    "start_time": "2022-02-14T09:50:54.293Z"
   },
   {
    "duration": 7182,
    "start_time": "2022-02-14T09:51:02.035Z"
   },
   {
    "duration": 7375,
    "start_time": "2022-02-14T09:51:14.918Z"
   },
   {
    "duration": 271,
    "start_time": "2022-02-14T09:51:38.219Z"
   },
   {
    "duration": 6239,
    "start_time": "2022-02-14T09:51:59.624Z"
   },
   {
    "duration": 7377,
    "start_time": "2022-02-14T09:53:49.782Z"
   },
   {
    "duration": 9,
    "start_time": "2022-02-14T09:54:19.848Z"
   },
   {
    "duration": 10,
    "start_time": "2022-02-14T09:54:28.109Z"
   },
   {
    "duration": 311,
    "start_time": "2022-02-14T09:56:55.238Z"
   },
   {
    "duration": 6912,
    "start_time": "2022-02-14T09:58:57.852Z"
   },
   {
    "duration": 7119,
    "start_time": "2022-02-14T09:59:25.618Z"
   },
   {
    "duration": 10,
    "start_time": "2022-02-14T09:59:45.201Z"
   },
   {
    "duration": 313,
    "start_time": "2022-02-14T10:01:03.868Z"
   },
   {
    "duration": 37,
    "start_time": "2022-02-14T10:01:46.437Z"
   },
   {
    "duration": 24,
    "start_time": "2022-02-14T10:02:44.216Z"
   },
   {
    "duration": 844,
    "start_time": "2022-02-14T10:06:53.445Z"
   },
   {
    "duration": 103,
    "start_time": "2022-02-14T10:09:58.454Z"
   },
   {
    "duration": 8,
    "start_time": "2022-02-14T10:10:30.388Z"
   },
   {
    "duration": 36,
    "start_time": "2022-02-14T10:10:37.234Z"
   },
   {
    "duration": 7,
    "start_time": "2022-02-14T10:10:46.514Z"
   },
   {
    "duration": 444,
    "start_time": "2022-02-14T10:10:55.421Z"
   },
   {
    "duration": 285,
    "start_time": "2022-02-14T10:12:23.921Z"
   },
   {
    "duration": 778,
    "start_time": "2022-02-14T10:13:30.156Z"
   },
   {
    "duration": 445,
    "start_time": "2022-02-14T10:16:12.931Z"
   },
   {
    "duration": 617,
    "start_time": "2022-02-14T10:18:00.139Z"
   },
   {
    "duration": 436,
    "start_time": "2022-02-14T10:18:23.220Z"
   },
   {
    "duration": 433,
    "start_time": "2022-02-14T10:20:16.215Z"
   },
   {
    "duration": 260,
    "start_time": "2022-02-14T10:22:06.509Z"
   },
   {
    "duration": 273,
    "start_time": "2022-02-14T10:22:13.441Z"
   },
   {
    "duration": 315,
    "start_time": "2022-02-14T10:22:31.305Z"
   },
   {
    "duration": 24,
    "start_time": "2022-02-14T10:22:37.355Z"
   },
   {
    "duration": 7,
    "start_time": "2022-02-14T10:24:14.681Z"
   },
   {
    "duration": 7,
    "start_time": "2022-02-14T10:24:38.235Z"
   },
   {
    "duration": 6,
    "start_time": "2022-02-14T10:24:45.737Z"
   },
   {
    "duration": 288,
    "start_time": "2022-02-14T10:25:14.084Z"
   },
   {
    "duration": 21,
    "start_time": "2022-02-14T10:25:31.863Z"
   },
   {
    "duration": 743,
    "start_time": "2022-02-16T11:01:55.167Z"
   },
   {
    "duration": 47,
    "start_time": "2022-02-16T11:01:55.912Z"
   },
   {
    "duration": 38,
    "start_time": "2022-02-16T11:01:55.961Z"
   },
   {
    "duration": 14,
    "start_time": "2022-02-16T11:01:56.001Z"
   },
   {
    "duration": 10,
    "start_time": "2022-02-16T11:01:56.017Z"
   },
   {
    "duration": 7,
    "start_time": "2022-02-16T11:01:56.029Z"
   },
   {
    "duration": 8,
    "start_time": "2022-02-16T11:01:56.037Z"
   },
   {
    "duration": 12,
    "start_time": "2022-02-16T11:01:56.070Z"
   },
   {
    "duration": 10,
    "start_time": "2022-02-16T11:01:56.084Z"
   },
   {
    "duration": 35,
    "start_time": "2022-02-16T11:01:56.096Z"
   },
   {
    "duration": 27,
    "start_time": "2022-02-16T11:01:56.133Z"
   },
   {
    "duration": 7,
    "start_time": "2022-02-16T11:01:56.162Z"
   },
   {
    "duration": 345,
    "start_time": "2022-02-16T11:01:56.170Z"
   },
   {
    "duration": 11,
    "start_time": "2022-02-16T11:01:56.517Z"
   },
   {
    "duration": 17,
    "start_time": "2022-02-16T11:01:56.530Z"
   },
   {
    "duration": 1444,
    "start_time": "2022-02-16T11:01:56.549Z"
   },
   {
    "duration": 6,
    "start_time": "2022-02-16T11:01:57.994Z"
   },
   {
    "duration": 23,
    "start_time": "2022-02-16T11:01:58.002Z"
   },
   {
    "duration": 27,
    "start_time": "2022-02-16T11:01:58.028Z"
   },
   {
    "duration": 482,
    "start_time": "2022-02-16T11:01:58.058Z"
   },
   {
    "duration": 29,
    "start_time": "2022-02-16T11:01:58.542Z"
   },
   {
    "duration": 6,
    "start_time": "2022-02-16T11:01:58.573Z"
   },
   {
    "duration": 315,
    "start_time": "2022-02-16T11:01:58.583Z"
   },
   {
    "duration": 6,
    "start_time": "2022-02-16T11:01:58.901Z"
   },
   {
    "duration": 374,
    "start_time": "2022-02-16T11:01:58.909Z"
   },
   {
    "duration": 4,
    "start_time": "2022-02-16T11:01:59.285Z"
   },
   {
    "duration": 8,
    "start_time": "2022-02-16T11:01:59.291Z"
   },
   {
    "duration": 342,
    "start_time": "2022-02-16T11:01:59.301Z"
   },
   {
    "duration": 6,
    "start_time": "2022-02-16T11:01:59.645Z"
   },
   {
    "duration": 404,
    "start_time": "2022-02-16T11:01:59.653Z"
   },
   {
    "duration": 5,
    "start_time": "2022-02-16T11:02:00.059Z"
   },
   {
    "duration": 353,
    "start_time": "2022-02-16T11:02:00.069Z"
   },
   {
    "duration": 5,
    "start_time": "2022-02-16T11:02:00.423Z"
   },
   {
    "duration": 372,
    "start_time": "2022-02-16T11:02:00.430Z"
   },
   {
    "duration": 5,
    "start_time": "2022-02-16T11:02:00.804Z"
   },
   {
    "duration": 351,
    "start_time": "2022-02-16T11:02:00.811Z"
   },
   {
    "duration": 7,
    "start_time": "2022-02-16T11:02:01.164Z"
   },
   {
    "duration": 25,
    "start_time": "2022-02-16T11:02:01.173Z"
   },
   {
    "duration": 31,
    "start_time": "2022-02-16T11:02:01.200Z"
   },
   {
    "duration": 26,
    "start_time": "2022-02-16T11:02:01.233Z"
   },
   {
    "duration": 17,
    "start_time": "2022-02-16T11:02:01.261Z"
   },
   {
    "duration": 39,
    "start_time": "2022-02-16T11:02:01.281Z"
   },
   {
    "duration": 30,
    "start_time": "2022-02-16T11:02:01.322Z"
   },
   {
    "duration": 112,
    "start_time": "2022-02-16T11:02:01.354Z"
   },
   {
    "duration": 22,
    "start_time": "2022-02-16T11:02:01.468Z"
   },
   {
    "duration": 371,
    "start_time": "2022-02-16T11:02:01.492Z"
   },
   {
    "duration": 12,
    "start_time": "2022-02-16T11:02:01.865Z"
   },
   {
    "duration": 22,
    "start_time": "2022-02-16T11:02:01.878Z"
   },
   {
    "duration": 7,
    "start_time": "2022-02-16T11:03:30.221Z"
   },
   {
    "duration": 340,
    "start_time": "2022-02-16T11:04:14.062Z"
   },
   {
    "duration": 16,
    "start_time": "2022-02-16T11:04:21.606Z"
   },
   {
    "duration": 18,
    "start_time": "2022-02-16T11:05:23.644Z"
   },
   {
    "duration": 6,
    "start_time": "2022-02-16T11:05:37.406Z"
   },
   {
    "duration": 12,
    "start_time": "2022-02-16T11:11:13.814Z"
   },
   {
    "duration": 12,
    "start_time": "2022-02-16T11:11:30.206Z"
   },
   {
    "duration": 11,
    "start_time": "2022-02-16T11:19:02.506Z"
   },
   {
    "duration": 238,
    "start_time": "2022-02-16T11:19:57.030Z"
   },
   {
    "duration": 1530,
    "start_time": "2022-02-16T11:20:07.122Z"
   },
   {
    "duration": 27,
    "start_time": "2022-02-16T11:20:23.162Z"
   },
   {
    "duration": 11,
    "start_time": "2022-02-16T11:21:04.952Z"
   },
   {
    "duration": 12,
    "start_time": "2022-02-16T11:21:57.136Z"
   },
   {
    "duration": 10,
    "start_time": "2022-02-16T11:21:59.214Z"
   },
   {
    "duration": 10,
    "start_time": "2022-02-16T11:21:59.559Z"
   },
   {
    "duration": 11,
    "start_time": "2022-02-16T11:23:40.546Z"
   },
   {
    "duration": 12,
    "start_time": "2022-02-16T11:23:58.127Z"
   },
   {
    "duration": 12,
    "start_time": "2022-02-16T11:24:25.054Z"
   },
   {
    "duration": 263,
    "start_time": "2022-02-16T11:25:30.479Z"
   },
   {
    "duration": 15,
    "start_time": "2022-02-16T11:25:49.356Z"
   },
   {
    "duration": 5,
    "start_time": "2022-02-16T11:28:16.580Z"
   },
   {
    "duration": 3,
    "start_time": "2022-02-16T11:28:17.064Z"
   },
   {
    "duration": 8,
    "start_time": "2022-02-16T11:28:17.575Z"
   },
   {
    "duration": 218,
    "start_time": "2022-02-16T11:28:42.429Z"
   },
   {
    "duration": 5,
    "start_time": "2022-02-16T11:28:45.858Z"
   },
   {
    "duration": 9,
    "start_time": "2022-02-16T11:28:46.135Z"
   },
   {
    "duration": 4,
    "start_time": "2022-02-16T11:29:25.856Z"
   },
   {
    "duration": 3,
    "start_time": "2022-02-16T11:29:26.632Z"
   },
   {
    "duration": 7,
    "start_time": "2022-02-16T11:29:27.113Z"
   },
   {
    "duration": 11,
    "start_time": "2022-02-16T11:30:44.027Z"
   },
   {
    "duration": 14,
    "start_time": "2022-02-16T11:30:50.305Z"
   },
   {
    "duration": 4,
    "start_time": "2022-02-16T11:32:27.648Z"
   },
   {
    "duration": 4,
    "start_time": "2022-02-16T11:32:28.988Z"
   },
   {
    "duration": 6,
    "start_time": "2022-02-16T11:32:41.609Z"
   },
   {
    "duration": 3,
    "start_time": "2022-02-16T11:35:33.143Z"
   },
   {
    "duration": 3,
    "start_time": "2022-02-16T11:35:34.811Z"
   },
   {
    "duration": 7,
    "start_time": "2022-02-16T11:35:44.840Z"
   },
   {
    "duration": 4,
    "start_time": "2022-02-16T11:38:08.843Z"
   },
   {
    "duration": 3,
    "start_time": "2022-02-16T11:38:09.058Z"
   },
   {
    "duration": 7,
    "start_time": "2022-02-16T11:38:13.757Z"
   },
   {
    "duration": 196,
    "start_time": "2022-02-16T11:42:49.851Z"
   },
   {
    "duration": 186,
    "start_time": "2022-02-16T11:43:54.824Z"
   },
   {
    "duration": 75,
    "start_time": "2022-02-16T11:45:38.700Z"
   },
   {
    "duration": 79,
    "start_time": "2022-02-16T11:45:51.932Z"
   },
   {
    "duration": 181,
    "start_time": "2022-02-16T11:45:54.051Z"
   },
   {
    "duration": 724,
    "start_time": "2022-02-16T11:47:32.398Z"
   },
   {
    "duration": 10,
    "start_time": "2022-02-16T11:49:28.269Z"
   },
   {
    "duration": 11,
    "start_time": "2022-02-16T11:51:44.470Z"
   },
   {
    "duration": 10,
    "start_time": "2022-02-16T11:52:17.193Z"
   },
   {
    "duration": 600,
    "start_time": "2022-02-16T15:30:05.211Z"
   },
   {
    "duration": 40,
    "start_time": "2022-02-16T15:30:05.813Z"
   },
   {
    "duration": 31,
    "start_time": "2022-02-16T15:30:05.855Z"
   },
   {
    "duration": 12,
    "start_time": "2022-02-16T15:30:05.888Z"
   },
   {
    "duration": 17,
    "start_time": "2022-02-16T15:30:05.901Z"
   },
   {
    "duration": 19,
    "start_time": "2022-02-16T15:30:05.919Z"
   },
   {
    "duration": 14,
    "start_time": "2022-02-16T15:30:05.939Z"
   },
   {
    "duration": 21,
    "start_time": "2022-02-16T15:30:05.954Z"
   },
   {
    "duration": 11,
    "start_time": "2022-02-16T15:30:05.978Z"
   },
   {
    "duration": 18,
    "start_time": "2022-02-16T15:30:05.991Z"
   },
   {
    "duration": 24,
    "start_time": "2022-02-16T15:30:06.011Z"
   },
   {
    "duration": 31,
    "start_time": "2022-02-16T15:30:06.037Z"
   },
   {
    "duration": 289,
    "start_time": "2022-02-16T15:30:06.070Z"
   },
   {
    "duration": 9,
    "start_time": "2022-02-16T15:30:06.360Z"
   },
   {
    "duration": 7,
    "start_time": "2022-02-16T15:30:06.371Z"
   },
   {
    "duration": 1218,
    "start_time": "2022-02-16T15:30:06.380Z"
   },
   {
    "duration": 6,
    "start_time": "2022-02-16T15:30:07.600Z"
   },
   {
    "duration": 18,
    "start_time": "2022-02-16T15:30:07.607Z"
   },
   {
    "duration": 8,
    "start_time": "2022-02-16T15:30:07.627Z"
   },
   {
    "duration": 397,
    "start_time": "2022-02-16T15:30:07.636Z"
   },
   {
    "duration": 29,
    "start_time": "2022-02-16T15:30:08.035Z"
   },
   {
    "duration": 240,
    "start_time": "2022-02-16T15:30:24.767Z"
   },
   {
    "duration": 17,
    "start_time": "2022-02-16T15:44:41.471Z"
   },
   {
    "duration": 621,
    "start_time": "2022-02-24T15:43:27.159Z"
   },
   {
    "duration": 41,
    "start_time": "2022-02-24T15:43:27.782Z"
   },
   {
    "duration": 27,
    "start_time": "2022-02-24T15:43:27.824Z"
   },
   {
    "duration": 11,
    "start_time": "2022-02-24T15:43:27.852Z"
   },
   {
    "duration": 6,
    "start_time": "2022-02-24T15:43:27.865Z"
   },
   {
    "duration": 4,
    "start_time": "2022-02-24T15:43:27.872Z"
   },
   {
    "duration": 4,
    "start_time": "2022-02-24T15:43:27.878Z"
   },
   {
    "duration": 9,
    "start_time": "2022-02-24T15:43:27.884Z"
   },
   {
    "duration": 5,
    "start_time": "2022-02-24T15:43:27.895Z"
   },
   {
    "duration": 39,
    "start_time": "2022-02-24T15:43:27.901Z"
   },
   {
    "duration": 13,
    "start_time": "2022-02-24T15:43:27.941Z"
   },
   {
    "duration": 5,
    "start_time": "2022-02-24T15:43:27.955Z"
   },
   {
    "duration": 263,
    "start_time": "2022-02-24T15:43:27.961Z"
   },
   {
    "duration": 14,
    "start_time": "2022-02-24T15:43:28.226Z"
   },
   {
    "duration": 8,
    "start_time": "2022-02-24T15:43:28.241Z"
   },
   {
    "duration": 1135,
    "start_time": "2022-02-24T15:43:28.250Z"
   },
   {
    "duration": 5,
    "start_time": "2022-02-24T15:43:29.387Z"
   },
   {
    "duration": 21,
    "start_time": "2022-02-24T15:43:29.394Z"
   },
   {
    "duration": 16,
    "start_time": "2022-02-24T15:43:29.417Z"
   },
   {
    "duration": 355,
    "start_time": "2022-02-24T15:43:29.434Z"
   },
   {
    "duration": 16,
    "start_time": "2022-02-24T15:43:29.790Z"
   },
   {
    "duration": 228,
    "start_time": "2022-02-24T15:43:29.808Z"
   },
   {
    "duration": 5,
    "start_time": "2022-02-24T15:43:30.039Z"
   },
   {
    "duration": 242,
    "start_time": "2022-02-24T15:43:30.046Z"
   },
   {
    "duration": 5,
    "start_time": "2022-02-24T15:43:30.290Z"
   },
   {
    "duration": 323,
    "start_time": "2022-02-24T15:43:30.297Z"
   },
   {
    "duration": 12,
    "start_time": "2022-02-24T15:43:30.622Z"
   },
   {
    "duration": 16,
    "start_time": "2022-02-24T15:43:30.636Z"
   },
   {
    "duration": 304,
    "start_time": "2022-02-24T15:43:30.654Z"
   },
   {
    "duration": 5,
    "start_time": "2022-02-24T15:43:30.960Z"
   },
   {
    "duration": 297,
    "start_time": "2022-02-24T15:43:30.966Z"
   },
   {
    "duration": 4,
    "start_time": "2022-02-24T15:43:31.264Z"
   },
   {
    "duration": 273,
    "start_time": "2022-02-24T15:43:31.269Z"
   },
   {
    "duration": 4,
    "start_time": "2022-02-24T15:43:31.544Z"
   },
   {
    "duration": 273,
    "start_time": "2022-02-24T15:43:31.550Z"
   },
   {
    "duration": 10,
    "start_time": "2022-02-24T15:43:31.824Z"
   },
   {
    "duration": 351,
    "start_time": "2022-02-24T15:43:31.835Z"
   },
   {
    "duration": 4,
    "start_time": "2022-02-24T15:43:32.188Z"
   },
   {
    "duration": 6,
    "start_time": "2022-02-24T15:43:32.193Z"
   },
   {
    "duration": 13,
    "start_time": "2022-02-24T15:43:32.200Z"
   },
   {
    "duration": 22,
    "start_time": "2022-02-24T15:43:32.215Z"
   },
   {
    "duration": 8,
    "start_time": "2022-02-24T15:43:32.239Z"
   },
   {
    "duration": 8,
    "start_time": "2022-02-24T15:43:32.248Z"
   },
   {
    "duration": 7,
    "start_time": "2022-02-24T15:43:32.258Z"
   },
   {
    "duration": 8,
    "start_time": "2022-02-24T15:43:32.267Z"
   },
   {
    "duration": 327,
    "start_time": "2022-02-24T15:43:32.276Z"
   },
   {
    "duration": -316,
    "start_time": "2022-02-24T15:43:32.920Z"
   },
   {
    "duration": -327,
    "start_time": "2022-02-24T15:43:32.932Z"
   },
   {
    "duration": -330,
    "start_time": "2022-02-24T15:43:32.936Z"
   },
   {
    "duration": -334,
    "start_time": "2022-02-24T15:43:32.941Z"
   },
   {
    "duration": -337,
    "start_time": "2022-02-24T15:43:32.945Z"
   },
   {
    "duration": -341,
    "start_time": "2022-02-24T15:43:32.950Z"
   },
   {
    "duration": -344,
    "start_time": "2022-02-24T15:43:32.954Z"
   },
   {
    "duration": -348,
    "start_time": "2022-02-24T15:43:32.959Z"
   },
   {
    "duration": -351,
    "start_time": "2022-02-24T15:43:32.963Z"
   },
   {
    "duration": -355,
    "start_time": "2022-02-24T15:43:32.968Z"
   },
   {
    "duration": -358,
    "start_time": "2022-02-24T15:43:32.972Z"
   },
   {
    "duration": -362,
    "start_time": "2022-02-24T15:43:32.976Z"
   },
   {
    "duration": -364,
    "start_time": "2022-02-24T15:43:32.980Z"
   },
   {
    "duration": -368,
    "start_time": "2022-02-24T15:43:32.985Z"
   },
   {
    "duration": -371,
    "start_time": "2022-02-24T15:43:32.989Z"
   },
   {
    "duration": -375,
    "start_time": "2022-02-24T15:43:32.994Z"
   },
   {
    "duration": 4,
    "start_time": "2022-02-24T15:44:08.175Z"
   },
   {
    "duration": 3,
    "start_time": "2022-02-24T15:44:10.073Z"
   },
   {
    "duration": 249,
    "start_time": "2022-02-24T15:44:10.538Z"
   },
   {
    "duration": 3,
    "start_time": "2022-02-24T15:44:10.972Z"
   },
   {
    "duration": 3,
    "start_time": "2022-02-24T15:44:18.731Z"
   },
   {
    "duration": 3,
    "start_time": "2022-02-24T15:44:19.411Z"
   },
   {
    "duration": 3,
    "start_time": "2022-02-24T15:44:22.195Z"
   },
   {
    "duration": 3,
    "start_time": "2022-02-24T15:44:22.574Z"
   },
   {
    "duration": 3,
    "start_time": "2022-02-24T15:44:26.087Z"
   },
   {
    "duration": 3,
    "start_time": "2022-02-24T15:44:26.507Z"
   },
   {
    "duration": 6,
    "start_time": "2022-02-24T15:44:27.154Z"
   },
   {
    "duration": 6,
    "start_time": "2022-02-24T15:44:28.747Z"
   },
   {
    "duration": 6,
    "start_time": "2022-02-24T15:44:29.191Z"
   },
   {
    "duration": 6,
    "start_time": "2022-02-24T15:44:29.476Z"
   },
   {
    "duration": 581,
    "start_time": "2022-02-24T15:44:30.180Z"
   },
   {
    "duration": 17,
    "start_time": "2022-02-24T15:44:30.762Z"
   },
   {
    "duration": 361,
    "start_time": "2022-02-24T15:44:32.191Z"
   },
   {
    "duration": 8,
    "start_time": "2022-02-24T15:44:32.554Z"
   },
   {
    "duration": 9,
    "start_time": "2022-02-24T15:44:34.490Z"
   }
  ],
  "kernelspec": {
   "display_name": "Python 3",
   "language": "python",
   "name": "python3"
  },
  "language_info": {
   "codemirror_mode": {
    "name": "ipython",
    "version": 3
   },
   "file_extension": ".py",
   "mimetype": "text/x-python",
   "name": "python",
   "nbconvert_exporter": "python",
   "pygments_lexer": "ipython3",
   "version": "3.7.8"
  },
  "toc": {
   "base_numbering": 1,
   "nav_menu": {},
   "number_sections": true,
   "sideBar": true,
   "skip_h1_title": true,
   "title_cell": "Table of Contents",
   "title_sidebar": "Contents",
   "toc_cell": false,
   "toc_position": {},
   "toc_section_display": true,
   "toc_window_display": false
  }
 },
 "nbformat": 4,
 "nbformat_minor": 2
}
